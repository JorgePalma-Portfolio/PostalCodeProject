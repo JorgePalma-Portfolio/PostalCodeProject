{
 "cells": [
  {
   "cell_type": "code",
   "execution_count": 3,
   "id": "8e6878c8",
   "metadata": {},
   "outputs": [],
   "source": [
    "import pandas as pd"
   ]
  },
  {
   "cell_type": "code",
   "execution_count": 4,
   "id": "a4953d5c",
   "metadata": {},
   "outputs": [],
   "source": [
    "# define documents\n",
    "data = pd.read_csv('data/zipcodegeodata_ver3.csv',dtype={\n",
    "                   'A': str,\n",
    "                   'B': str,\n",
    "                   'C': str,\n",
    "                   'D': str,\n",
    "                   'E': str,\n",
    "                   'F': str,\n",
    "                   'G': str,\n",
    "                   'latitude': float,\n",
    "                   'longitude':float})\n",
    "\n",
    "data['A'] = data['A'].str.zfill(5)"
   ]
  },
  {
   "cell_type": "code",
   "execution_count": 5,
   "id": "2c97a0da",
   "metadata": {},
   "outputs": [],
   "source": [
    "permutation = pd.read_csv('data/permutations.csv',dtype={'c1': str,'c2': str,'c3': str})"
   ]
  },
  {
   "cell_type": "code",
   "execution_count": 6,
   "id": "209a3b8b",
   "metadata": {
    "scrolled": true
   },
   "outputs": [],
   "source": [
    "with open('data/zipcodedata.csv', 'w', encoding='utf-8') as f:\n",
    "    f.write('data,lat,lon')\n",
    "    f.write('\\n')\n",
    "    for index_data, row_data in data.iterrows():\n",
    "        for index_permutation, row_p in permutation.iterrows():\n",
    "            strow = row_data[row_p[0]]+' '+row_data[row_p[1]]+' '+row_data[row_p[2]]\n",
    "            f.write(strow)\n",
    "            f.write(',')\n",
    "            f.write(str(row_data[7]))\n",
    "            f.write(',')\n",
    "            f.write(str(row_data[8]))\n",
    "            f.write('\\n')"
   ]
  },
  {
   "cell_type": "code",
   "execution_count": 7,
   "id": "f7d1a618",
   "metadata": {},
   "outputs": [],
   "source": [
    "f.close()"
   ]
  },
  {
   "cell_type": "code",
   "execution_count": null,
   "id": "7507109c",
   "metadata": {},
   "outputs": [],
   "source": []
  }
 ],
 "metadata": {
  "kernelspec": {
   "display_name": "Python 3 (ipykernel)",
   "language": "python",
   "name": "python3"
  },
  "language_info": {
   "codemirror_mode": {
    "name": "ipython",
    "version": 3
   },
   "file_extension": ".py",
   "mimetype": "text/x-python",
   "name": "python",
   "nbconvert_exporter": "python",
   "pygments_lexer": "ipython3",
   "version": "3.10.9"
  }
 },
 "nbformat": 4,
 "nbformat_minor": 5
}
