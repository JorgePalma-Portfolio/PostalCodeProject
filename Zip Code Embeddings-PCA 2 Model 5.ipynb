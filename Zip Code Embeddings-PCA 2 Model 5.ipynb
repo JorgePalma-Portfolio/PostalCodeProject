{
 "cells": [
  {
   "cell_type": "code",
   "execution_count": 1,
   "id": "6661cf68",
   "metadata": {},
   "outputs": [
    {
     "data": {
      "text/html": [
       "<style>.container { width:90% !important; }</style>"
      ],
      "text/plain": [
       "<IPython.core.display.HTML object>"
      ]
     },
     "metadata": {},
     "output_type": "display_data"
    },
    {
     "data": {
      "text/html": [
       "<style>div.output_area{max-height:10000px;overflow:scroll;}</style>"
      ],
      "text/plain": [
       "<IPython.core.display.HTML object>"
      ]
     },
     "metadata": {},
     "output_type": "display_data"
    },
    {
     "name": "stdout",
     "output_type": "stream",
     "text": [
      "Python: 3.9.12 (main, Apr  4 2022, 05:22:27) [MSC v.1916 64 bit (AMD64)]\n",
      "Notebook Last Run Initiated: 2022-06-13 21:03:02.463322\n"
     ]
    }
   ],
   "source": [
    "%load_ext autoreload\n",
    "%autoreload\n",
    "\n",
    "## This expands a notebook to full width\n",
    "from IPython.display import display, HTML\n",
    "\n",
    "display(HTML(\"<style>.container { width:90% !important; }</style>\"))\n",
    "display(HTML(\"\"\"<style>div.output_area{max-height:10000px;overflow:scroll;}</style>\"\"\"))\n",
    "## Show Python Version\n",
    "import sys\n",
    "print(\"Python: {0}\".format(sys.version))\n",
    "\n",
    "## Show Current Time\n",
    "import datetime as dt\n",
    "start = dt.datetime.now()\n",
    "print(\"Notebook Last Run Initiated: \"+str(start))"
   ]
  },
  {
   "cell_type": "code",
   "execution_count": 2,
   "id": "8108e7c5",
   "metadata": {},
   "outputs": [],
   "source": [
    "import numpy as np\n",
    "import pandas as pd\n",
    "\n",
    "import tensorflow as tf\n",
    "\n",
    "from tensorflow.keras.preprocessing.text import one_hot\n",
    "from tensorflow.keras.preprocessing.sequence import pad_sequences\n",
    "from tensorflow.keras.models import Sequential\n",
    "from tensorflow.keras.layers import Dense\n",
    "from tensorflow.keras.layers import Flatten\n",
    "from tensorflow.keras.layers import Embedding\n",
    "from tensorflow.keras.preprocessing.text import Tokenizer\n",
    "from tensorflow.keras.models import load_model\n",
    "from tensorflow.keras.models import Model\n",
    "\n",
    "from sklearn.metrics import mean_squared_error\n",
    "from sklearn.model_selection import GroupKFold\n",
    "from sklearn.metrics.pairwise import cosine_similarity\n",
    "\n",
    "from scipy.spatial.distance import cdist\n",
    "\n",
    "import matplotlib.pyplot as plt\n",
    "from sklearn.decomposition import PCA\n",
    "from sklearn.preprocessing import StandardScaler\n",
    "from sklearn.manifold import TSNE\n",
    "%matplotlib inline"
   ]
  },
  {
   "cell_type": "code",
   "execution_count": 73,
   "id": "01c52b98",
   "metadata": {},
   "outputs": [],
   "source": [
    "# Input vector, returns nearest word(s)\n",
    "def Cosine_Similarity(word,weight,word_to_index,vocab_size,index_to_word):\n",
    "    \n",
    "    #Get the index of the word from the dictionary\n",
    "    index = word_to_index[word]\n",
    "    \n",
    "    #Get the correspondin weights for the word\n",
    "    word_vector_1 = weight[index]\n",
    "    \n",
    "    \n",
    "    word_similarity = {}\n",
    "\n",
    "    for i in range(vocab_size):\n",
    "        \n",
    "        j = i\n",
    "        \n",
    "        word_vector_2 = weight[j]\n",
    "        \n",
    "        theta_sum = np.dot(word_vector_1, word_vector_2)\n",
    "        theta_den = np.linalg.norm(word_vector_1) * np.linalg.norm(word_vector_2)\n",
    "        theta = theta_sum / theta_den\n",
    "        \n",
    "        word = index_to_word[j]\n",
    "        word_similarity[word] = theta\n",
    "    \n",
    "    return word_similarity #words_sorted"
   ]
  },
  {
   "cell_type": "code",
   "execution_count": 4,
   "id": "655a7376",
   "metadata": {},
   "outputs": [],
   "source": [
    "# define documents\n",
    "data = pd.read_csv('data\\ZIP2LATLON_VER1.csv',dtype={\n",
    "                   'postal_code': str,\n",
    "                   'country_code': str,\n",
    "                   'place': str,\n",
    "                   'state': str,\n",
    "                   'statecode': str,\n",
    "                   'province_or_county': str,\n",
    "                   'province_or_countycode': str,\n",
    "                   'latitude': float,\n",
    "                   'longitude': float})\n",
    "\n",
    "data['postal_code'] = data['postal_code'].str.zfill(5)"
   ]
  },
  {
   "cell_type": "code",
   "execution_count": 5,
   "id": "3eefd86d",
   "metadata": {},
   "outputs": [],
   "source": [
    "#data = data.fillna(0)"
   ]
  },
  {
   "cell_type": "code",
   "execution_count": 6,
   "id": "6f0c549a",
   "metadata": {},
   "outputs": [],
   "source": [
    "target = data[['latitude','longitude']]\n",
    "data = data[['postal_code','country_code','place','state','statecode','province_or_county','province_or_countycode']]"
   ]
  },
  {
   "cell_type": "code",
   "execution_count": 7,
   "id": "f01bd22c",
   "metadata": {},
   "outputs": [],
   "source": [
    "target = StandardScaler().fit_transform(target.values)"
   ]
  },
  {
   "cell_type": "code",
   "execution_count": 8,
   "id": "4a1116a8",
   "metadata": {},
   "outputs": [],
   "source": [
    "#data['province_or_county'].replace([0], 'NONE ', inplace=True)"
   ]
  },
  {
   "cell_type": "code",
   "execution_count": 9,
   "id": "26da36c4",
   "metadata": {},
   "outputs": [],
   "source": [
    "docs = data.iloc[:,0:6].apply(lambda x: ' '.join(x), axis=1)"
   ]
  },
  {
   "cell_type": "code",
   "execution_count": 10,
   "id": "f6f6cde1",
   "metadata": {},
   "outputs": [],
   "source": [
    "# integer encode the documents\n",
    "vocab_size = 61837\n",
    "# create the tokenizer\n",
    "t = Tokenizer()\n",
    "# fit the tokenizer on the documents\n",
    "t.fit_on_texts(docs)"
   ]
  },
  {
   "cell_type": "code",
   "execution_count": 11,
   "id": "969994d8",
   "metadata": {},
   "outputs": [],
   "source": [
    "encoded_docs = t.texts_to_sequences(docs)"
   ]
  },
  {
   "cell_type": "code",
   "execution_count": 12,
   "id": "389e7801",
   "metadata": {},
   "outputs": [],
   "source": [
    "# pad documents to a max length of 7 words\n",
    "max_length = 6\n",
    "padded_docs = pad_sequences(encoded_docs, maxlen=max_length, padding='post')"
   ]
  },
  {
   "cell_type": "code",
   "execution_count": 13,
   "id": "3487f460",
   "metadata": {},
   "outputs": [],
   "source": [
    "def BuildModel(learning_rate):\n",
    "        \n",
    "    input_text  = tf.keras.layers.Input(shape=(max_length,),name='text')\n",
    "\n",
    "    x = tf.keras.layers.Embedding(vocab_size, 20, input_length=max_length,name='embeddings')(input_text)\n",
    "    x = tf.keras.layers.Flatten()(x)\n",
    "    x = tf.keras.layers.Dense(40, activation='relu',name='act01')(x)\n",
    "    output = tf.keras.layers.Dense(1, activation='linear',name='linear_output')(x)\n",
    "    \n",
    "    model = Model(input_text,output)\n",
    "    \n",
    "    model.compile(loss=\"mean_squared_error\", optimizer=tf.keras.optimizers.Adam(learning_rate = learning_rate))\n",
    "    return model"
   ]
  },
  {
   "cell_type": "code",
   "execution_count": 14,
   "id": "ff34bf44",
   "metadata": {
    "scrolled": true
   },
   "outputs": [
    {
     "name": "stdout",
     "output_type": "stream",
     "text": [
      "Epoch 1/250\n",
      "161/161 - 1s - loss: 0.9944 - lr: 0.0010 - 1s/epoch - 8ms/step\n",
      "Epoch 2/250\n",
      "161/161 - 1s - loss: 0.7898 - lr: 0.0010 - 694ms/epoch - 4ms/step\n",
      "Epoch 3/250\n",
      "161/161 - 1s - loss: 0.6410 - lr: 0.0010 - 680ms/epoch - 4ms/step\n",
      "Epoch 4/250\n",
      "161/161 - 1s - loss: 0.6063 - lr: 0.0010 - 690ms/epoch - 4ms/step\n",
      "Epoch 5/250\n",
      "161/161 - 1s - loss: 0.5858 - lr: 0.0010 - 668ms/epoch - 4ms/step\n",
      "Epoch 6/250\n",
      "161/161 - 1s - loss: 0.5807 - lr: 0.0010 - 682ms/epoch - 4ms/step\n",
      "Epoch 7/250\n",
      "161/161 - 1s - loss: 0.5744 - lr: 0.0010 - 675ms/epoch - 4ms/step\n",
      "Epoch 8/250\n",
      "161/161 - 1s - loss: 0.5800 - lr: 0.0010 - 671ms/epoch - 4ms/step\n",
      "Epoch 9/250\n",
      "161/161 - 1s - loss: 0.5950 - lr: 0.0010 - 644ms/epoch - 4ms/step\n",
      "Epoch 10/250\n",
      "161/161 - 1s - loss: 0.5727 - lr: 0.0010 - 684ms/epoch - 4ms/step\n",
      "Epoch 11/250\n",
      "161/161 - 1s - loss: 0.5635 - lr: 0.0010 - 664ms/epoch - 4ms/step\n",
      "Epoch 12/250\n",
      "161/161 - 1s - loss: 0.5587 - lr: 0.0010 - 667ms/epoch - 4ms/step\n",
      "Epoch 13/250\n",
      "161/161 - 1s - loss: 0.5564 - lr: 0.0010 - 669ms/epoch - 4ms/step\n",
      "Epoch 14/250\n",
      "161/161 - 1s - loss: 0.5514 - lr: 0.0010 - 673ms/epoch - 4ms/step\n",
      "Epoch 15/250\n",
      "161/161 - 1s - loss: 0.5530 - lr: 0.0010 - 653ms/epoch - 4ms/step\n",
      "Epoch 16/250\n",
      "161/161 - 1s - loss: 0.5530 - lr: 0.0010 - 653ms/epoch - 4ms/step\n",
      "Epoch 17/250\n",
      "161/161 - 1s - loss: 0.5639 - lr: 0.0010 - 656ms/epoch - 4ms/step\n",
      "Epoch 18/250\n",
      "161/161 - 1s - loss: 0.5553 - lr: 0.0010 - 646ms/epoch - 4ms/step\n",
      "Epoch 19/250\n",
      "161/161 - 1s - loss: 0.5553 - lr: 0.0010 - 650ms/epoch - 4ms/step\n",
      "Epoch 20/250\n",
      "161/161 - 1s - loss: 0.5567 - lr: 4.0000e-04 - 651ms/epoch - 4ms/step\n",
      "Epoch 21/250\n",
      "161/161 - 1s - loss: 0.5445 - lr: 4.0000e-04 - 670ms/epoch - 4ms/step\n",
      "Epoch 22/250\n",
      "161/161 - 1s - loss: 0.5418 - lr: 4.0000e-04 - 670ms/epoch - 4ms/step\n",
      "Epoch 23/250\n",
      "161/161 - 1s - loss: 0.5404 - lr: 4.0000e-04 - 700ms/epoch - 4ms/step\n",
      "Epoch 24/250\n",
      "161/161 - 1s - loss: 0.5400 - lr: 4.0000e-04 - 709ms/epoch - 4ms/step\n",
      "Epoch 25/250\n",
      "161/161 - 1s - loss: 0.5398 - lr: 4.0000e-04 - 708ms/epoch - 4ms/step\n",
      "Epoch 26/250\n",
      "161/161 - 1s - loss: 0.5397 - lr: 4.0000e-04 - 683ms/epoch - 4ms/step\n",
      "Epoch 27/250\n",
      "161/161 - 1s - loss: 0.5396 - lr: 4.0000e-04 - 674ms/epoch - 4ms/step\n",
      "Epoch 28/250\n",
      "161/161 - 1s - loss: 0.5395 - lr: 4.0000e-04 - 666ms/epoch - 4ms/step\n",
      "Epoch 29/250\n",
      "161/161 - 1s - loss: 0.5394 - lr: 1.6000e-04 - 673ms/epoch - 4ms/step\n",
      "Epoch 30/250\n",
      "161/161 - 1s - loss: 0.5394 - lr: 1.6000e-04 - 668ms/epoch - 4ms/step\n",
      "Epoch 31/250\n",
      "161/161 - 1s - loss: 0.5394 - lr: 1.6000e-04 - 674ms/epoch - 4ms/step\n",
      "Epoch 32/250\n",
      "161/161 - 1s - loss: 0.5393 - lr: 1.6000e-04 - 670ms/epoch - 4ms/step\n",
      "Epoch 33/250\n",
      "161/161 - 1s - loss: 0.5393 - lr: 1.6000e-04 - 682ms/epoch - 4ms/step\n",
      "Epoch 34/250\n",
      "161/161 - 1s - loss: 0.5393 - lr: 1.6000e-04 - 670ms/epoch - 4ms/step\n",
      "Epoch 35/250\n",
      "161/161 - 1s - loss: 0.5392 - lr: 1.6000e-04 - 674ms/epoch - 4ms/step\n",
      "Epoch 36/250\n",
      "161/161 - 1s - loss: 0.5392 - lr: 1.6000e-04 - 667ms/epoch - 4ms/step\n",
      "Epoch 37/250\n",
      "161/161 - 1s - loss: 0.5391 - lr: 1.6000e-04 - 668ms/epoch - 4ms/step\n",
      "Epoch 38/250\n",
      "161/161 - 1s - loss: 0.5391 - lr: 6.4000e-05 - 695ms/epoch - 4ms/step\n",
      "Epoch 39/250\n",
      "161/161 - 1s - loss: 0.5391 - lr: 6.4000e-05 - 669ms/epoch - 4ms/step\n",
      "Epoch 40/250\n",
      "161/161 - 1s - loss: 0.5391 - lr: 6.4000e-05 - 672ms/epoch - 4ms/step\n",
      "Epoch 41/250\n",
      "161/161 - 1s - loss: 0.5390 - lr: 6.4000e-05 - 674ms/epoch - 4ms/step\n",
      "Epoch 42/250\n",
      "161/161 - 1s - loss: 0.5390 - lr: 6.4000e-05 - 688ms/epoch - 4ms/step\n",
      "Epoch 43/250\n",
      "161/161 - 1s - loss: 0.5390 - lr: 2.5600e-05 - 664ms/epoch - 4ms/step\n",
      "Epoch 44/250\n",
      "161/161 - 1s - loss: 0.5390 - lr: 2.5600e-05 - 665ms/epoch - 4ms/step\n",
      "Epoch 45/250\n",
      "161/161 - 1s - loss: 0.5390 - lr: 2.5600e-05 - 671ms/epoch - 4ms/step\n",
      "Epoch 46/250\n",
      "161/161 - 1s - loss: 0.5390 - lr: 2.5600e-05 - 675ms/epoch - 4ms/step\n",
      "Epoch 47/250\n",
      "161/161 - 1s - loss: 0.5390 - lr: 2.5600e-05 - 696ms/epoch - 4ms/step\n",
      "Epoch 48/250\n",
      "161/161 - 1s - loss: 0.5390 - lr: 1.0240e-05 - 675ms/epoch - 4ms/step\n",
      "Epoch 49/250\n",
      "161/161 - 1s - loss: 0.5390 - lr: 1.0240e-05 - 670ms/epoch - 4ms/step\n",
      "Epoch 50/250\n",
      "161/161 - 1s - loss: 0.5390 - lr: 1.0240e-05 - 671ms/epoch - 4ms/step\n",
      "Epoch 51/250\n",
      "161/161 - 1s - loss: 0.5390 - lr: 1.0240e-05 - 669ms/epoch - 4ms/step\n",
      "Epoch 52/250\n",
      "161/161 - 1s - loss: 0.5389 - lr: 1.0240e-05 - 676ms/epoch - 4ms/step\n",
      "Epoch 53/250\n",
      "161/161 - 1s - loss: 0.5389 - lr: 4.0960e-06 - 670ms/epoch - 4ms/step\n",
      "Epoch 54/250\n",
      "161/161 - 1s - loss: 0.5389 - lr: 4.0960e-06 - 670ms/epoch - 4ms/step\n",
      "Epoch 55/250\n",
      "161/161 - 1s - loss: 0.5389 - lr: 4.0960e-06 - 660ms/epoch - 4ms/step\n",
      "Epoch 56/250\n",
      "161/161 - 1s - loss: 0.5389 - lr: 4.0960e-06 - 675ms/epoch - 4ms/step\n",
      "Epoch 57/250\n",
      "161/161 - 1s - loss: 0.5389 - lr: 4.0960e-06 - 687ms/epoch - 4ms/step\n",
      "Epoch 58/250\n",
      "161/161 - 1s - loss: 0.5389 - lr: 1.6384e-06 - 692ms/epoch - 4ms/step\n",
      "Epoch 59/250\n",
      "161/161 - 1s - loss: 0.5389 - lr: 1.6384e-06 - 679ms/epoch - 4ms/step\n",
      "Epoch 60/250\n",
      "161/161 - 1s - loss: 0.5389 - lr: 1.6384e-06 - 674ms/epoch - 4ms/step\n",
      "Epoch 61/250\n",
      "161/161 - 1s - loss: 0.5389 - lr: 1.6384e-06 - 670ms/epoch - 4ms/step\n",
      "Epoch 62/250\n",
      "161/161 - 1s - loss: 0.5389 - lr: 1.6384e-06 - 679ms/epoch - 4ms/step\n",
      "Epoch 63/250\n",
      "161/161 - 1s - loss: 0.5389 - lr: 6.5536e-07 - 674ms/epoch - 4ms/step\n",
      "Epoch 64/250\n",
      "161/161 - 1s - loss: 0.5389 - lr: 6.5536e-07 - 666ms/epoch - 4ms/step\n",
      "Epoch 65/250\n",
      "161/161 - 1s - loss: 0.5389 - lr: 6.5536e-07 - 673ms/epoch - 4ms/step\n",
      "Epoch 66/250\n",
      "161/161 - 1s - loss: 0.5389 - lr: 6.5536e-07 - 671ms/epoch - 4ms/step\n",
      "Epoch 67/250\n",
      "161/161 - 1s - loss: 0.5389 - lr: 6.5536e-07 - 669ms/epoch - 4ms/step\n",
      "Epoch 68/250\n",
      "161/161 - 1s - loss: 0.5389 - lr: 2.6214e-07 - 671ms/epoch - 4ms/step\n",
      "Epoch 69/250\n",
      "161/161 - 1s - loss: 0.5389 - lr: 2.6214e-07 - 665ms/epoch - 4ms/step\n",
      "Epoch 70/250\n",
      "161/161 - 1s - loss: 0.5389 - lr: 2.6214e-07 - 682ms/epoch - 4ms/step\n",
      "Epoch 71/250\n",
      "161/161 - 1s - loss: 0.5389 - lr: 2.6214e-07 - 709ms/epoch - 4ms/step\n",
      "Epoch 72/250\n",
      "161/161 - 1s - loss: 0.5389 - lr: 2.6214e-07 - 668ms/epoch - 4ms/step\n",
      "Epoch 73/250\n",
      "161/161 - 1s - loss: 0.5389 - lr: 1.0486e-07 - 679ms/epoch - 4ms/step\n",
      "Epoch 74/250\n",
      "161/161 - 1s - loss: 0.5389 - lr: 1.0486e-07 - 685ms/epoch - 4ms/step\n",
      "Epoch 75/250\n",
      "161/161 - 1s - loss: 0.5389 - lr: 1.0486e-07 - 675ms/epoch - 4ms/step\n",
      "Epoch 76/250\n",
      "161/161 - 1s - loss: 0.5389 - lr: 1.0486e-07 - 671ms/epoch - 4ms/step\n",
      "Epoch 77/250\n",
      "161/161 - 1s - loss: 0.5389 - lr: 1.0486e-07 - 652ms/epoch - 4ms/step\n",
      "Epoch 78/250\n",
      "161/161 - 1s - loss: 0.5389 - lr: 4.1943e-08 - 675ms/epoch - 4ms/step\n",
      "Epoch 79/250\n",
      "161/161 - 1s - loss: 0.5389 - lr: 4.1943e-08 - 667ms/epoch - 4ms/step\n",
      "Epoch 80/250\n",
      "161/161 - 1s - loss: 0.5389 - lr: 4.1943e-08 - 702ms/epoch - 4ms/step\n",
      "Epoch 81/250\n",
      "161/161 - 1s - loss: 0.5389 - lr: 4.1943e-08 - 666ms/epoch - 4ms/step\n",
      "Epoch 82/250\n",
      "161/161 - 1s - loss: 0.5389 - lr: 4.1943e-08 - 663ms/epoch - 4ms/step\n",
      "Epoch 83/250\n",
      "161/161 - 1s - loss: 0.5389 - lr: 1.6777e-08 - 649ms/epoch - 4ms/step\n",
      "Epoch 84/250\n",
      "161/161 - 1s - loss: 0.5389 - lr: 1.6777e-08 - 647ms/epoch - 4ms/step\n",
      "Epoch 85/250\n",
      "161/161 - 1s - loss: 0.5389 - lr: 1.6777e-08 - 654ms/epoch - 4ms/step\n",
      "Epoch 86/250\n",
      "161/161 - 1s - loss: 0.5389 - lr: 1.6777e-08 - 672ms/epoch - 4ms/step\n",
      "Epoch 87/250\n",
      "161/161 - 1s - loss: 0.5389 - lr: 1.6777e-08 - 648ms/epoch - 4ms/step\n",
      "Epoch 88/250\n",
      "161/161 - 1s - loss: 0.5389 - lr: 6.7109e-09 - 644ms/epoch - 4ms/step\n",
      "Epoch 89/250\n",
      "161/161 - 1s - loss: 0.5389 - lr: 6.7109e-09 - 646ms/epoch - 4ms/step\n",
      "Epoch 90/250\n",
      "161/161 - 1s - loss: 0.5389 - lr: 6.7109e-09 - 643ms/epoch - 4ms/step\n",
      "Epoch 91/250\n",
      "161/161 - 1s - loss: 0.5389 - lr: 6.7109e-09 - 652ms/epoch - 4ms/step\n",
      "Epoch 92/250\n",
      "161/161 - 1s - loss: 0.5389 - lr: 6.7109e-09 - 665ms/epoch - 4ms/step\n",
      "Epoch 93/250\n",
      "161/161 - 1s - loss: 0.5389 - lr: 2.6844e-09 - 675ms/epoch - 4ms/step\n",
      "Epoch 94/250\n",
      "161/161 - 1s - loss: 0.5389 - lr: 2.6844e-09 - 696ms/epoch - 4ms/step\n",
      "Epoch 95/250\n",
      "161/161 - 1s - loss: 0.5389 - lr: 2.6844e-09 - 724ms/epoch - 4ms/step\n",
      "Epoch 96/250\n",
      "161/161 - 1s - loss: 0.5389 - lr: 2.6844e-09 - 697ms/epoch - 4ms/step\n",
      "Epoch 97/250\n",
      "161/161 - 1s - loss: 0.5389 - lr: 2.6844e-09 - 710ms/epoch - 4ms/step\n",
      "Epoch 98/250\n",
      "161/161 - 1s - loss: 0.5389 - lr: 1.0737e-09 - 697ms/epoch - 4ms/step\n",
      "Epoch 99/250\n",
      "161/161 - 1s - loss: 0.5389 - lr: 1.0737e-09 - 683ms/epoch - 4ms/step\n",
      "Epoch 100/250\n",
      "161/161 - 1s - loss: 0.5389 - lr: 1.0737e-09 - 663ms/epoch - 4ms/step\n"
     ]
    },
    {
     "name": "stdout",
     "output_type": "stream",
     "text": [
      "Epoch 101/250\n",
      "161/161 - 1s - loss: 0.5389 - lr: 1.0737e-09 - 660ms/epoch - 4ms/step\n",
      "Epoch 102/250\n",
      "161/161 - 1s - loss: 0.5389 - lr: 1.0737e-09 - 647ms/epoch - 4ms/step\n",
      "Epoch 103/250\n",
      "161/161 - 1s - loss: 0.5389 - lr: 4.2950e-10 - 657ms/epoch - 4ms/step\n"
     ]
    },
    {
     "data": {
      "text/plain": [
       "<keras.callbacks.History at 0x22192a30ee0>"
      ]
     },
     "execution_count": 14,
     "metadata": {},
     "output_type": "execute_result"
    }
   ],
   "source": [
    "learning_rate = 1e-3\n",
    "n_epochs = 250\n",
    "\n",
    "model = BuildModel(learning_rate)\n",
    "        \n",
    "ckp_path = f'models/Model_05.hdf5'\n",
    "\n",
    "cb_lr_schedule = tf.keras.callbacks.ReduceLROnPlateau(monitor = 'loss', factor = 0.4, patience = 5, verbose = 0, min_delta = 0.001, mode = 'min')\n",
    "        \n",
    "es = tf.keras.callbacks.EarlyStopping(monitor='loss', mode='min', verbose=0, patience=10, restore_best_weights=True)\n",
    "mc = tf.keras.callbacks.ModelCheckpoint(ckp_path, monitor='loss', mode='min', verbose=0, save_best_only=True, save_weights_only=True)\n",
    "        \n",
    "    #tb_cb = tf.keras.callbacks.TensorBoard(log_dir=\"logs\")\n",
    "\n",
    "# train the model\n",
    "model.fit(padded_docs,target,epochs=n_epochs, batch_size=256,\n",
    "          callbacks=[mc,cb_lr_schedule,es], shuffle=False,\n",
    "          workers=-1, use_multiprocessing=True, verbose=2)\n",
    "        \n"
   ]
  },
  {
   "cell_type": "code",
   "execution_count": 15,
   "id": "f3985bdd",
   "metadata": {},
   "outputs": [
    {
     "name": "stdout",
     "output_type": "stream",
     "text": [
      "1286/1286 - 2s - loss: 0.5389 - 2s/epoch - 1ms/step\n",
      "0.5389259457588196\n"
     ]
    }
   ],
   "source": [
    "# evaluate the model\n",
    "loss = model.evaluate(padded_docs, target, verbose=2)\n",
    "print(loss)"
   ]
  },
  {
   "cell_type": "code",
   "execution_count": 16,
   "id": "cb1bd3ea",
   "metadata": {},
   "outputs": [
    {
     "name": "stdout",
     "output_type": "stream",
     "text": [
      "Model: \"model\"\n",
      "_________________________________________________________________\n",
      " Layer (type)                Output Shape              Param #   \n",
      "=================================================================\n",
      " text (InputLayer)           [(None, 6)]               0         \n",
      "                                                                 \n",
      " embeddings (Embedding)      (None, 6, 20)             1236740   \n",
      "                                                                 \n",
      " flatten (Flatten)           (None, 120)               0         \n",
      "                                                                 \n",
      " act01 (Dense)               (None, 40)                4840      \n",
      "                                                                 \n",
      " linear_output (Dense)       (None, 1)                 41        \n",
      "                                                                 \n",
      "=================================================================\n",
      "Total params: 1,241,621\n",
      "Trainable params: 1,241,621\n",
      "Non-trainable params: 0\n",
      "_________________________________________________________________\n"
     ]
    }
   ],
   "source": [
    "model.summary()"
   ]
  },
  {
   "cell_type": "code",
   "execution_count": 17,
   "id": "90ce366b",
   "metadata": {},
   "outputs": [],
   "source": [
    "embedding_layer = model.get_layer('embeddings')"
   ]
  },
  {
   "cell_type": "code",
   "execution_count": 18,
   "id": "9c7ea21e",
   "metadata": {},
   "outputs": [],
   "source": [
    "embeddings = embedding_layer.get_weights()[0]"
   ]
  },
  {
   "cell_type": "code",
   "execution_count": 19,
   "id": "e69b3475",
   "metadata": {},
   "outputs": [],
   "source": [
    "np.savetxt(\"embeddings_model3.csv\", embeddings, delimiter=\",\")"
   ]
  },
  {
   "cell_type": "code",
   "execution_count": 20,
   "id": "17206d80",
   "metadata": {},
   "outputs": [
    {
     "data": {
      "text/plain": [
       "array([ 0.04473591,  0.02182251,  0.02718688, -0.05789768,  0.0315198 ,\n",
       "       -0.01363557, -0.04941428, -0.05951649,  0.04166807,  0.06693738,\n",
       "       -0.08285856, -0.02041151, -0.01219045, -0.01249371,  0.01298883,\n",
       "        0.04943318,  0.04484977, -0.01407567,  0.02586767, -0.01988386],\n",
       "      dtype=float32)"
      ]
     },
     "execution_count": 20,
     "metadata": {},
     "output_type": "execute_result"
    }
   ],
   "source": [
    "embeddings[t.word_index['60126'],:]"
   ]
  },
  {
   "cell_type": "code",
   "execution_count": 21,
   "id": "77c611b0",
   "metadata": {},
   "outputs": [
    {
     "data": {
      "text/plain": [
       "-0.26024082"
      ]
     },
     "execution_count": 21,
     "metadata": {},
     "output_type": "execute_result"
    }
   ],
   "source": [
    "cosine_similarity(np.reshape(embeddings[t.word_index['60126'],:],(1,20)),np.reshape(embeddings[t.word_index['55929'],:],(1,20)))[0][0]"
   ]
  },
  {
   "cell_type": "code",
   "execution_count": 22,
   "id": "08750361",
   "metadata": {},
   "outputs": [
    {
     "data": {
      "text/plain": [
       "0.33873274207116255"
      ]
     },
     "execution_count": 22,
     "metadata": {},
     "output_type": "execute_result"
    }
   ],
   "source": [
    "1. - cdist(np.reshape(embeddings[t.word_index['60126'],:],(1,20)), np.reshape(embeddings[t.word_index['60163'],:],(1,20)), 'cosine')[0][0]"
   ]
  },
  {
   "cell_type": "code",
   "execution_count": 23,
   "id": "99c6c8ac",
   "metadata": {},
   "outputs": [],
   "source": [
    "states = pd.DataFrame(pd.unique(data.statecode),columns=['states'])"
   ]
  },
  {
   "cell_type": "code",
   "execution_count": 24,
   "id": "e086956a",
   "metadata": {},
   "outputs": [],
   "source": [
    "states_list = []\n",
    "\n",
    "for index, row in states.iterrows():\n",
    "    state = row[0].lower()\n",
    "    states_list.append(pd.concat([pd.Series(state), pd.DataFrame(np.reshape(embeddings[t.word_index[state],:],(1,20)))   ],axis=1))   "
   ]
  },
  {
   "cell_type": "code",
   "execution_count": 25,
   "id": "e4881ad1",
   "metadata": {},
   "outputs": [],
   "source": [
    "states = pd.concat(states_list)\n",
    "states = states.reset_index(drop=True)"
   ]
  },
  {
   "cell_type": "code",
   "execution_count": 26,
   "id": "2b6ef199",
   "metadata": {
    "scrolled": false
   },
   "outputs": [],
   "source": [
    "states.columns = range(states.columns.size)"
   ]
  },
  {
   "cell_type": "code",
   "execution_count": 27,
   "id": "11494cf5",
   "metadata": {},
   "outputs": [],
   "source": [
    "x = StandardScaler().fit_transform(states.iloc[:,1:-1].values)"
   ]
  },
  {
   "cell_type": "code",
   "execution_count": 28,
   "id": "55a000bf",
   "metadata": {},
   "outputs": [],
   "source": [
    "#pca = PCA(n_components=2)"
   ]
  },
  {
   "cell_type": "code",
   "execution_count": 29,
   "id": "8c4a7f2f",
   "metadata": {},
   "outputs": [],
   "source": [
    "#principalComponents = pca.fit_transform(x)"
   ]
  },
  {
   "cell_type": "code",
   "execution_count": 30,
   "id": "d64311d0",
   "metadata": {},
   "outputs": [
    {
     "name": "stderr",
     "output_type": "stream",
     "text": [
      "C:\\Users\\jpalma3\\Anaconda3\\envs\\tensorflow\\lib\\site-packages\\sklearn\\manifold\\_t_sne.py:790: FutureWarning: The default learning rate in TSNE will change from 200.0 to 'auto' in 1.2.\n",
      "  warnings.warn(\n",
      "C:\\Users\\jpalma3\\Anaconda3\\envs\\tensorflow\\lib\\site-packages\\sklearn\\manifold\\_t_sne.py:982: FutureWarning: The PCA initialization in TSNE will change to have the standard deviation of PC1 equal to 1e-4 in 1.2. This will ensure better convergence.\n",
      "  warnings.warn(\n"
     ]
    }
   ],
   "source": [
    "#TSNE : Compressing the weights to 2 dimensions to plot the data\n",
    "tsne_model = TSNE(perplexity=40, n_components=2, init='pca', n_iter=2500, random_state=23)\n",
    "new_values = tsne_model.fit_transform(x)"
   ]
  },
  {
   "cell_type": "code",
   "execution_count": 33,
   "id": "8b322485",
   "metadata": {},
   "outputs": [],
   "source": [
    "principalDf = pd.DataFrame(data = new_values\n",
    "             , columns = ['principal component 1', 'principal component 2'])"
   ]
  },
  {
   "cell_type": "code",
   "execution_count": 34,
   "id": "a09a2021",
   "metadata": {},
   "outputs": [],
   "source": [
    "#principalDf = pd.DataFrame(data = principalComponents\n",
    "#             , columns = ['principal component 1', 'principal component 2'])"
   ]
  },
  {
   "cell_type": "code",
   "execution_count": 35,
   "id": "d7d55113",
   "metadata": {},
   "outputs": [],
   "source": [
    "finalDf = pd.concat([principalDf, states.iloc[:,0]], axis = 1)\n",
    "finalDf.columns = ['principal component 1', 'principal component 2', 'State']"
   ]
  },
  {
   "cell_type": "code",
   "execution_count": 36,
   "id": "322c96a3",
   "metadata": {
    "scrolled": false
   },
   "outputs": [
    {
     "data": {
      "image/png": "[encoded data removed]",
      "text/plain": [
       "<Figure size 864x864 with 1 Axes>"
      ]
     },
     "metadata": {
      "needs_background": "light"
     },
     "output_type": "display_data"
    }
   ],
   "source": [
    "fig = plt.figure(figsize = (12,12))\n",
    "ax = fig.add_subplot(1,1,1) \n",
    "ax.set_xlabel('Principal Component 1', fontsize = 15)\n",
    "ax.set_ylabel('Principal Component 2', fontsize = 15)\n",
    "ax.set_title('2 Component PCA', fontsize = 20)\n",
    "\n",
    "plt.scatter(finalDf.iloc[:,0], finalDf.iloc[:,1], c=np.arctan2(finalDf.iloc[:,0], finalDf.iloc[:,1]),cmap='rainbow', s=50, alpha=0.5)\n",
    "\n",
    "ax.grid()\n",
    "\n",
    "for i, txt in enumerate(finalDf.iloc[:,2]):\n",
    "    ax.annotate(txt, (finalDf.iloc[i,0], finalDf.iloc[i,1]),fontsize=15)\n"
   ]
  },
  {
   "cell_type": "code",
   "execution_count": 74,
   "id": "156326f6",
   "metadata": {},
   "outputs": [],
   "source": [
    "word_to_index = t.word_index\n",
    "index_to_word = dict()\n",
    "\n",
    "for key in word_to_index:\n",
    "    index_to_word.update({word_to_index[key] : key })"
   ]
  },
  {
   "cell_type": "code",
   "execution_count": 76,
   "id": "02e969cf",
   "metadata": {},
   "outputs": [],
   "source": [
    "#similarity_matrix = Cosine_Similarity('60126',embeddings,word_to_index,vocab_size,index_to_word)"
   ]
  },
  {
   "cell_type": "code",
   "execution_count": 77,
   "id": "ae6613ad",
   "metadata": {},
   "outputs": [],
   "source": [
    "#similarity_matrix"
   ]
  },
  {
   "cell_type": "code",
   "execution_count": 60,
   "id": "858ac53a",
   "metadata": {},
   "outputs": [
    {
     "data": {
      "text/plain": [
       "15"
      ]
     },
     "execution_count": 60,
     "metadata": {},
     "output_type": "execute_result"
    }
   ],
   "source": [
    "word_to_index['il']"
   ]
  },
  {
   "cell_type": "code",
   "execution_count": 61,
   "id": "ad9f9d8a",
   "metadata": {},
   "outputs": [
    {
     "data": {
      "text/plain": [
       "'il'"
      ]
     },
     "execution_count": 61,
     "metadata": {},
     "output_type": "execute_result"
    }
   ],
   "source": [
    "index_to_word[15]"
   ]
  },
  {
   "cell_type": "code",
   "execution_count": null,
   "id": "2112a1bb",
   "metadata": {},
   "outputs": [],
   "source": []
  }
 ],
 "metadata": {
  "kernelspec": {
   "display_name": "Python 3 (ipykernel)",
   "language": "python",
   "name": "python3"
  },
  "language_info": {
   "codemirror_mode": {
    "name": "ipython",
    "version": 3
   },
   "file_extension": ".py",
   "mimetype": "text/x-python",
   "name": "python",
   "nbconvert_exporter": "python",
   "pygments_lexer": "ipython3",
   "version": "3.9.12"
  }
 },
 "nbformat": 4,
 "nbformat_minor": 5
}
