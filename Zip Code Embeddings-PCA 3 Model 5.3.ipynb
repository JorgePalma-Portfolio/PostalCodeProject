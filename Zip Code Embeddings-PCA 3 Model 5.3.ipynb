{
 "cells": [
  {
   "cell_type": "code",
   "execution_count": 3,
   "id": "6661cf68",
   "metadata": {},
   "outputs": [
    {
     "name": "stdout",
     "output_type": "stream",
     "text": [
      "The autoreload extension is already loaded. To reload it, use:\n",
      "  %reload_ext autoreload\n"
     ]
    },
    {
     "data": {
      "text/html": [
       "<style>.container { width:90% !important; }</style>"
      ],
      "text/plain": [
       "<IPython.core.display.HTML object>"
      ]
     },
     "metadata": {},
     "output_type": "display_data"
    },
    {
     "data": {
      "text/html": [
       "<style>div.output_area{max-height:10000px;overflow:scroll;}</style>"
      ],
      "text/plain": [
       "<IPython.core.display.HTML object>"
      ]
     },
     "metadata": {},
     "output_type": "display_data"
    },
    {
     "name": "stdout",
     "output_type": "stream",
     "text": [
      "Python: 3.9.12 (main, Apr  4 2022, 05:22:27) [MSC v.1916 64 bit (AMD64)]\n",
      "Notebook Last Run Initiated: 2022-06-14 15:44:02.866754\n"
     ]
    }
   ],
   "source": [
    "%load_ext autoreload\n",
    "%autoreload\n",
    "\n",
    "## This expands a notebook to full width\n",
    "from IPython.display import display, HTML\n",
    "\n",
    "display(HTML(\"<style>.container { width:90% !important; }</style>\"))\n",
    "display(HTML(\"\"\"<style>div.output_area{max-height:10000px;overflow:scroll;}</style>\"\"\"))\n",
    "## Show Python Version\n",
    "import sys\n",
    "print(\"Python: {0}\".format(sys.version))\n",
    "\n",
    "## Show Current Time\n",
    "import datetime as dt\n",
    "start = dt.datetime.now()\n",
    "print(\"Notebook Last Run Initiated: \"+str(start))"
   ]
  },
  {
   "cell_type": "code",
   "execution_count": 4,
   "id": "8108e7c5",
   "metadata": {},
   "outputs": [],
   "source": [
    "import warnings\n",
    "warnings.filterwarnings(\"ignore\")\n",
    "\n",
    "seed = 23\n",
    "\n",
    "import numpy as np\n",
    "np.random.seed(seed)\n",
    "\n",
    "from tensorflow.compat.v1 import set_random_seed \n",
    "set_random_seed(seed)\n",
    "\n",
    "import pandas as pd\n",
    "\n",
    "import tensorflow as tf\n",
    "\n",
    "from tensorflow.keras.preprocessing.text import one_hot\n",
    "from tensorflow.keras.preprocessing.sequence import pad_sequences\n",
    "from tensorflow.keras.models import Sequential\n",
    "from tensorflow.keras.layers import Dense\n",
    "from tensorflow.keras.layers import Flatten\n",
    "from tensorflow.keras.layers import Embedding\n",
    "from tensorflow.keras.preprocessing.text import Tokenizer\n",
    "from tensorflow.keras.models import load_model\n",
    "from tensorflow.keras.models import Model\n",
    "\n",
    "from sklearn.metrics import mean_squared_error\n",
    "from sklearn.model_selection import GroupKFold\n",
    "from sklearn.metrics.pairwise import cosine_similarity\n",
    "\n",
    "from scipy.spatial.distance import cdist\n",
    "\n",
    "import matplotlib.pyplot as plt\n",
    "from sklearn.decomposition import PCA\n",
    "from sklearn.preprocessing import StandardScaler\n",
    "from sklearn.manifold import TSNE\n",
    "%matplotlib inline"
   ]
  },
  {
   "cell_type": "code",
   "execution_count": 5,
   "id": "01c52b98",
   "metadata": {},
   "outputs": [],
   "source": [
    "# Input vector, returns nearest word(s)\n",
    "def Cosine_Similarity(word,weight,word_to_index,vocab_size,index_to_word):\n",
    "    \n",
    "    #Get the index of the word from the dictionary\n",
    "    index = word_to_index[word]\n",
    "    \n",
    "    #Get the correspondin weights for the word\n",
    "    word_vector_1 = weight[index]\n",
    "    \n",
    "    \n",
    "    word_similarity = {}\n",
    "\n",
    "    for i in range(vocab_size):\n",
    "        \n",
    "        j = i\n",
    "        \n",
    "        word_vector_2 = weight[j]\n",
    "        \n",
    "        theta_sum = np.dot(word_vector_1, word_vector_2)\n",
    "        theta_den = np.linalg.norm(word_vector_1) * np.linalg.norm(word_vector_2)\n",
    "        theta = theta_sum / theta_den\n",
    "        \n",
    "        word = index_to_word[j]\n",
    "        word_similarity[word] = theta\n",
    "    \n",
    "    return word_similarity #words_sorted"
   ]
  },
  {
   "cell_type": "code",
   "execution_count": 6,
   "id": "655a7376",
   "metadata": {},
   "outputs": [],
   "source": [
    "# define documents\n",
    "data = pd.read_csv('data\\ZIP2LATLON_VER1.csv',dtype={\n",
    "                   'postal_code': str,\n",
    "                   'country_code': str,\n",
    "                   'place': str,\n",
    "                   'state': str,\n",
    "                   'statecode': str,\n",
    "                   'province_or_county': str,\n",
    "                   'province_or_countycode': str,\n",
    "                   'latitude': float,\n",
    "                   'longitude': float})\n",
    "\n",
    "data['postal_code'] = data['postal_code'].str.zfill(5)"
   ]
  },
  {
   "cell_type": "code",
   "execution_count": 7,
   "id": "3eefd86d",
   "metadata": {},
   "outputs": [],
   "source": [
    "#data = data.fillna(0)"
   ]
  },
  {
   "cell_type": "code",
   "execution_count": 8,
   "id": "6f0c549a",
   "metadata": {},
   "outputs": [],
   "source": [
    "target = data[['latitude','longitude']]\n",
    "data = data[['postal_code','country_code','place','state','statecode','province_or_county','province_or_countycode']]"
   ]
  },
  {
   "cell_type": "code",
   "execution_count": 9,
   "id": "f01bd22c",
   "metadata": {},
   "outputs": [],
   "source": [
    "target = StandardScaler().fit_transform(target.values)"
   ]
  },
  {
   "cell_type": "code",
   "execution_count": 10,
   "id": "4a1116a8",
   "metadata": {},
   "outputs": [],
   "source": [
    "#data['province_or_county'].replace([0], 'NONE ', inplace=True)"
   ]
  },
  {
   "cell_type": "code",
   "execution_count": 11,
   "id": "26da36c4",
   "metadata": {},
   "outputs": [],
   "source": [
    "docs = data.iloc[:,0:6].apply(lambda x: ' '.join(x), axis=1)"
   ]
  },
  {
   "cell_type": "code",
   "execution_count": 12,
   "id": "f6f6cde1",
   "metadata": {},
   "outputs": [],
   "source": [
    "# integer encode the documents\n",
    "vocab_size = 61837\n",
    "# create the tokenizer\n",
    "t = Tokenizer()\n",
    "# fit the tokenizer on the documents\n",
    "t.fit_on_texts(docs)"
   ]
  },
  {
   "cell_type": "code",
   "execution_count": 13,
   "id": "969994d8",
   "metadata": {},
   "outputs": [],
   "source": [
    "encoded_docs = t.texts_to_sequences(docs)"
   ]
  },
  {
   "cell_type": "code",
   "execution_count": 14,
   "id": "389e7801",
   "metadata": {},
   "outputs": [],
   "source": [
    "# pad documents to a max length of 7 words\n",
    "max_length = 6\n",
    "padded_docs = pad_sequences(encoded_docs, maxlen=max_length, padding='post')"
   ]
  },
  {
   "cell_type": "code",
   "execution_count": 15,
   "id": "3487f460",
   "metadata": {},
   "outputs": [],
   "source": [
    "def BuildModel(learning_rate):\n",
    "        \n",
    "    input_text  = tf.keras.layers.Input(shape=(max_length,),name='text')\n",
    "\n",
    "    x = tf.keras.layers.Embedding(vocab_size, 20, input_length=max_length,name='embeddings')(input_text)\n",
    "    x = tf.keras.layers.Flatten()(x)\n",
    "    x = tf.keras.layers.Dense(40, activation='relu',name='act01')(x)\n",
    "    output = tf.keras.layers.Dense(1, activation='linear',name='linear_output')(x)\n",
    "    \n",
    "    model = Model(input_text,output)\n",
    "    \n",
    "    model.compile(loss=\"mean_squared_error\", optimizer=tf.keras.optimizers.Adam(learning_rate = learning_rate))\n",
    "    return model"
   ]
  },
  {
   "cell_type": "code",
   "execution_count": 16,
   "id": "ff34bf44",
   "metadata": {
    "scrolled": true
   },
   "outputs": [
    {
     "name": "stdout",
     "output_type": "stream",
     "text": [
      "Epoch 1/250\n",
      "161/161 - 2s - loss: 0.9882 - lr: 0.0010 - 2s/epoch - 14ms/step\n",
      "Epoch 2/250\n",
      "161/161 - 1s - loss: 0.7606 - lr: 0.0010 - 704ms/epoch - 4ms/step\n",
      "Epoch 3/250\n",
      "161/161 - 1s - loss: 0.6347 - lr: 0.0010 - 710ms/epoch - 4ms/step\n",
      "Epoch 4/250\n",
      "161/161 - 1s - loss: 0.5987 - lr: 0.0010 - 708ms/epoch - 4ms/step\n",
      "Epoch 5/250\n",
      "161/161 - 1s - loss: 0.5904 - lr: 0.0010 - 717ms/epoch - 4ms/step\n",
      "Epoch 6/250\n",
      "161/161 - 1s - loss: 0.5732 - lr: 0.0010 - 708ms/epoch - 4ms/step\n",
      "Epoch 7/250\n",
      "161/161 - 1s - loss: 0.5723 - lr: 0.0010 - 702ms/epoch - 4ms/step\n",
      "Epoch 8/250\n",
      "161/161 - 1s - loss: 0.5728 - lr: 0.0010 - 681ms/epoch - 4ms/step\n",
      "Epoch 9/250\n",
      "161/161 - 1s - loss: 0.5704 - lr: 0.0010 - 712ms/epoch - 4ms/step\n",
      "Epoch 10/250\n",
      "161/161 - 1s - loss: 0.5700 - lr: 0.0010 - 721ms/epoch - 4ms/step\n",
      "Epoch 11/250\n",
      "161/161 - 1s - loss: 0.5611 - lr: 0.0010 - 727ms/epoch - 5ms/step\n",
      "Epoch 12/250\n",
      "161/161 - 1s - loss: 0.5582 - lr: 0.0010 - 699ms/epoch - 4ms/step\n",
      "Epoch 13/250\n",
      "161/161 - 1s - loss: 0.5526 - lr: 0.0010 - 708ms/epoch - 4ms/step\n",
      "Epoch 14/250\n",
      "161/161 - 1s - loss: 0.5541 - lr: 0.0010 - 680ms/epoch - 4ms/step\n",
      "Epoch 15/250\n",
      "161/161 - 1s - loss: 0.5593 - lr: 0.0010 - 686ms/epoch - 4ms/step\n",
      "Epoch 16/250\n",
      "161/161 - 1s - loss: 0.5544 - lr: 0.0010 - 671ms/epoch - 4ms/step\n",
      "Epoch 17/250\n",
      "161/161 - 1s - loss: 0.5530 - lr: 0.0010 - 681ms/epoch - 4ms/step\n",
      "Epoch 18/250\n",
      "161/161 - 1s - loss: 0.5527 - lr: 0.0010 - 675ms/epoch - 4ms/step\n",
      "Epoch 19/250\n",
      "161/161 - 1s - loss: 0.5469 - lr: 4.0000e-04 - 741ms/epoch - 5ms/step\n",
      "Epoch 20/250\n",
      "161/161 - 1s - loss: 0.5417 - lr: 4.0000e-04 - 736ms/epoch - 5ms/step\n",
      "Epoch 21/250\n",
      "161/161 - 1s - loss: 0.5404 - lr: 4.0000e-04 - 733ms/epoch - 5ms/step\n",
      "Epoch 22/250\n",
      "161/161 - 1s - loss: 0.5401 - lr: 4.0000e-04 - 732ms/epoch - 5ms/step\n",
      "Epoch 23/250\n",
      "161/161 - 1s - loss: 0.5398 - lr: 4.0000e-04 - 741ms/epoch - 5ms/step\n",
      "Epoch 24/250\n",
      "161/161 - 1s - loss: 0.5397 - lr: 4.0000e-04 - 749ms/epoch - 5ms/step\n",
      "Epoch 25/250\n",
      "161/161 - 1s - loss: 0.5396 - lr: 4.0000e-04 - 719ms/epoch - 4ms/step\n",
      "Epoch 26/250\n",
      "161/161 - 1s - loss: 0.5396 - lr: 4.0000e-04 - 727ms/epoch - 5ms/step\n",
      "Epoch 27/250\n",
      "161/161 - 1s - loss: 0.5395 - lr: 1.6000e-04 - 709ms/epoch - 4ms/step\n",
      "Epoch 28/250\n",
      "161/161 - 1s - loss: 0.5394 - lr: 1.6000e-04 - 733ms/epoch - 5ms/step\n",
      "Epoch 29/250\n",
      "161/161 - 1s - loss: 0.5394 - lr: 1.6000e-04 - 732ms/epoch - 5ms/step\n",
      "Epoch 30/250\n",
      "161/161 - 1s - loss: 0.5394 - lr: 1.6000e-04 - 720ms/epoch - 4ms/step\n",
      "Epoch 31/250\n",
      "161/161 - 1s - loss: 0.5393 - lr: 1.6000e-04 - 704ms/epoch - 4ms/step\n",
      "Epoch 32/250\n",
      "161/161 - 1s - loss: 0.5393 - lr: 1.6000e-04 - 726ms/epoch - 5ms/step\n",
      "Epoch 33/250\n",
      "161/161 - 1s - loss: 0.5393 - lr: 1.6000e-04 - 732ms/epoch - 5ms/step\n",
      "Epoch 34/250\n",
      "161/161 - 1s - loss: 0.5392 - lr: 1.6000e-04 - 715ms/epoch - 4ms/step\n",
      "Epoch 35/250\n",
      "161/161 - 1s - loss: 0.5392 - lr: 1.6000e-04 - 701ms/epoch - 4ms/step\n",
      "Epoch 36/250\n",
      "161/161 - 1s - loss: 0.5391 - lr: 6.4000e-05 - 708ms/epoch - 4ms/step\n",
      "Epoch 37/250\n",
      "161/161 - 1s - loss: 0.5391 - lr: 6.4000e-05 - 715ms/epoch - 4ms/step\n",
      "Epoch 38/250\n",
      "161/161 - 1s - loss: 0.5391 - lr: 6.4000e-05 - 725ms/epoch - 5ms/step\n",
      "Epoch 39/250\n",
      "161/161 - 1s - loss: 0.5391 - lr: 6.4000e-05 - 731ms/epoch - 5ms/step\n",
      "Epoch 40/250\n",
      "161/161 - 1s - loss: 0.5391 - lr: 6.4000e-05 - 737ms/epoch - 5ms/step\n",
      "Epoch 41/250\n",
      "161/161 - 1s - loss: 0.5391 - lr: 2.5600e-05 - 734ms/epoch - 5ms/step\n",
      "Epoch 42/250\n",
      "161/161 - 1s - loss: 0.5390 - lr: 2.5600e-05 - 740ms/epoch - 5ms/step\n",
      "Epoch 43/250\n",
      "161/161 - 1s - loss: 0.5390 - lr: 2.5600e-05 - 724ms/epoch - 4ms/step\n",
      "Epoch 44/250\n",
      "161/161 - 1s - loss: 0.5390 - lr: 2.5600e-05 - 730ms/epoch - 5ms/step\n",
      "Epoch 45/250\n",
      "161/161 - 1s - loss: 0.5390 - lr: 2.5600e-05 - 724ms/epoch - 4ms/step\n",
      "Epoch 46/250\n",
      "161/161 - 1s - loss: 0.5390 - lr: 1.0240e-05 - 728ms/epoch - 5ms/step\n",
      "Epoch 47/250\n",
      "161/161 - 1s - loss: 0.5390 - lr: 1.0240e-05 - 735ms/epoch - 5ms/step\n",
      "Epoch 48/250\n",
      "161/161 - 1s - loss: 0.5390 - lr: 1.0240e-05 - 738ms/epoch - 5ms/step\n",
      "Epoch 49/250\n",
      "161/161 - 1s - loss: 0.5390 - lr: 1.0240e-05 - 724ms/epoch - 4ms/step\n",
      "Epoch 50/250\n",
      "161/161 - 1s - loss: 0.5390 - lr: 1.0240e-05 - 728ms/epoch - 5ms/step\n",
      "Epoch 51/250\n",
      "161/161 - 1s - loss: 0.5390 - lr: 4.0960e-06 - 735ms/epoch - 5ms/step\n",
      "Epoch 52/250\n",
      "161/161 - 1s - loss: 0.5390 - lr: 4.0960e-06 - 729ms/epoch - 5ms/step\n",
      "Epoch 53/250\n",
      "161/161 - 1s - loss: 0.5390 - lr: 4.0960e-06 - 743ms/epoch - 5ms/step\n",
      "Epoch 54/250\n",
      "161/161 - 1s - loss: 0.5390 - lr: 4.0960e-06 - 746ms/epoch - 5ms/step\n",
      "Epoch 55/250\n",
      "161/161 - 1s - loss: 0.5390 - lr: 4.0960e-06 - 774ms/epoch - 5ms/step\n",
      "Epoch 56/250\n",
      "161/161 - 1s - loss: 0.5390 - lr: 1.6384e-06 - 750ms/epoch - 5ms/step\n",
      "Epoch 57/250\n",
      "161/161 - 1s - loss: 0.5390 - lr: 1.6384e-06 - 720ms/epoch - 4ms/step\n",
      "Epoch 58/250\n",
      "161/161 - 1s - loss: 0.5390 - lr: 1.6384e-06 - 736ms/epoch - 5ms/step\n",
      "Epoch 59/250\n",
      "161/161 - 1s - loss: 0.5390 - lr: 1.6384e-06 - 729ms/epoch - 5ms/step\n",
      "Epoch 60/250\n",
      "161/161 - 1s - loss: 0.5390 - lr: 1.6384e-06 - 709ms/epoch - 4ms/step\n",
      "Epoch 61/250\n",
      "161/161 - 1s - loss: 0.5390 - lr: 6.5536e-07 - 706ms/epoch - 4ms/step\n",
      "Epoch 62/250\n",
      "161/161 - 1s - loss: 0.5390 - lr: 6.5536e-07 - 710ms/epoch - 4ms/step\n",
      "Epoch 63/250\n",
      "161/161 - 1s - loss: 0.5390 - lr: 6.5536e-07 - 711ms/epoch - 4ms/step\n",
      "Epoch 64/250\n",
      "161/161 - 1s - loss: 0.5390 - lr: 6.5536e-07 - 706ms/epoch - 4ms/step\n",
      "Epoch 65/250\n",
      "161/161 - 1s - loss: 0.5390 - lr: 6.5536e-07 - 720ms/epoch - 4ms/step\n",
      "Epoch 66/250\n",
      "161/161 - 1s - loss: 0.5390 - lr: 2.6214e-07 - 717ms/epoch - 4ms/step\n",
      "Epoch 67/250\n",
      "161/161 - 1s - loss: 0.5390 - lr: 2.6214e-07 - 708ms/epoch - 4ms/step\n",
      "Epoch 68/250\n",
      "161/161 - 1s - loss: 0.5390 - lr: 2.6214e-07 - 713ms/epoch - 4ms/step\n",
      "Epoch 69/250\n",
      "161/161 - 1s - loss: 0.5390 - lr: 2.6214e-07 - 725ms/epoch - 5ms/step\n",
      "Epoch 70/250\n",
      "161/161 - 1s - loss: 0.5390 - lr: 2.6214e-07 - 737ms/epoch - 5ms/step\n",
      "Epoch 71/250\n",
      "161/161 - 1s - loss: 0.5390 - lr: 1.0486e-07 - 714ms/epoch - 4ms/step\n",
      "Epoch 72/250\n",
      "161/161 - 1s - loss: 0.5390 - lr: 1.0486e-07 - 718ms/epoch - 4ms/step\n",
      "Epoch 73/250\n",
      "161/161 - 1s - loss: 0.5390 - lr: 1.0486e-07 - 714ms/epoch - 4ms/step\n",
      "Epoch 74/250\n",
      "161/161 - 1s - loss: 0.5390 - lr: 1.0486e-07 - 709ms/epoch - 4ms/step\n",
      "Epoch 75/250\n",
      "161/161 - 1s - loss: 0.5390 - lr: 1.0486e-07 - 722ms/epoch - 4ms/step\n",
      "Epoch 76/250\n",
      "161/161 - 1s - loss: 0.5390 - lr: 4.1943e-08 - 707ms/epoch - 4ms/step\n",
      "Epoch 77/250\n",
      "161/161 - 1s - loss: 0.5390 - lr: 4.1943e-08 - 725ms/epoch - 5ms/step\n",
      "Epoch 78/250\n",
      "161/161 - 1s - loss: 0.5390 - lr: 4.1943e-08 - 727ms/epoch - 5ms/step\n",
      "Epoch 79/250\n",
      "161/161 - 1s - loss: 0.5390 - lr: 4.1943e-08 - 689ms/epoch - 4ms/step\n",
      "Epoch 80/250\n",
      "161/161 - 1s - loss: 0.5390 - lr: 4.1943e-08 - 714ms/epoch - 4ms/step\n",
      "Epoch 81/250\n",
      "161/161 - 1s - loss: 0.5390 - lr: 1.6777e-08 - 698ms/epoch - 4ms/step\n",
      "Epoch 82/250\n",
      "161/161 - 1s - loss: 0.5390 - lr: 1.6777e-08 - 680ms/epoch - 4ms/step\n",
      "Epoch 83/250\n",
      "161/161 - 1s - loss: 0.5390 - lr: 1.6777e-08 - 681ms/epoch - 4ms/step\n",
      "Epoch 84/250\n",
      "161/161 - 1s - loss: 0.5390 - lr: 1.6777e-08 - 728ms/epoch - 5ms/step\n",
      "Epoch 85/250\n",
      "161/161 - 1s - loss: 0.5390 - lr: 1.6777e-08 - 682ms/epoch - 4ms/step\n",
      "Epoch 86/250\n",
      "161/161 - 1s - loss: 0.5390 - lr: 6.7109e-09 - 698ms/epoch - 4ms/step\n",
      "Epoch 87/250\n",
      "161/161 - 1s - loss: 0.5390 - lr: 6.7109e-09 - 682ms/epoch - 4ms/step\n",
      "Epoch 88/250\n",
      "161/161 - 1s - loss: 0.5390 - lr: 6.7109e-09 - 715ms/epoch - 4ms/step\n",
      "Epoch 89/250\n",
      "161/161 - 1s - loss: 0.5390 - lr: 6.7109e-09 - 714ms/epoch - 4ms/step\n",
      "Epoch 90/250\n",
      "161/161 - 1s - loss: 0.5390 - lr: 6.7109e-09 - 710ms/epoch - 4ms/step\n",
      "Epoch 91/250\n",
      "161/161 - 1s - loss: 0.5390 - lr: 2.6844e-09 - 708ms/epoch - 4ms/step\n",
      "Epoch 92/250\n",
      "161/161 - 1s - loss: 0.5390 - lr: 2.6844e-09 - 716ms/epoch - 4ms/step\n",
      "Epoch 93/250\n",
      "161/161 - 1s - loss: 0.5390 - lr: 2.6844e-09 - 702ms/epoch - 4ms/step\n",
      "Epoch 94/250\n",
      "161/161 - 1s - loss: 0.5390 - lr: 2.6844e-09 - 707ms/epoch - 4ms/step\n"
     ]
    },
    {
     "data": {
      "text/plain": [
       "<keras.callbacks.History at 0x24aaebbca90>"
      ]
     },
     "execution_count": 16,
     "metadata": {},
     "output_type": "execute_result"
    }
   ],
   "source": [
    "learning_rate = 1e-3\n",
    "n_epochs = 250\n",
    "\n",
    "model = BuildModel(learning_rate)\n",
    "        \n",
    "ckp_path = f'models/Model_05.hdf5'\n",
    "\n",
    "cb_lr_schedule = tf.keras.callbacks.ReduceLROnPlateau(monitor = 'loss', factor = 0.4, patience = 5, verbose = 0, min_delta = 0.001, mode = 'min')\n",
    "        \n",
    "es = tf.keras.callbacks.EarlyStopping(monitor='loss', mode='min', verbose=0, patience=10, restore_best_weights=True)\n",
    "mc = tf.keras.callbacks.ModelCheckpoint(ckp_path, monitor='loss', mode='min', verbose=0, save_best_only=True, save_weights_only=True)\n",
    "        \n",
    "    #tb_cb = tf.keras.callbacks.TensorBoard(log_dir=\"logs\")\n",
    "\n",
    "# train the model\n",
    "model.fit(padded_docs,target,epochs=n_epochs, batch_size=256,\n",
    "          callbacks=[mc,cb_lr_schedule,es], shuffle=False,\n",
    "          workers=-1, use_multiprocessing=True, verbose=2)\n",
    "        \n"
   ]
  },
  {
   "cell_type": "code",
   "execution_count": 17,
   "id": "f3985bdd",
   "metadata": {},
   "outputs": [
    {
     "name": "stdout",
     "output_type": "stream",
     "text": [
      "1286/1286 - 2s - loss: 0.5390 - 2s/epoch - 2ms/step\n",
      "0.538978636264801\n"
     ]
    }
   ],
   "source": [
    "# evaluate the model\n",
    "loss = model.evaluate(padded_docs, target, verbose=2)\n",
    "print(loss)"
   ]
  },
  {
   "cell_type": "code",
   "execution_count": 18,
   "id": "cb1bd3ea",
   "metadata": {},
   "outputs": [
    {
     "name": "stdout",
     "output_type": "stream",
     "text": [
      "Model: \"model\"\n",
      "_________________________________________________________________\n",
      " Layer (type)                Output Shape              Param #   \n",
      "=================================================================\n",
      " text (InputLayer)           [(None, 6)]               0         \n",
      "                                                                 \n",
      " embeddings (Embedding)      (None, 6, 20)             1236740   \n",
      "                                                                 \n",
      " flatten (Flatten)           (None, 120)               0         \n",
      "                                                                 \n",
      " act01 (Dense)               (None, 40)                4840      \n",
      "                                                                 \n",
      " linear_output (Dense)       (None, 1)                 41        \n",
      "                                                                 \n",
      "=================================================================\n",
      "Total params: 1,241,621\n",
      "Trainable params: 1,241,621\n",
      "Non-trainable params: 0\n",
      "_________________________________________________________________\n"
     ]
    }
   ],
   "source": [
    "model.summary()"
   ]
  },
  {
   "cell_type": "code",
   "execution_count": 19,
   "id": "90ce366b",
   "metadata": {},
   "outputs": [],
   "source": [
    "embedding_layer = model.get_layer('embeddings')"
   ]
  },
  {
   "cell_type": "code",
   "execution_count": 20,
   "id": "9c7ea21e",
   "metadata": {},
   "outputs": [],
   "source": [
    "embeddings = embedding_layer.get_weights()[0]"
   ]
  },
  {
   "cell_type": "code",
   "execution_count": 21,
   "id": "e69b3475",
   "metadata": {},
   "outputs": [],
   "source": [
    "np.savetxt(\"embeddings_model3.csv\", embeddings, delimiter=\",\")"
   ]
  },
  {
   "cell_type": "code",
   "execution_count": 22,
   "id": "17206d80",
   "metadata": {},
   "outputs": [
    {
     "data": {
      "text/plain": [
       "array([-0.02314374,  0.00356477, -0.02511154, -0.00574221, -0.02037801,\n",
       "        0.00612416,  0.00661747,  0.01302327, -0.01203879,  0.03196121,\n",
       "        0.06389735,  0.02450056,  0.05767334,  0.01309287,  0.05158229,\n",
       "       -0.00494286, -0.07346611,  0.00055991, -0.03272279, -0.04898806],\n",
       "      dtype=float32)"
      ]
     },
     "execution_count": 22,
     "metadata": {},
     "output_type": "execute_result"
    }
   ],
   "source": [
    "embeddings[t.word_index['60126'],:]"
   ]
  },
  {
   "cell_type": "code",
   "execution_count": 23,
   "id": "77c611b0",
   "metadata": {},
   "outputs": [
    {
     "data": {
      "text/plain": [
       "-0.4122358"
      ]
     },
     "execution_count": 23,
     "metadata": {},
     "output_type": "execute_result"
    }
   ],
   "source": [
    "cosine_similarity(np.reshape(embeddings[t.word_index['60126'],:],(1,20)),np.reshape(embeddings[t.word_index['55929'],:],(1,20)))[0][0]"
   ]
  },
  {
   "cell_type": "code",
   "execution_count": 24,
   "id": "08750361",
   "metadata": {},
   "outputs": [
    {
     "data": {
      "text/plain": [
       "0.5723244716108641"
      ]
     },
     "execution_count": 24,
     "metadata": {},
     "output_type": "execute_result"
    }
   ],
   "source": [
    "1. - cdist(np.reshape(embeddings[t.word_index['60126'],:],(1,20)), np.reshape(embeddings[t.word_index['60163'],:],(1,20)), 'cosine')[0][0]"
   ]
  },
  {
   "cell_type": "code",
   "execution_count": 25,
   "id": "99c6c8ac",
   "metadata": {},
   "outputs": [],
   "source": [
    "states = pd.DataFrame(pd.unique(data.statecode),columns=['states'])"
   ]
  },
  {
   "cell_type": "code",
   "execution_count": 26,
   "id": "e086956a",
   "metadata": {},
   "outputs": [],
   "source": [
    "states_list = []\n",
    "\n",
    "for index, row in states.iterrows():\n",
    "    state = row[0].lower()\n",
    "    states_list.append(pd.concat([pd.Series(state), pd.DataFrame(np.reshape(embeddings[t.word_index[state],:],(1,20)))   ],axis=1))   "
   ]
  },
  {
   "cell_type": "code",
   "execution_count": 27,
   "id": "e4881ad1",
   "metadata": {},
   "outputs": [],
   "source": [
    "states = pd.concat(states_list)\n",
    "states = states.reset_index(drop=True)"
   ]
  },
  {
   "cell_type": "code",
   "execution_count": 28,
   "id": "2b6ef199",
   "metadata": {
    "scrolled": false
   },
   "outputs": [],
   "source": [
    "states.columns = range(states.columns.size)"
   ]
  },
  {
   "cell_type": "code",
   "execution_count": 29,
   "id": "11494cf5",
   "metadata": {},
   "outputs": [],
   "source": [
    "x = StandardScaler().fit_transform(states.iloc[:,1:-1].values)"
   ]
  },
  {
   "cell_type": "code",
   "execution_count": 32,
   "id": "d64311d0",
   "metadata": {},
   "outputs": [
    {
     "name": "stderr",
     "output_type": "stream",
     "text": [
      "C:\\Users\\jpalma3\\Anaconda3\\envs\\tensorflow\\lib\\site-packages\\sklearn\\manifold\\_t_sne.py:790: FutureWarning: The default learning rate in TSNE will change from 200.0 to 'auto' in 1.2.\n",
      "  warnings.warn(\n",
      "C:\\Users\\jpalma3\\Anaconda3\\envs\\tensorflow\\lib\\site-packages\\sklearn\\manifold\\_t_sne.py:982: FutureWarning: The PCA initialization in TSNE will change to have the standard deviation of PC1 equal to 1e-4 in 1.2. This will ensure better convergence.\n",
      "  warnings.warn(\n"
     ]
    }
   ],
   "source": [
    "#TSNE : Compressing the weights to 3 dimensions to plot the data\n",
    "tsne_model = TSNE(perplexity=40, n_components=3, init='pca', n_iter=2500, random_state=seed)\n",
    "new_values = tsne_model.fit_transform(x)"
   ]
  },
  {
   "cell_type": "code",
   "execution_count": 33,
   "id": "8b322485",
   "metadata": {},
   "outputs": [],
   "source": [
    "principalDf = pd.DataFrame(data = new_values\n",
    "             , columns = ['component 1', 'component 2', 'component 3'])"
   ]
  },
  {
   "cell_type": "code",
   "execution_count": 34,
   "id": "a09a2021",
   "metadata": {},
   "outputs": [],
   "source": [
    "#principalDf = pd.DataFrame(data = principalComponents\n",
    "#             , columns = ['principal component 1', 'principal component 2'])"
   ]
  },
  {
   "cell_type": "code",
   "execution_count": 41,
   "id": "d7d55113",
   "metadata": {},
   "outputs": [],
   "source": [
    "finalDf = pd.concat([principalDf, states.iloc[:,0]], axis = 1)\n",
    "finalDf.columns = ['x', 'y', 'z', 'State']"
   ]
  },
  {
   "cell_type": "code",
   "execution_count": null,
   "id": "156326f6",
   "metadata": {},
   "outputs": [],
   "source": [
    "word_to_index = t.word_index\n",
    "index_to_word = dict()\n",
    "\n",
    "for key in word_to_index:\n",
    "    index_to_word.update({word_to_index[key] : key })"
   ]
  },
  {
   "cell_type": "code",
   "execution_count": 49,
   "id": "002db0b3",
   "metadata": {},
   "outputs": [
    {
     "data": {
      "application/vnd.plotly.v1+json": {
       "config": {
        "plotlyServerURL": "https://plot.ly"
       },
       "data": [
        {
         "hovertemplate": "State=pr<br>x=%{x}<br>y=%{y}<br>z=%{z}<extra></extra>",
         "legendgroup": "pr",
         "marker": {
          "color": "#636efa",
          "symbol": "circle"
         },
         "mode": "markers",
         "name": "pr",
         "scene": "scene",
         "showlegend": true,
         "type": "scatter3d",
         "x": [
          -45.936893463134766
         ],
         "y": [
          5.973630428314209
         ],
         "z": [
          -225.8866424560547
         ]
        },
        {
         "hovertemplate": "State=ak<br>x=%{x}<br>y=%{y}<br>z=%{z}<extra></extra>",
         "legendgroup": "ak",
         "marker": {
          "color": "#EF553B",
          "symbol": "circle"
         },
         "mode": "markers",
         "name": "ak",
         "scene": "scene",
         "showlegend": true,
         "type": "scatter3d",
         "x": [
          65.6216812133789
         ],
         "y": [
          -112.42044067382812
         ],
         "z": [
          379.2932434082031
         ]
        },
        {
         "hovertemplate": "State=al<br>x=%{x}<br>y=%{y}<br>z=%{z}<extra></extra>",
         "legendgroup": "al",
         "marker": {
          "color": "#00cc96",
          "symbol": "circle"
         },
         "mode": "markers",
         "name": "al",
         "scene": "scene",
         "showlegend": true,
         "type": "scatter3d",
         "x": [
          -176.2176971435547
         ],
         "y": [
          -466.4727478027344
         ],
         "z": [
          113.43883514404297
         ]
        },
        {
         "hovertemplate": "State=ar<br>x=%{x}<br>y=%{y}<br>z=%{z}<extra></extra>",
         "legendgroup": "ar",
         "marker": {
          "color": "#ab63fa",
          "symbol": "circle"
         },
         "mode": "markers",
         "name": "ar",
         "scene": "scene",
         "showlegend": true,
         "type": "scatter3d",
         "x": [
          31.600894927978516
         ],
         "y": [
          -386.9750061035156
         ],
         "z": [
          18.847211837768555
         ]
        },
        {
         "hovertemplate": "State=az<br>x=%{x}<br>y=%{y}<br>z=%{z}<extra></extra>",
         "legendgroup": "az",
         "marker": {
          "color": "#FFA15A",
          "symbol": "circle"
         },
         "mode": "markers",
         "name": "az",
         "scene": "scene",
         "showlegend": true,
         "type": "scatter3d",
         "x": [
          -96.05342864990234
         ],
         "y": [
          37.25376892089844
         ],
         "z": [
          -470.693115234375
         ]
        },
        {
         "hovertemplate": "State=ca<br>x=%{x}<br>y=%{y}<br>z=%{z}<extra></extra>",
         "legendgroup": "ca",
         "marker": {
          "color": "#19d3f3",
          "symbol": "circle"
         },
         "mode": "markers",
         "name": "ca",
         "scene": "scene",
         "showlegend": true,
         "type": "scatter3d",
         "x": [
          301.520263671875
         ],
         "y": [
          445.3272399902344
         ],
         "z": [
          -730.9175415039062
         ]
        },
        {
         "hovertemplate": "State=co<br>x=%{x}<br>y=%{y}<br>z=%{z}<extra></extra>",
         "legendgroup": "co",
         "marker": {
          "color": "#FF6692",
          "symbol": "circle"
         },
         "mode": "markers",
         "name": "co",
         "scene": "scene",
         "showlegend": true,
         "type": "scatter3d",
         "x": [
          -510.0477294921875
         ],
         "y": [
          91.48933410644531
         ],
         "z": [
          -135.7014923095703
         ]
        },
        {
         "hovertemplate": "State=ct<br>x=%{x}<br>y=%{y}<br>z=%{z}<extra></extra>",
         "legendgroup": "ct",
         "marker": {
          "color": "#B6E880",
          "symbol": "circle"
         },
         "mode": "markers",
         "name": "ct",
         "scene": "scene",
         "showlegend": true,
         "type": "scatter3d",
         "x": [
          172.1842803955078
         ],
         "y": [
          -219.7704620361328
         ],
         "z": [
          198.78134155273438
         ]
        },
        {
         "hovertemplate": "State=dc<br>x=%{x}<br>y=%{y}<br>z=%{z}<extra></extra>",
         "legendgroup": "dc",
         "marker": {
          "color": "#FF97FF",
          "symbol": "circle"
         },
         "mode": "markers",
         "name": "dc",
         "scene": "scene",
         "showlegend": true,
         "type": "scatter3d",
         "x": [
          -138.408935546875
         ],
         "y": [
          33.24967956542969
         ],
         "z": [
          -17.812744140625
         ]
        },
        {
         "hovertemplate": "State=de<br>x=%{x}<br>y=%{y}<br>z=%{z}<extra></extra>",
         "legendgroup": "de",
         "marker": {
          "color": "#FECB52",
          "symbol": "circle"
         },
         "mode": "markers",
         "name": "de",
         "scene": "scene",
         "showlegend": true,
         "type": "scatter3d",
         "x": [
          159.84243774414062
         ],
         "y": [
          -389.6142272949219
         ],
         "z": [
          -215.71629333496094
         ]
        },
        {
         "hovertemplate": "State=fl<br>x=%{x}<br>y=%{y}<br>z=%{z}<extra></extra>",
         "legendgroup": "fl",
         "marker": {
          "color": "#636efa",
          "symbol": "circle"
         },
         "mode": "markers",
         "name": "fl",
         "scene": "scene",
         "showlegend": true,
         "type": "scatter3d",
         "x": [
          -206.07582092285156
         ],
         "y": [
          -83.66401672363281
         ],
         "z": [
          430.7178039550781
         ]
        },
        {
         "hovertemplate": "State=ga<br>x=%{x}<br>y=%{y}<br>z=%{z}<extra></extra>",
         "legendgroup": "ga",
         "marker": {
          "color": "#EF553B",
          "symbol": "circle"
         },
         "mode": "markers",
         "name": "ga",
         "scene": "scene",
         "showlegend": true,
         "type": "scatter3d",
         "x": [
          63.3286247253418
         ],
         "y": [
          114.3680419921875
         ],
         "z": [
          488.2619934082031
         ]
        },
        {
         "hovertemplate": "State=hi<br>x=%{x}<br>y=%{y}<br>z=%{z}<extra></extra>",
         "legendgroup": "hi",
         "marker": {
          "color": "#00cc96",
          "symbol": "circle"
         },
         "mode": "markers",
         "name": "hi",
         "scene": "scene",
         "showlegend": true,
         "type": "scatter3d",
         "x": [
          71.9112548828125
         ],
         "y": [
          464.7952880859375
         ],
         "z": [
          -185.46363830566406
         ]
        },
        {
         "hovertemplate": "State=ia<br>x=%{x}<br>y=%{y}<br>z=%{z}<extra></extra>",
         "legendgroup": "ia",
         "marker": {
          "color": "#ab63fa",
          "symbol": "circle"
         },
         "mode": "markers",
         "name": "ia",
         "scene": "scene",
         "showlegend": true,
         "type": "scatter3d",
         "x": [
          -302.8644104003906
         ],
         "y": [
          173.81556701660156
         ],
         "z": [
          -70.93014526367188
         ]
        },
        {
         "hovertemplate": "State=id<br>x=%{x}<br>y=%{y}<br>z=%{z}<extra></extra>",
         "legendgroup": "id",
         "marker": {
          "color": "#FFA15A",
          "symbol": "circle"
         },
         "mode": "markers",
         "name": "id",
         "scene": "scene",
         "showlegend": true,
         "type": "scatter3d",
         "x": [
          49.611270904541016
         ],
         "y": [
          -188.1810760498047
         ],
         "z": [
          -143.49925231933594
         ]
        },
        {
         "hovertemplate": "State=il<br>x=%{x}<br>y=%{y}<br>z=%{z}<extra></extra>",
         "legendgroup": "il",
         "marker": {
          "color": "#19d3f3",
          "symbol": "circle"
         },
         "mode": "markers",
         "name": "il",
         "scene": "scene",
         "showlegend": true,
         "type": "scatter3d",
         "x": [
          276.2062683105469
         ],
         "y": [
          -364.2067565917969
         ],
         "z": [
          54.55899429321289
         ]
        },
        {
         "hovertemplate": "State=in<br>x=%{x}<br>y=%{y}<br>z=%{z}<extra></extra>",
         "legendgroup": "in",
         "marker": {
          "color": "#FF6692",
          "symbol": "circle"
         },
         "mode": "markers",
         "name": "in",
         "scene": "scene",
         "showlegend": true,
         "type": "scatter3d",
         "x": [
          193.34410095214844
         ],
         "y": [
          65.59297180175781
         ],
         "z": [
          246.94837951660156
         ]
        },
        {
         "hovertemplate": "State=ks<br>x=%{x}<br>y=%{y}<br>z=%{z}<extra></extra>",
         "legendgroup": "ks",
         "marker": {
          "color": "#B6E880",
          "symbol": "circle"
         },
         "mode": "markers",
         "name": "ks",
         "scene": "scene",
         "showlegend": true,
         "type": "scatter3d",
         "x": [
          -11.993294715881348
         ],
         "y": [
          25.105953216552734
         ],
         "z": [
          190.07237243652344
         ]
        },
        {
         "hovertemplate": "State=ky<br>x=%{x}<br>y=%{y}<br>z=%{z}<extra></extra>",
         "legendgroup": "ky",
         "marker": {
          "color": "#FF97FF",
          "symbol": "circle"
         },
         "mode": "markers",
         "name": "ky",
         "scene": "scene",
         "showlegend": true,
         "type": "scatter3d",
         "x": [
          -178.47021484375
         ],
         "y": [
          482.4330749511719
         ],
         "z": [
          -45.89291000366211
         ]
        },
        {
         "hovertemplate": "State=la<br>x=%{x}<br>y=%{y}<br>z=%{z}<extra></extra>",
         "legendgroup": "la",
         "marker": {
          "color": "#FECB52",
          "symbol": "circle"
         },
         "mode": "markers",
         "name": "la",
         "scene": "scene",
         "showlegend": true,
         "type": "scatter3d",
         "x": [
          101.70421600341797
         ],
         "y": [
          434.2765197753906
         ],
         "z": [
          126.97468566894531
         ]
        },
        {
         "hovertemplate": "State=ma<br>x=%{x}<br>y=%{y}<br>z=%{z}<extra></extra>",
         "legendgroup": "ma",
         "marker": {
          "color": "#636efa",
          "symbol": "circle"
         },
         "mode": "markers",
         "name": "ma",
         "scene": "scene",
         "showlegend": true,
         "type": "scatter3d",
         "x": [
          443.1929016113281
         ],
         "y": [
          94.00315856933594
         ],
         "z": [
          -159.90016174316406
         ]
        },
        {
         "hovertemplate": "State=md<br>x=%{x}<br>y=%{y}<br>z=%{z}<extra></extra>",
         "legendgroup": "md",
         "marker": {
          "color": "#EF553B",
          "symbol": "circle"
         },
         "mode": "markers",
         "name": "md",
         "scene": "scene",
         "showlegend": true,
         "type": "scatter3d",
         "x": [
          209.55218505859375
         ],
         "y": [
          18.240537643432617
         ],
         "z": [
          -208.95144653320312
         ]
        },
        {
         "hovertemplate": "State=me<br>x=%{x}<br>y=%{y}<br>z=%{z}<extra></extra>",
         "legendgroup": "me",
         "marker": {
          "color": "#00cc96",
          "symbol": "circle"
         },
         "mode": "markers",
         "name": "me",
         "scene": "scene",
         "showlegend": true,
         "type": "scatter3d",
         "x": [
          326.76922607421875
         ],
         "y": [
          -4.527799129486084
         ],
         "z": [
          48.68944549560547
         ]
        },
        {
         "hovertemplate": "State=mh<br>x=%{x}<br>y=%{y}<br>z=%{z}<extra></extra>",
         "legendgroup": "mh",
         "marker": {
          "color": "#ab63fa",
          "symbol": "circle"
         },
         "mode": "markers",
         "name": "mh",
         "scene": "scene",
         "showlegend": true,
         "type": "scatter3d",
         "x": [
          -124.59396362304688
         ],
         "y": [
          291.61639404296875
         ],
         "z": [
          59.453269958496094
         ]
        },
        {
         "hovertemplate": "State=mi<br>x=%{x}<br>y=%{y}<br>z=%{z}<extra></extra>",
         "legendgroup": "mi",
         "marker": {
          "color": "#FFA15A",
          "symbol": "circle"
         },
         "mode": "markers",
         "name": "mi",
         "scene": "scene",
         "showlegend": true,
         "type": "scatter3d",
         "x": [
          264.73138427734375
         ],
         "y": [
          263.6548156738281
         ],
         "z": [
          -211.3732147216797
         ]
        },
        {
         "hovertemplate": "State=mn<br>x=%{x}<br>y=%{y}<br>z=%{z}<extra></extra>",
         "legendgroup": "mn",
         "marker": {
          "color": "#19d3f3",
          "symbol": "circle"
         },
         "mode": "markers",
         "name": "mn",
         "scene": "scene",
         "showlegend": true,
         "type": "scatter3d",
         "x": [
          -232.73583984375
         ],
         "y": [
          -166.4862518310547
         ],
         "z": [
          -235.030517578125
         ]
        },
        {
         "hovertemplate": "State=mo<br>x=%{x}<br>y=%{y}<br>z=%{z}<extra></extra>",
         "legendgroup": "mo",
         "marker": {
          "color": "#FF6692",
          "symbol": "circle"
         },
         "mode": "markers",
         "name": "mo",
         "scene": "scene",
         "showlegend": true,
         "type": "scatter3d",
         "x": [
          -453.14996337890625
         ],
         "y": [
          57.87104797363281
         ],
         "z": [
          200.02313232421875
         ]
        },
        {
         "hovertemplate": "State=ms<br>x=%{x}<br>y=%{y}<br>z=%{z}<extra></extra>",
         "legendgroup": "ms",
         "marker": {
          "color": "#B6E880",
          "symbol": "circle"
         },
         "mode": "markers",
         "name": "ms",
         "scene": "scene",
         "showlegend": true,
         "type": "scatter3d",
         "x": [
          364.9925842285156
         ],
         "y": [
          242.7779998779297
         ],
         "z": [
          237.40234375
         ]
        },
        {
         "hovertemplate": "State=mt<br>x=%{x}<br>y=%{y}<br>z=%{z}<extra></extra>",
         "legendgroup": "mt",
         "marker": {
          "color": "#FF97FF",
          "symbol": "circle"
         },
         "mode": "markers",
         "name": "mt",
         "scene": "scene",
         "showlegend": true,
         "type": "scatter3d",
         "x": [
          299.24713134765625
         ],
         "y": [
          -193.7368621826172
         ],
         "z": [
          -101.4186019897461
         ]
        },
        {
         "hovertemplate": "State=nc<br>x=%{x}<br>y=%{y}<br>z=%{z}<extra></extra>",
         "legendgroup": "nc",
         "marker": {
          "color": "#FECB52",
          "symbol": "circle"
         },
         "mode": "markers",
         "name": "nc",
         "scene": "scene",
         "showlegend": true,
         "type": "scatter3d",
         "x": [
          1.3053464889526367
         ],
         "y": [
          -220.37254333496094
         ],
         "z": [
          -404.33685302734375
         ]
        },
        {
         "hovertemplate": "State=nd<br>x=%{x}<br>y=%{y}<br>z=%{z}<extra></extra>",
         "legendgroup": "nd",
         "marker": {
          "color": "#636efa",
          "symbol": "circle"
         },
         "mode": "markers",
         "name": "nd",
         "scene": "scene",
         "showlegend": true,
         "type": "scatter3d",
         "x": [
          -334.82904052734375
         ],
         "y": [
          285.9602355957031
         ],
         "z": [
          169.46249389648438
         ]
        },
        {
         "hovertemplate": "State=ne<br>x=%{x}<br>y=%{y}<br>z=%{z}<extra></extra>",
         "legendgroup": "ne",
         "marker": {
          "color": "#EF553B",
          "symbol": "circle"
         },
         "mode": "markers",
         "name": "ne",
         "scene": "scene",
         "showlegend": true,
         "type": "scatter3d",
         "x": [
          100.54761505126953
         ],
         "y": [
          -1.2090109586715698
         ],
         "z": [
          1.9925168752670288
         ]
        },
        {
         "hovertemplate": "State=nh<br>x=%{x}<br>y=%{y}<br>z=%{z}<extra></extra>",
         "legendgroup": "nh",
         "marker": {
          "color": "#00cc96",
          "symbol": "circle"
         },
         "mode": "markers",
         "name": "nh",
         "scene": "scene",
         "showlegend": true,
         "type": "scatter3d",
         "x": [
          1.522464394569397
         ],
         "y": [
          276.9800109863281
         ],
         "z": [
          298.3643798828125
         ]
        },
        {
         "hovertemplate": "State=nj<br>x=%{x}<br>y=%{y}<br>z=%{z}<extra></extra>",
         "legendgroup": "nj",
         "marker": {
          "color": "#ab63fa",
          "symbol": "circle"
         },
         "mode": "markers",
         "name": "nj",
         "scene": "scene",
         "showlegend": true,
         "type": "scatter3d",
         "x": [
          -389.13262939453125
         ],
         "y": [
          -265.7720031738281
         ],
         "z": [
          175.8749237060547
         ]
        },
        {
         "hovertemplate": "State=nm<br>x=%{x}<br>y=%{y}<br>z=%{z}<extra></extra>",
         "legendgroup": "nm",
         "marker": {
          "color": "#FFA15A",
          "symbol": "circle"
         },
         "mode": "markers",
         "name": "nm",
         "scene": "scene",
         "showlegend": true,
         "type": "scatter3d",
         "x": [
          158.63885498046875
         ],
         "y": [
          117.44562530517578
         ],
         "z": [
          -455.6266784667969
         ]
        },
        {
         "hovertemplate": "State=nv<br>x=%{x}<br>y=%{y}<br>z=%{z}<extra></extra>",
         "legendgroup": "nv",
         "marker": {
          "color": "#19d3f3",
          "symbol": "circle"
         },
         "mode": "markers",
         "name": "nv",
         "scene": "scene",
         "showlegend": true,
         "type": "scatter3d",
         "x": [
          -10.624545097351074
         ],
         "y": [
          -399.61474609375
         ],
         "z": [
          334.58056640625
         ]
        },
        {
         "hovertemplate": "State=ny<br>x=%{x}<br>y=%{y}<br>z=%{z}<extra></extra>",
         "legendgroup": "ny",
         "marker": {
          "color": "#FF6692",
          "symbol": "circle"
         },
         "mode": "markers",
         "name": "ny",
         "scene": "scene",
         "showlegend": true,
         "type": "scatter3d",
         "x": [
          -128.7706298828125
         ],
         "y": [
          -401.8463134765625
         ],
         "z": [
          -225.23878479003906
         ]
        },
        {
         "hovertemplate": "State=oh<br>x=%{x}<br>y=%{y}<br>z=%{z}<extra></extra>",
         "legendgroup": "oh",
         "marker": {
          "color": "#B6E880",
          "symbol": "circle"
         },
         "mode": "markers",
         "name": "oh",
         "scene": "scene",
         "showlegend": true,
         "type": "scatter3d",
         "x": [
          -247.73101806640625
         ],
         "y": [
          -275.29742431640625
         ],
         "z": [
          -34.645511627197266
         ]
        },
        {
         "hovertemplate": "State=ok<br>x=%{x}<br>y=%{y}<br>z=%{z}<extra></extra>",
         "legendgroup": "ok",
         "marker": {
          "color": "#FF97FF",
          "symbol": "circle"
         },
         "mode": "markers",
         "name": "ok",
         "scene": "scene",
         "showlegend": true,
         "type": "scatter3d",
         "x": [
          368.89508056640625
         ],
         "y": [
          -112.69660186767578
         ],
         "z": [
          303.62921142578125
         ]
        },
        {
         "hovertemplate": "State=or<br>x=%{x}<br>y=%{y}<br>z=%{z}<extra></extra>",
         "legendgroup": "or",
         "marker": {
          "color": "#FECB52",
          "symbol": "circle"
         },
         "mode": "markers",
         "name": "or",
         "scene": "scene",
         "showlegend": true,
         "type": "scatter3d",
         "x": [
          -211.6715087890625
         ],
         "y": [
          303.6457824707031
         ],
         "z": [
          -261.02227783203125
         ]
        },
        {
         "hovertemplate": "State=pa<br>x=%{x}<br>y=%{y}<br>z=%{z}<extra></extra>",
         "legendgroup": "pa",
         "marker": {
          "color": "#636efa",
          "symbol": "circle"
         },
         "mode": "markers",
         "name": "pa",
         "scene": "scene",
         "showlegend": true,
         "type": "scatter3d",
         "x": [
          -409.2705078125
         ],
         "y": [
          -110.3522720336914
         ],
         "z": [
          -29.92293357849121
         ]
        },
        {
         "hovertemplate": "State=ri<br>x=%{x}<br>y=%{y}<br>z=%{z}<extra></extra>",
         "legendgroup": "ri",
         "marker": {
          "color": "#EF553B",
          "symbol": "circle"
         },
         "mode": "markers",
         "name": "ri",
         "scene": "scene",
         "showlegend": true,
         "type": "scatter3d",
         "x": [
          -255.95753479003906
         ],
         "y": [
          -66.64987182617188
         ],
         "z": [
          155.20376586914062
         ]
        },
        {
         "hovertemplate": "State=sc<br>x=%{x}<br>y=%{y}<br>z=%{z}<extra></extra>",
         "legendgroup": "sc",
         "marker": {
          "color": "#00cc96",
          "symbol": "circle"
         },
         "mode": "markers",
         "name": "sc",
         "scene": "scene",
         "showlegend": true,
         "type": "scatter3d",
         "x": [
          -307.5887756347656
         ],
         "y": [
          63.999725341796875
         ],
         "z": [
          -318.58331298828125
         ]
        },
        {
         "hovertemplate": "State=sd<br>x=%{x}<br>y=%{y}<br>z=%{z}<extra></extra>",
         "legendgroup": "sd",
         "marker": {
          "color": "#ab63fa",
          "symbol": "circle"
         },
         "mode": "markers",
         "name": "sd",
         "scene": "scene",
         "showlegend": true,
         "type": "scatter3d",
         "x": [
          -482.58251953125
         ],
         "y": [
          -488.6495666503906
         ],
         "z": [
          -100.28217315673828
         ]
        },
        {
         "hovertemplate": "State=tn<br>x=%{x}<br>y=%{y}<br>z=%{z}<extra></extra>",
         "legendgroup": "tn",
         "marker": {
          "color": "#FFA15A",
          "symbol": "circle"
         },
         "mode": "markers",
         "name": "tn",
         "scene": "scene",
         "showlegend": true,
         "type": "scatter3d",
         "x": [
          536.3963012695312
         ],
         "y": [
          -78.280029296875
         ],
         "z": [
          56.56099319458008
         ]
        },
        {
         "hovertemplate": "State=tx<br>x=%{x}<br>y=%{y}<br>z=%{z}<extra></extra>",
         "legendgroup": "tx",
         "marker": {
          "color": "#19d3f3",
          "symbol": "circle"
         },
         "mode": "markers",
         "name": "tx",
         "scene": "scene",
         "showlegend": true,
         "type": "scatter3d",
         "x": [
          -7.8934760093688965
         ],
         "y": [
          226.57217407226562
         ],
         "z": [
          -327.2039794921875
         ]
        },
        {
         "hovertemplate": "State=ut<br>x=%{x}<br>y=%{y}<br>z=%{z}<extra></extra>",
         "legendgroup": "ut",
         "marker": {
          "color": "#FF6692",
          "symbol": "circle"
         },
         "mode": "markers",
         "name": "ut",
         "scene": "scene",
         "showlegend": true,
         "type": "scatter3d",
         "x": [
          -122.50439453125
         ],
         "y": [
          -236.1965789794922
         ],
         "z": [
          250.83396911621094
         ]
        },
        {
         "hovertemplate": "State=va<br>x=%{x}<br>y=%{y}<br>z=%{z}<extra></extra>",
         "legendgroup": "va",
         "marker": {
          "color": "#B6E880",
          "symbol": "circle"
         },
         "mode": "markers",
         "name": "va",
         "scene": "scene",
         "showlegend": true,
         "type": "scatter3d",
         "x": [
          220.90225219726562
         ],
         "y": [
          226.74388122558594
         ],
         "z": [
          35.73094177246094
         ]
        },
        {
         "hovertemplate": "State=vt<br>x=%{x}<br>y=%{y}<br>z=%{z}<extra></extra>",
         "legendgroup": "vt",
         "marker": {
          "color": "#FF97FF",
          "symbol": "circle"
         },
         "mode": "markers",
         "name": "vt",
         "scene": "scene",
         "showlegend": true,
         "type": "scatter3d",
         "x": [
          316.65802001953125
         ],
         "y": [
          -146.61265563964844
         ],
         "z": [
          -356.610107421875
         ]
        },
        {
         "hovertemplate": "State=wa<br>x=%{x}<br>y=%{y}<br>z=%{z}<extra></extra>",
         "legendgroup": "wa",
         "marker": {
          "color": "#FECB52",
          "symbol": "circle"
         },
         "mode": "markers",
         "name": "wa",
         "scene": "scene",
         "showlegend": true,
         "type": "scatter3d",
         "x": [
          13.187079429626465
         ],
         "y": [
          204.3591766357422
         ],
         "z": [
          -82.06465911865234
         ]
        },
        {
         "hovertemplate": "State=wi<br>x=%{x}<br>y=%{y}<br>z=%{z}<extra></extra>",
         "legendgroup": "wi",
         "marker": {
          "color": "#636efa",
          "symbol": "circle"
         },
         "mode": "markers",
         "name": "wi",
         "scene": "scene",
         "showlegend": true,
         "type": "scatter3d",
         "x": [
          -194.48342895507812
         ],
         "y": [
          129.2572021484375
         ],
         "z": [
          280.2239685058594
         ]
        },
        {
         "hovertemplate": "State=wv<br>x=%{x}<br>y=%{y}<br>z=%{z}<extra></extra>",
         "legendgroup": "wv",
         "marker": {
          "color": "#EF553B",
          "symbol": "circle"
         },
         "mode": "markers",
         "name": "wv",
         "scene": "scene",
         "showlegend": true,
         "type": "scatter3d",
         "x": [
          1046.9637451171875
         ],
         "y": [
          927.0396118164062
         ],
         "z": [
          177.68409729003906
         ]
        },
        {
         "hovertemplate": "State=wy<br>x=%{x}<br>y=%{y}<br>z=%{z}<extra></extra>",
         "legendgroup": "wy",
         "marker": {
          "color": "#00cc96",
          "symbol": "circle"
         },
         "mode": "markers",
         "name": "wy",
         "scene": "scene",
         "showlegend": true,
         "type": "scatter3d",
         "x": [
          -40.18480682373047
         ],
         "y": [
          -164.4147186279297
         ],
         "z": [
          53.573307037353516
         ]
        }
       ],
       "layout": {
        "legend": {
         "title": {
          "text": "State"
         },
         "tracegroupgap": 0
        },
        "margin": {
         "t": 60
        },
        "scene": {
         "domain": {
          "x": [
           0,
           1
          ],
          "y": [
           0,
           1
          ]
         },
         "xaxis": {
          "title": {
           "text": "x"
          }
         },
         "yaxis": {
          "title": {
           "text": "y"
          }
         },
         "zaxis": {
          "title": {
           "text": "z"
          }
         }
        },
        "template": {
         "data": {
          "bar": [
           {
            "error_x": {
             "color": "#2a3f5f"
            },
            "error_y": {
             "color": "#2a3f5f"
            },
            "marker": {
             "line": {
              "color": "#E5ECF6",
              "width": 0.5
             },
             "pattern": {
              "fillmode": "overlay",
              "size": 10,
              "solidity": 0.2
             }
            },
            "type": "bar"
           }
          ],
          "barpolar": [
           {
            "marker": {
             "line": {
              "color": "#E5ECF6",
              "width": 0.5
             },
             "pattern": {
              "fillmode": "overlay",
              "size": 10,
              "solidity": 0.2
             }
            },
            "type": "barpolar"
           }
          ],
          "carpet": [
           {
            "aaxis": {
             "endlinecolor": "#2a3f5f",
             "gridcolor": "white",
             "linecolor": "white",
             "minorgridcolor": "white",
             "startlinecolor": "#2a3f5f"
            },
            "baxis": {
             "endlinecolor": "#2a3f5f",
             "gridcolor": "white",
             "linecolor": "white",
             "minorgridcolor": "white",
             "startlinecolor": "#2a3f5f"
            },
            "type": "carpet"
           }
          ],
          "choropleth": [
           {
            "colorbar": {
             "outlinewidth": 0,
             "ticks": ""
            },
            "type": "choropleth"
           }
          ],
          "contour": [
           {
            "colorbar": {
             "outlinewidth": 0,
             "ticks": ""
            },
            "colorscale": [
             [
              0,
              "#0d0887"
             ],
             [
              0.1111111111111111,
              "#46039f"
             ],
             [
              0.2222222222222222,
              "#7201a8"
             ],
             [
              0.3333333333333333,
              "#9c179e"
             ],
             [
              0.4444444444444444,
              "#bd3786"
             ],
             [
              0.5555555555555556,
              "#d8576b"
             ],
             [
              0.6666666666666666,
              "#ed7953"
             ],
             [
              0.7777777777777778,
              "#fb9f3a"
             ],
             [
              0.8888888888888888,
              "#fdca26"
             ],
             [
              1,
              "#f0f921"
             ]
            ],
            "type": "contour"
           }
          ],
          "contourcarpet": [
           {
            "colorbar": {
             "outlinewidth": 0,
             "ticks": ""
            },
            "type": "contourcarpet"
           }
          ],
          "heatmap": [
           {
            "colorbar": {
             "outlinewidth": 0,
             "ticks": ""
            },
            "colorscale": [
             [
              0,
              "#0d0887"
             ],
             [
              0.1111111111111111,
              "#46039f"
             ],
             [
              0.2222222222222222,
              "#7201a8"
             ],
             [
              0.3333333333333333,
              "#9c179e"
             ],
             [
              0.4444444444444444,
              "#bd3786"
             ],
             [
              0.5555555555555556,
              "#d8576b"
             ],
             [
              0.6666666666666666,
              "#ed7953"
             ],
             [
              0.7777777777777778,
              "#fb9f3a"
             ],
             [
              0.8888888888888888,
              "#fdca26"
             ],
             [
              1,
              "#f0f921"
             ]
            ],
            "type": "heatmap"
           }
          ],
          "heatmapgl": [
           {
            "colorbar": {
             "outlinewidth": 0,
             "ticks": ""
            },
            "colorscale": [
             [
              0,
              "#0d0887"
             ],
             [
              0.1111111111111111,
              "#46039f"
             ],
             [
              0.2222222222222222,
              "#7201a8"
             ],
             [
              0.3333333333333333,
              "#9c179e"
             ],
             [
              0.4444444444444444,
              "#bd3786"
             ],
             [
              0.5555555555555556,
              "#d8576b"
             ],
             [
              0.6666666666666666,
              "#ed7953"
             ],
             [
              0.7777777777777778,
              "#fb9f3a"
             ],
             [
              0.8888888888888888,
              "#fdca26"
             ],
             [
              1,
              "#f0f921"
             ]
            ],
            "type": "heatmapgl"
           }
          ],
          "histogram": [
           {
            "marker": {
             "pattern": {
              "fillmode": "overlay",
              "size": 10,
              "solidity": 0.2
             }
            },
            "type": "histogram"
           }
          ],
          "histogram2d": [
           {
            "colorbar": {
             "outlinewidth": 0,
             "ticks": ""
            },
            "colorscale": [
             [
              0,
              "#0d0887"
             ],
             [
              0.1111111111111111,
              "#46039f"
             ],
             [
              0.2222222222222222,
              "#7201a8"
             ],
             [
              0.3333333333333333,
              "#9c179e"
             ],
             [
              0.4444444444444444,
              "#bd3786"
             ],
             [
              0.5555555555555556,
              "#d8576b"
             ],
             [
              0.6666666666666666,
              "#ed7953"
             ],
             [
              0.7777777777777778,
              "#fb9f3a"
             ],
             [
              0.8888888888888888,
              "#fdca26"
             ],
             [
              1,
              "#f0f921"
             ]
            ],
            "type": "histogram2d"
           }
          ],
          "histogram2dcontour": [
           {
            "colorbar": {
             "outlinewidth": 0,
             "ticks": ""
            },
            "colorscale": [
             [
              0,
              "#0d0887"
             ],
             [
              0.1111111111111111,
              "#46039f"
             ],
             [
              0.2222222222222222,
              "#7201a8"
             ],
             [
              0.3333333333333333,
              "#9c179e"
             ],
             [
              0.4444444444444444,
              "#bd3786"
             ],
             [
              0.5555555555555556,
              "#d8576b"
             ],
             [
              0.6666666666666666,
              "#ed7953"
             ],
             [
              0.7777777777777778,
              "#fb9f3a"
             ],
             [
              0.8888888888888888,
              "#fdca26"
             ],
             [
              1,
              "#f0f921"
             ]
            ],
            "type": "histogram2dcontour"
           }
          ],
          "mesh3d": [
           {
            "colorbar": {
             "outlinewidth": 0,
             "ticks": ""
            },
            "type": "mesh3d"
           }
          ],
          "parcoords": [
           {
            "line": {
             "colorbar": {
              "outlinewidth": 0,
              "ticks": ""
             }
            },
            "type": "parcoords"
           }
          ],
          "pie": [
           {
            "automargin": true,
            "type": "pie"
           }
          ],
          "scatter": [
           {
            "fillpattern": {
             "fillmode": "overlay",
             "size": 10,
             "solidity": 0.2
            },
            "type": "scatter"
           }
          ],
          "scatter3d": [
           {
            "line": {
             "colorbar": {
              "outlinewidth": 0,
              "ticks": ""
             }
            },
            "marker": {
             "colorbar": {
              "outlinewidth": 0,
              "ticks": ""
             }
            },
            "type": "scatter3d"
           }
          ],
          "scattercarpet": [
           {
            "marker": {
             "colorbar": {
              "outlinewidth": 0,
              "ticks": ""
             }
            },
            "type": "scattercarpet"
           }
          ],
          "scattergeo": [
           {
            "marker": {
             "colorbar": {
              "outlinewidth": 0,
              "ticks": ""
             }
            },
            "type": "scattergeo"
           }
          ],
          "scattergl": [
           {
            "marker": {
             "colorbar": {
              "outlinewidth": 0,
              "ticks": ""
             }
            },
            "type": "scattergl"
           }
          ],
          "scattermapbox": [
           {
            "marker": {
             "colorbar": {
              "outlinewidth": 0,
              "ticks": ""
             }
            },
            "type": "scattermapbox"
           }
          ],
          "scatterpolar": [
           {
            "marker": {
             "colorbar": {
              "outlinewidth": 0,
              "ticks": ""
             }
            },
            "type": "scatterpolar"
           }
          ],
          "scatterpolargl": [
           {
            "marker": {
             "colorbar": {
              "outlinewidth": 0,
              "ticks": ""
             }
            },
            "type": "scatterpolargl"
           }
          ],
          "scatterternary": [
           {
            "marker": {
             "colorbar": {
              "outlinewidth": 0,
              "ticks": ""
             }
            },
            "type": "scatterternary"
           }
          ],
          "surface": [
           {
            "colorbar": {
             "outlinewidth": 0,
             "ticks": ""
            },
            "colorscale": [
             [
              0,
              "#0d0887"
             ],
             [
              0.1111111111111111,
              "#46039f"
             ],
             [
              0.2222222222222222,
              "#7201a8"
             ],
             [
              0.3333333333333333,
              "#9c179e"
             ],
             [
              0.4444444444444444,
              "#bd3786"
             ],
             [
              0.5555555555555556,
              "#d8576b"
             ],
             [
              0.6666666666666666,
              "#ed7953"
             ],
             [
              0.7777777777777778,
              "#fb9f3a"
             ],
             [
              0.8888888888888888,
              "#fdca26"
             ],
             [
              1,
              "#f0f921"
             ]
            ],
            "type": "surface"
           }
          ],
          "table": [
           {
            "cells": {
             "fill": {
              "color": "#EBF0F8"
             },
             "line": {
              "color": "white"
             }
            },
            "header": {
             "fill": {
              "color": "#C8D4E3"
             },
             "line": {
              "color": "white"
             }
            },
            "type": "table"
           }
          ]
         },
         "layout": {
          "annotationdefaults": {
           "arrowcolor": "#2a3f5f",
           "arrowhead": 0,
           "arrowwidth": 1
          },
          "autotypenumbers": "strict",
          "coloraxis": {
           "colorbar": {
            "outlinewidth": 0,
            "ticks": ""
           }
          },
          "colorscale": {
           "diverging": [
            [
             0,
             "#8e0152"
            ],
            [
             0.1,
             "#c51b7d"
            ],
            [
             0.2,
             "#de77ae"
            ],
            [
             0.3,
             "#f1b6da"
            ],
            [
             0.4,
             "#fde0ef"
            ],
            [
             0.5,
             "#f7f7f7"
            ],
            [
             0.6,
             "#e6f5d0"
            ],
            [
             0.7,
             "#b8e186"
            ],
            [
             0.8,
             "#7fbc41"
            ],
            [
             0.9,
             "#4d9221"
            ],
            [
             1,
             "#276419"
            ]
           ],
           "sequential": [
            [
             0,
             "#0d0887"
            ],
            [
             0.1111111111111111,
             "#46039f"
            ],
            [
             0.2222222222222222,
             "#7201a8"
            ],
            [
             0.3333333333333333,
             "#9c179e"
            ],
            [
             0.4444444444444444,
             "#bd3786"
            ],
            [
             0.5555555555555556,
             "#d8576b"
            ],
            [
             0.6666666666666666,
             "#ed7953"
            ],
            [
             0.7777777777777778,
             "#fb9f3a"
            ],
            [
             0.8888888888888888,
             "#fdca26"
            ],
            [
             1,
             "#f0f921"
            ]
           ],
           "sequentialminus": [
            [
             0,
             "#0d0887"
            ],
            [
             0.1111111111111111,
             "#46039f"
            ],
            [
             0.2222222222222222,
             "#7201a8"
            ],
            [
             0.3333333333333333,
             "#9c179e"
            ],
            [
             0.4444444444444444,
             "#bd3786"
            ],
            [
             0.5555555555555556,
             "#d8576b"
            ],
            [
             0.6666666666666666,
             "#ed7953"
            ],
            [
             0.7777777777777778,
             "#fb9f3a"
            ],
            [
             0.8888888888888888,
             "#fdca26"
            ],
            [
             1,
             "#f0f921"
            ]
           ]
          },
          "colorway": [
           "#636efa",
           "#EF553B",
           "#00cc96",
           "#ab63fa",
           "#FFA15A",
           "#19d3f3",
           "#FF6692",
           "#B6E880",
           "#FF97FF",
           "#FECB52"
          ],
          "font": {
           "color": "#2a3f5f"
          },
          "geo": {
           "bgcolor": "white",
           "lakecolor": "white",
           "landcolor": "#E5ECF6",
           "showlakes": true,
           "showland": true,
           "subunitcolor": "white"
          },
          "hoverlabel": {
           "align": "left"
          },
          "hovermode": "closest",
          "mapbox": {
           "style": "light"
          },
          "paper_bgcolor": "white",
          "plot_bgcolor": "#E5ECF6",
          "polar": {
           "angularaxis": {
            "gridcolor": "white",
            "linecolor": "white",
            "ticks": ""
           },
           "bgcolor": "#E5ECF6",
           "radialaxis": {
            "gridcolor": "white",
            "linecolor": "white",
            "ticks": ""
           }
          },
          "scene": {
           "xaxis": {
            "backgroundcolor": "#E5ECF6",
            "gridcolor": "white",
            "gridwidth": 2,
            "linecolor": "white",
            "showbackground": true,
            "ticks": "",
            "zerolinecolor": "white"
           },
           "yaxis": {
            "backgroundcolor": "#E5ECF6",
            "gridcolor": "white",
            "gridwidth": 2,
            "linecolor": "white",
            "showbackground": true,
            "ticks": "",
            "zerolinecolor": "white"
           },
           "zaxis": {
            "backgroundcolor": "#E5ECF6",
            "gridcolor": "white",
            "gridwidth": 2,
            "linecolor": "white",
            "showbackground": true,
            "ticks": "",
            "zerolinecolor": "white"
           }
          },
          "shapedefaults": {
           "line": {
            "color": "#2a3f5f"
           }
          },
          "ternary": {
           "aaxis": {
            "gridcolor": "white",
            "linecolor": "white",
            "ticks": ""
           },
           "baxis": {
            "gridcolor": "white",
            "linecolor": "white",
            "ticks": ""
           },
           "bgcolor": "#E5ECF6",
           "caxis": {
            "gridcolor": "white",
            "linecolor": "white",
            "ticks": ""
           }
          },
          "title": {
           "x": 0.05
          },
          "xaxis": {
           "automargin": true,
           "gridcolor": "white",
           "linecolor": "white",
           "ticks": "",
           "title": {
            "standoff": 15
           },
           "zerolinecolor": "white",
           "zerolinewidth": 2
          },
          "yaxis": {
           "automargin": true,
           "gridcolor": "white",
           "linecolor": "white",
           "ticks": "",
           "title": {
            "standoff": 15
           },
           "zerolinecolor": "white",
           "zerolinewidth": 2
          }
         }
        }
       }
      },
      "text/html": [
       "<div>                            <div id=\"f63cfd41-dfc3-44c4-83e6-bf50c2c2f5de\" class=\"plotly-graph-div\" style=\"height:525px; width:100%;\"></div>            <script type=\"text/javascript\">                require([\"plotly\"], function(Plotly) {                    window.PLOTLYENV=window.PLOTLYENV || {};                                    if (document.getElementById(\"f63cfd41-dfc3-44c4-83e6-bf50c2c2f5de\")) {                    Plotly.newPlot(                        \"f63cfd41-dfc3-44c4-83e6-bf50c2c2f5de\",                        [{\"hovertemplate\":\"State=pr<br>x=%{x}<br>y=%{y}<br>z=%{z}<extra></extra>\",\"legendgroup\":\"pr\",\"marker\":{\"color\":\"#636efa\",\"symbol\":\"circle\"},\"mode\":\"markers\",\"name\":\"pr\",\"scene\":\"scene\",\"showlegend\":true,\"x\":[-45.936893463134766],\"y\":[5.973630428314209],\"z\":[-225.8866424560547],\"type\":\"scatter3d\"},{\"hovertemplate\":\"State=ak<br>x=%{x}<br>y=%{y}<br>z=%{z}<extra></extra>\",\"legendgroup\":\"ak\",\"marker\":{\"color\":\"#EF553B\",\"symbol\":\"circle\"},\"mode\":\"markers\",\"name\":\"ak\",\"scene\":\"scene\",\"showlegend\":true,\"x\":[65.6216812133789],\"y\":[-112.42044067382812],\"z\":[379.2932434082031],\"type\":\"scatter3d\"},{\"hovertemplate\":\"State=al<br>x=%{x}<br>y=%{y}<br>z=%{z}<extra></extra>\",\"legendgroup\":\"al\",\"marker\":{\"color\":\"#00cc96\",\"symbol\":\"circle\"},\"mode\":\"markers\",\"name\":\"al\",\"scene\":\"scene\",\"showlegend\":true,\"x\":[-176.2176971435547],\"y\":[-466.4727478027344],\"z\":[113.43883514404297],\"type\":\"scatter3d\"},{\"hovertemplate\":\"State=ar<br>x=%{x}<br>y=%{y}<br>z=%{z}<extra></extra>\",\"legendgroup\":\"ar\",\"marker\":{\"color\":\"#ab63fa\",\"symbol\":\"circle\"},\"mode\":\"markers\",\"name\":\"ar\",\"scene\":\"scene\",\"showlegend\":true,\"x\":[31.600894927978516],\"y\":[-386.9750061035156],\"z\":[18.847211837768555],\"type\":\"scatter3d\"},{\"hovertemplate\":\"State=az<br>x=%{x}<br>y=%{y}<br>z=%{z}<extra></extra>\",\"legendgroup\":\"az\",\"marker\":{\"color\":\"#FFA15A\",\"symbol\":\"circle\"},\"mode\":\"markers\",\"name\":\"az\",\"scene\":\"scene\",\"showlegend\":true,\"x\":[-96.05342864990234],\"y\":[37.25376892089844],\"z\":[-470.693115234375],\"type\":\"scatter3d\"},{\"hovertemplate\":\"State=ca<br>x=%{x}<br>y=%{y}<br>z=%{z}<extra></extra>\",\"legendgroup\":\"ca\",\"marker\":{\"color\":\"#19d3f3\",\"symbol\":\"circle\"},\"mode\":\"markers\",\"name\":\"ca\",\"scene\":\"scene\",\"showlegend\":true,\"x\":[301.520263671875],\"y\":[445.3272399902344],\"z\":[-730.9175415039062],\"type\":\"scatter3d\"},{\"hovertemplate\":\"State=co<br>x=%{x}<br>y=%{y}<br>z=%{z}<extra></extra>\",\"legendgroup\":\"co\",\"marker\":{\"color\":\"#FF6692\",\"symbol\":\"circle\"},\"mode\":\"markers\",\"name\":\"co\",\"scene\":\"scene\",\"showlegend\":true,\"x\":[-510.0477294921875],\"y\":[91.48933410644531],\"z\":[-135.7014923095703],\"type\":\"scatter3d\"},{\"hovertemplate\":\"State=ct<br>x=%{x}<br>y=%{y}<br>z=%{z}<extra></extra>\",\"legendgroup\":\"ct\",\"marker\":{\"color\":\"#B6E880\",\"symbol\":\"circle\"},\"mode\":\"markers\",\"name\":\"ct\",\"scene\":\"scene\",\"showlegend\":true,\"x\":[172.1842803955078],\"y\":[-219.7704620361328],\"z\":[198.78134155273438],\"type\":\"scatter3d\"},{\"hovertemplate\":\"State=dc<br>x=%{x}<br>y=%{y}<br>z=%{z}<extra></extra>\",\"legendgroup\":\"dc\",\"marker\":{\"color\":\"#FF97FF\",\"symbol\":\"circle\"},\"mode\":\"markers\",\"name\":\"dc\",\"scene\":\"scene\",\"showlegend\":true,\"x\":[-138.408935546875],\"y\":[33.24967956542969],\"z\":[-17.812744140625],\"type\":\"scatter3d\"},{\"hovertemplate\":\"State=de<br>x=%{x}<br>y=%{y}<br>z=%{z}<extra></extra>\",\"legendgroup\":\"de\",\"marker\":{\"color\":\"#FECB52\",\"symbol\":\"circle\"},\"mode\":\"markers\",\"name\":\"de\",\"scene\":\"scene\",\"showlegend\":true,\"x\":[159.84243774414062],\"y\":[-389.6142272949219],\"z\":[-215.71629333496094],\"type\":\"scatter3d\"},{\"hovertemplate\":\"State=fl<br>x=%{x}<br>y=%{y}<br>z=%{z}<extra></extra>\",\"legendgroup\":\"fl\",\"marker\":{\"color\":\"#636efa\",\"symbol\":\"circle\"},\"mode\":\"markers\",\"name\":\"fl\",\"scene\":\"scene\",\"showlegend\":true,\"x\":[-206.07582092285156],\"y\":[-83.66401672363281],\"z\":[430.7178039550781],\"type\":\"scatter3d\"},{\"hovertemplate\":\"State=ga<br>x=%{x}<br>y=%{y}<br>z=%{z}<extra></extra>\",\"legendgroup\":\"ga\",\"marker\":{\"color\":\"#EF553B\",\"symbol\":\"circle\"},\"mode\":\"markers\",\"name\":\"ga\",\"scene\":\"scene\",\"showlegend\":true,\"x\":[63.3286247253418],\"y\":[114.3680419921875],\"z\":[488.2619934082031],\"type\":\"scatter3d\"},{\"hovertemplate\":\"State=hi<br>x=%{x}<br>y=%{y}<br>z=%{z}<extra></extra>\",\"legendgroup\":\"hi\",\"marker\":{\"color\":\"#00cc96\",\"symbol\":\"circle\"},\"mode\":\"markers\",\"name\":\"hi\",\"scene\":\"scene\",\"showlegend\":true,\"x\":[71.9112548828125],\"y\":[464.7952880859375],\"z\":[-185.46363830566406],\"type\":\"scatter3d\"},{\"hovertemplate\":\"State=ia<br>x=%{x}<br>y=%{y}<br>z=%{z}<extra></extra>\",\"legendgroup\":\"ia\",\"marker\":{\"color\":\"#ab63fa\",\"symbol\":\"circle\"},\"mode\":\"markers\",\"name\":\"ia\",\"scene\":\"scene\",\"showlegend\":true,\"x\":[-302.8644104003906],\"y\":[173.81556701660156],\"z\":[-70.93014526367188],\"type\":\"scatter3d\"},{\"hovertemplate\":\"State=id<br>x=%{x}<br>y=%{y}<br>z=%{z}<extra></extra>\",\"legendgroup\":\"id\",\"marker\":{\"color\":\"#FFA15A\",\"symbol\":\"circle\"},\"mode\":\"markers\",\"name\":\"id\",\"scene\":\"scene\",\"showlegend\":true,\"x\":[49.611270904541016],\"y\":[-188.1810760498047],\"z\":[-143.49925231933594],\"type\":\"scatter3d\"},{\"hovertemplate\":\"State=il<br>x=%{x}<br>y=%{y}<br>z=%{z}<extra></extra>\",\"legendgroup\":\"il\",\"marker\":{\"color\":\"#19d3f3\",\"symbol\":\"circle\"},\"mode\":\"markers\",\"name\":\"il\",\"scene\":\"scene\",\"showlegend\":true,\"x\":[276.2062683105469],\"y\":[-364.2067565917969],\"z\":[54.55899429321289],\"type\":\"scatter3d\"},{\"hovertemplate\":\"State=in<br>x=%{x}<br>y=%{y}<br>z=%{z}<extra></extra>\",\"legendgroup\":\"in\",\"marker\":{\"color\":\"#FF6692\",\"symbol\":\"circle\"},\"mode\":\"markers\",\"name\":\"in\",\"scene\":\"scene\",\"showlegend\":true,\"x\":[193.34410095214844],\"y\":[65.59297180175781],\"z\":[246.94837951660156],\"type\":\"scatter3d\"},{\"hovertemplate\":\"State=ks<br>x=%{x}<br>y=%{y}<br>z=%{z}<extra></extra>\",\"legendgroup\":\"ks\",\"marker\":{\"color\":\"#B6E880\",\"symbol\":\"circle\"},\"mode\":\"markers\",\"name\":\"ks\",\"scene\":\"scene\",\"showlegend\":true,\"x\":[-11.993294715881348],\"y\":[25.105953216552734],\"z\":[190.07237243652344],\"type\":\"scatter3d\"},{\"hovertemplate\":\"State=ky<br>x=%{x}<br>y=%{y}<br>z=%{z}<extra></extra>\",\"legendgroup\":\"ky\",\"marker\":{\"color\":\"#FF97FF\",\"symbol\":\"circle\"},\"mode\":\"markers\",\"name\":\"ky\",\"scene\":\"scene\",\"showlegend\":true,\"x\":[-178.47021484375],\"y\":[482.4330749511719],\"z\":[-45.89291000366211],\"type\":\"scatter3d\"},{\"hovertemplate\":\"State=la<br>x=%{x}<br>y=%{y}<br>z=%{z}<extra></extra>\",\"legendgroup\":\"la\",\"marker\":{\"color\":\"#FECB52\",\"symbol\":\"circle\"},\"mode\":\"markers\",\"name\":\"la\",\"scene\":\"scene\",\"showlegend\":true,\"x\":[101.70421600341797],\"y\":[434.2765197753906],\"z\":[126.97468566894531],\"type\":\"scatter3d\"},{\"hovertemplate\":\"State=ma<br>x=%{x}<br>y=%{y}<br>z=%{z}<extra></extra>\",\"legendgroup\":\"ma\",\"marker\":{\"color\":\"#636efa\",\"symbol\":\"circle\"},\"mode\":\"markers\",\"name\":\"ma\",\"scene\":\"scene\",\"showlegend\":true,\"x\":[443.1929016113281],\"y\":[94.00315856933594],\"z\":[-159.90016174316406],\"type\":\"scatter3d\"},{\"hovertemplate\":\"State=md<br>x=%{x}<br>y=%{y}<br>z=%{z}<extra></extra>\",\"legendgroup\":\"md\",\"marker\":{\"color\":\"#EF553B\",\"symbol\":\"circle\"},\"mode\":\"markers\",\"name\":\"md\",\"scene\":\"scene\",\"showlegend\":true,\"x\":[209.55218505859375],\"y\":[18.240537643432617],\"z\":[-208.95144653320312],\"type\":\"scatter3d\"},{\"hovertemplate\":\"State=me<br>x=%{x}<br>y=%{y}<br>z=%{z}<extra></extra>\",\"legendgroup\":\"me\",\"marker\":{\"color\":\"#00cc96\",\"symbol\":\"circle\"},\"mode\":\"markers\",\"name\":\"me\",\"scene\":\"scene\",\"showlegend\":true,\"x\":[326.76922607421875],\"y\":[-4.527799129486084],\"z\":[48.68944549560547],\"type\":\"scatter3d\"},{\"hovertemplate\":\"State=mh<br>x=%{x}<br>y=%{y}<br>z=%{z}<extra></extra>\",\"legendgroup\":\"mh\",\"marker\":{\"color\":\"#ab63fa\",\"symbol\":\"circle\"},\"mode\":\"markers\",\"name\":\"mh\",\"scene\":\"scene\",\"showlegend\":true,\"x\":[-124.59396362304688],\"y\":[291.61639404296875],\"z\":[59.453269958496094],\"type\":\"scatter3d\"},{\"hovertemplate\":\"State=mi<br>x=%{x}<br>y=%{y}<br>z=%{z}<extra></extra>\",\"legendgroup\":\"mi\",\"marker\":{\"color\":\"#FFA15A\",\"symbol\":\"circle\"},\"mode\":\"markers\",\"name\":\"mi\",\"scene\":\"scene\",\"showlegend\":true,\"x\":[264.73138427734375],\"y\":[263.6548156738281],\"z\":[-211.3732147216797],\"type\":\"scatter3d\"},{\"hovertemplate\":\"State=mn<br>x=%{x}<br>y=%{y}<br>z=%{z}<extra></extra>\",\"legendgroup\":\"mn\",\"marker\":{\"color\":\"#19d3f3\",\"symbol\":\"circle\"},\"mode\":\"markers\",\"name\":\"mn\",\"scene\":\"scene\",\"showlegend\":true,\"x\":[-232.73583984375],\"y\":[-166.4862518310547],\"z\":[-235.030517578125],\"type\":\"scatter3d\"},{\"hovertemplate\":\"State=mo<br>x=%{x}<br>y=%{y}<br>z=%{z}<extra></extra>\",\"legendgroup\":\"mo\",\"marker\":{\"color\":\"#FF6692\",\"symbol\":\"circle\"},\"mode\":\"markers\",\"name\":\"mo\",\"scene\":\"scene\",\"showlegend\":true,\"x\":[-453.14996337890625],\"y\":[57.87104797363281],\"z\":[200.02313232421875],\"type\":\"scatter3d\"},{\"hovertemplate\":\"State=ms<br>x=%{x}<br>y=%{y}<br>z=%{z}<extra></extra>\",\"legendgroup\":\"ms\",\"marker\":{\"color\":\"#B6E880\",\"symbol\":\"circle\"},\"mode\":\"markers\",\"name\":\"ms\",\"scene\":\"scene\",\"showlegend\":true,\"x\":[364.9925842285156],\"y\":[242.7779998779297],\"z\":[237.40234375],\"type\":\"scatter3d\"},{\"hovertemplate\":\"State=mt<br>x=%{x}<br>y=%{y}<br>z=%{z}<extra></extra>\",\"legendgroup\":\"mt\",\"marker\":{\"color\":\"#FF97FF\",\"symbol\":\"circle\"},\"mode\":\"markers\",\"name\":\"mt\",\"scene\":\"scene\",\"showlegend\":true,\"x\":[299.24713134765625],\"y\":[-193.7368621826172],\"z\":[-101.4186019897461],\"type\":\"scatter3d\"},{\"hovertemplate\":\"State=nc<br>x=%{x}<br>y=%{y}<br>z=%{z}<extra></extra>\",\"legendgroup\":\"nc\",\"marker\":{\"color\":\"#FECB52\",\"symbol\":\"circle\"},\"mode\":\"markers\",\"name\":\"nc\",\"scene\":\"scene\",\"showlegend\":true,\"x\":[1.3053464889526367],\"y\":[-220.37254333496094],\"z\":[-404.33685302734375],\"type\":\"scatter3d\"},{\"hovertemplate\":\"State=nd<br>x=%{x}<br>y=%{y}<br>z=%{z}<extra></extra>\",\"legendgroup\":\"nd\",\"marker\":{\"color\":\"#636efa\",\"symbol\":\"circle\"},\"mode\":\"markers\",\"name\":\"nd\",\"scene\":\"scene\",\"showlegend\":true,\"x\":[-334.82904052734375],\"y\":[285.9602355957031],\"z\":[169.46249389648438],\"type\":\"scatter3d\"},{\"hovertemplate\":\"State=ne<br>x=%{x}<br>y=%{y}<br>z=%{z}<extra></extra>\",\"legendgroup\":\"ne\",\"marker\":{\"color\":\"#EF553B\",\"symbol\":\"circle\"},\"mode\":\"markers\",\"name\":\"ne\",\"scene\":\"scene\",\"showlegend\":true,\"x\":[100.54761505126953],\"y\":[-1.2090109586715698],\"z\":[1.9925168752670288],\"type\":\"scatter3d\"},{\"hovertemplate\":\"State=nh<br>x=%{x}<br>y=%{y}<br>z=%{z}<extra></extra>\",\"legendgroup\":\"nh\",\"marker\":{\"color\":\"#00cc96\",\"symbol\":\"circle\"},\"mode\":\"markers\",\"name\":\"nh\",\"scene\":\"scene\",\"showlegend\":true,\"x\":[1.522464394569397],\"y\":[276.9800109863281],\"z\":[298.3643798828125],\"type\":\"scatter3d\"},{\"hovertemplate\":\"State=nj<br>x=%{x}<br>y=%{y}<br>z=%{z}<extra></extra>\",\"legendgroup\":\"nj\",\"marker\":{\"color\":\"#ab63fa\",\"symbol\":\"circle\"},\"mode\":\"markers\",\"name\":\"nj\",\"scene\":\"scene\",\"showlegend\":true,\"x\":[-389.13262939453125],\"y\":[-265.7720031738281],\"z\":[175.8749237060547],\"type\":\"scatter3d\"},{\"hovertemplate\":\"State=nm<br>x=%{x}<br>y=%{y}<br>z=%{z}<extra></extra>\",\"legendgroup\":\"nm\",\"marker\":{\"color\":\"#FFA15A\",\"symbol\":\"circle\"},\"mode\":\"markers\",\"name\":\"nm\",\"scene\":\"scene\",\"showlegend\":true,\"x\":[158.63885498046875],\"y\":[117.44562530517578],\"z\":[-455.6266784667969],\"type\":\"scatter3d\"},{\"hovertemplate\":\"State=nv<br>x=%{x}<br>y=%{y}<br>z=%{z}<extra></extra>\",\"legendgroup\":\"nv\",\"marker\":{\"color\":\"#19d3f3\",\"symbol\":\"circle\"},\"mode\":\"markers\",\"name\":\"nv\",\"scene\":\"scene\",\"showlegend\":true,\"x\":[-10.624545097351074],\"y\":[-399.61474609375],\"z\":[334.58056640625],\"type\":\"scatter3d\"},{\"hovertemplate\":\"State=ny<br>x=%{x}<br>y=%{y}<br>z=%{z}<extra></extra>\",\"legendgroup\":\"ny\",\"marker\":{\"color\":\"#FF6692\",\"symbol\":\"circle\"},\"mode\":\"markers\",\"name\":\"ny\",\"scene\":\"scene\",\"showlegend\":true,\"x\":[-128.7706298828125],\"y\":[-401.8463134765625],\"z\":[-225.23878479003906],\"type\":\"scatter3d\"},{\"hovertemplate\":\"State=oh<br>x=%{x}<br>y=%{y}<br>z=%{z}<extra></extra>\",\"legendgroup\":\"oh\",\"marker\":{\"color\":\"#B6E880\",\"symbol\":\"circle\"},\"mode\":\"markers\",\"name\":\"oh\",\"scene\":\"scene\",\"showlegend\":true,\"x\":[-247.73101806640625],\"y\":[-275.29742431640625],\"z\":[-34.645511627197266],\"type\":\"scatter3d\"},{\"hovertemplate\":\"State=ok<br>x=%{x}<br>y=%{y}<br>z=%{z}<extra></extra>\",\"legendgroup\":\"ok\",\"marker\":{\"color\":\"#FF97FF\",\"symbol\":\"circle\"},\"mode\":\"markers\",\"name\":\"ok\",\"scene\":\"scene\",\"showlegend\":true,\"x\":[368.89508056640625],\"y\":[-112.69660186767578],\"z\":[303.62921142578125],\"type\":\"scatter3d\"},{\"hovertemplate\":\"State=or<br>x=%{x}<br>y=%{y}<br>z=%{z}<extra></extra>\",\"legendgroup\":\"or\",\"marker\":{\"color\":\"#FECB52\",\"symbol\":\"circle\"},\"mode\":\"markers\",\"name\":\"or\",\"scene\":\"scene\",\"showlegend\":true,\"x\":[-211.6715087890625],\"y\":[303.6457824707031],\"z\":[-261.02227783203125],\"type\":\"scatter3d\"},{\"hovertemplate\":\"State=pa<br>x=%{x}<br>y=%{y}<br>z=%{z}<extra></extra>\",\"legendgroup\":\"pa\",\"marker\":{\"color\":\"#636efa\",\"symbol\":\"circle\"},\"mode\":\"markers\",\"name\":\"pa\",\"scene\":\"scene\",\"showlegend\":true,\"x\":[-409.2705078125],\"y\":[-110.3522720336914],\"z\":[-29.92293357849121],\"type\":\"scatter3d\"},{\"hovertemplate\":\"State=ri<br>x=%{x}<br>y=%{y}<br>z=%{z}<extra></extra>\",\"legendgroup\":\"ri\",\"marker\":{\"color\":\"#EF553B\",\"symbol\":\"circle\"},\"mode\":\"markers\",\"name\":\"ri\",\"scene\":\"scene\",\"showlegend\":true,\"x\":[-255.95753479003906],\"y\":[-66.64987182617188],\"z\":[155.20376586914062],\"type\":\"scatter3d\"},{\"hovertemplate\":\"State=sc<br>x=%{x}<br>y=%{y}<br>z=%{z}<extra></extra>\",\"legendgroup\":\"sc\",\"marker\":{\"color\":\"#00cc96\",\"symbol\":\"circle\"},\"mode\":\"markers\",\"name\":\"sc\",\"scene\":\"scene\",\"showlegend\":true,\"x\":[-307.5887756347656],\"y\":[63.999725341796875],\"z\":[-318.58331298828125],\"type\":\"scatter3d\"},{\"hovertemplate\":\"State=sd<br>x=%{x}<br>y=%{y}<br>z=%{z}<extra></extra>\",\"legendgroup\":\"sd\",\"marker\":{\"color\":\"#ab63fa\",\"symbol\":\"circle\"},\"mode\":\"markers\",\"name\":\"sd\",\"scene\":\"scene\",\"showlegend\":true,\"x\":[-482.58251953125],\"y\":[-488.6495666503906],\"z\":[-100.28217315673828],\"type\":\"scatter3d\"},{\"hovertemplate\":\"State=tn<br>x=%{x}<br>y=%{y}<br>z=%{z}<extra></extra>\",\"legendgroup\":\"tn\",\"marker\":{\"color\":\"#FFA15A\",\"symbol\":\"circle\"},\"mode\":\"markers\",\"name\":\"tn\",\"scene\":\"scene\",\"showlegend\":true,\"x\":[536.3963012695312],\"y\":[-78.280029296875],\"z\":[56.56099319458008],\"type\":\"scatter3d\"},{\"hovertemplate\":\"State=tx<br>x=%{x}<br>y=%{y}<br>z=%{z}<extra></extra>\",\"legendgroup\":\"tx\",\"marker\":{\"color\":\"#19d3f3\",\"symbol\":\"circle\"},\"mode\":\"markers\",\"name\":\"tx\",\"scene\":\"scene\",\"showlegend\":true,\"x\":[-7.8934760093688965],\"y\":[226.57217407226562],\"z\":[-327.2039794921875],\"type\":\"scatter3d\"},{\"hovertemplate\":\"State=ut<br>x=%{x}<br>y=%{y}<br>z=%{z}<extra></extra>\",\"legendgroup\":\"ut\",\"marker\":{\"color\":\"#FF6692\",\"symbol\":\"circle\"},\"mode\":\"markers\",\"name\":\"ut\",\"scene\":\"scene\",\"showlegend\":true,\"x\":[-122.50439453125],\"y\":[-236.1965789794922],\"z\":[250.83396911621094],\"type\":\"scatter3d\"},{\"hovertemplate\":\"State=va<br>x=%{x}<br>y=%{y}<br>z=%{z}<extra></extra>\",\"legendgroup\":\"va\",\"marker\":{\"color\":\"#B6E880\",\"symbol\":\"circle\"},\"mode\":\"markers\",\"name\":\"va\",\"scene\":\"scene\",\"showlegend\":true,\"x\":[220.90225219726562],\"y\":[226.74388122558594],\"z\":[35.73094177246094],\"type\":\"scatter3d\"},{\"hovertemplate\":\"State=vt<br>x=%{x}<br>y=%{y}<br>z=%{z}<extra></extra>\",\"legendgroup\":\"vt\",\"marker\":{\"color\":\"#FF97FF\",\"symbol\":\"circle\"},\"mode\":\"markers\",\"name\":\"vt\",\"scene\":\"scene\",\"showlegend\":true,\"x\":[316.65802001953125],\"y\":[-146.61265563964844],\"z\":[-356.610107421875],\"type\":\"scatter3d\"},{\"hovertemplate\":\"State=wa<br>x=%{x}<br>y=%{y}<br>z=%{z}<extra></extra>\",\"legendgroup\":\"wa\",\"marker\":{\"color\":\"#FECB52\",\"symbol\":\"circle\"},\"mode\":\"markers\",\"name\":\"wa\",\"scene\":\"scene\",\"showlegend\":true,\"x\":[13.187079429626465],\"y\":[204.3591766357422],\"z\":[-82.06465911865234],\"type\":\"scatter3d\"},{\"hovertemplate\":\"State=wi<br>x=%{x}<br>y=%{y}<br>z=%{z}<extra></extra>\",\"legendgroup\":\"wi\",\"marker\":{\"color\":\"#636efa\",\"symbol\":\"circle\"},\"mode\":\"markers\",\"name\":\"wi\",\"scene\":\"scene\",\"showlegend\":true,\"x\":[-194.48342895507812],\"y\":[129.2572021484375],\"z\":[280.2239685058594],\"type\":\"scatter3d\"},{\"hovertemplate\":\"State=wv<br>x=%{x}<br>y=%{y}<br>z=%{z}<extra></extra>\",\"legendgroup\":\"wv\",\"marker\":{\"color\":\"#EF553B\",\"symbol\":\"circle\"},\"mode\":\"markers\",\"name\":\"wv\",\"scene\":\"scene\",\"showlegend\":true,\"x\":[1046.9637451171875],\"y\":[927.0396118164062],\"z\":[177.68409729003906],\"type\":\"scatter3d\"},{\"hovertemplate\":\"State=wy<br>x=%{x}<br>y=%{y}<br>z=%{z}<extra></extra>\",\"legendgroup\":\"wy\",\"marker\":{\"color\":\"#00cc96\",\"symbol\":\"circle\"},\"mode\":\"markers\",\"name\":\"wy\",\"scene\":\"scene\",\"showlegend\":true,\"x\":[-40.18480682373047],\"y\":[-164.4147186279297],\"z\":[53.573307037353516],\"type\":\"scatter3d\"}],                        {\"template\":{\"data\":{\"histogram2dcontour\":[{\"type\":\"histogram2dcontour\",\"colorbar\":{\"outlinewidth\":0,\"ticks\":\"\"},\"colorscale\":[[0.0,\"#0d0887\"],[0.1111111111111111,\"#46039f\"],[0.2222222222222222,\"#7201a8\"],[0.3333333333333333,\"#9c179e\"],[0.4444444444444444,\"#bd3786\"],[0.5555555555555556,\"#d8576b\"],[0.6666666666666666,\"#ed7953\"],[0.7777777777777778,\"#fb9f3a\"],[0.8888888888888888,\"#fdca26\"],[1.0,\"#f0f921\"]]}],\"choropleth\":[{\"type\":\"choropleth\",\"colorbar\":{\"outlinewidth\":0,\"ticks\":\"\"}}],\"histogram2d\":[{\"type\":\"histogram2d\",\"colorbar\":{\"outlinewidth\":0,\"ticks\":\"\"},\"colorscale\":[[0.0,\"#0d0887\"],[0.1111111111111111,\"#46039f\"],[0.2222222222222222,\"#7201a8\"],[0.3333333333333333,\"#9c179e\"],[0.4444444444444444,\"#bd3786\"],[0.5555555555555556,\"#d8576b\"],[0.6666666666666666,\"#ed7953\"],[0.7777777777777778,\"#fb9f3a\"],[0.8888888888888888,\"#fdca26\"],[1.0,\"#f0f921\"]]}],\"heatmap\":[{\"type\":\"heatmap\",\"colorbar\":{\"outlinewidth\":0,\"ticks\":\"\"},\"colorscale\":[[0.0,\"#0d0887\"],[0.1111111111111111,\"#46039f\"],[0.2222222222222222,\"#7201a8\"],[0.3333333333333333,\"#9c179e\"],[0.4444444444444444,\"#bd3786\"],[0.5555555555555556,\"#d8576b\"],[0.6666666666666666,\"#ed7953\"],[0.7777777777777778,\"#fb9f3a\"],[0.8888888888888888,\"#fdca26\"],[1.0,\"#f0f921\"]]}],\"heatmapgl\":[{\"type\":\"heatmapgl\",\"colorbar\":{\"outlinewidth\":0,\"ticks\":\"\"},\"colorscale\":[[0.0,\"#0d0887\"],[0.1111111111111111,\"#46039f\"],[0.2222222222222222,\"#7201a8\"],[0.3333333333333333,\"#9c179e\"],[0.4444444444444444,\"#bd3786\"],[0.5555555555555556,\"#d8576b\"],[0.6666666666666666,\"#ed7953\"],[0.7777777777777778,\"#fb9f3a\"],[0.8888888888888888,\"#fdca26\"],[1.0,\"#f0f921\"]]}],\"contourcarpet\":[{\"type\":\"contourcarpet\",\"colorbar\":{\"outlinewidth\":0,\"ticks\":\"\"}}],\"contour\":[{\"type\":\"contour\",\"colorbar\":{\"outlinewidth\":0,\"ticks\":\"\"},\"colorscale\":[[0.0,\"#0d0887\"],[0.1111111111111111,\"#46039f\"],[0.2222222222222222,\"#7201a8\"],[0.3333333333333333,\"#9c179e\"],[0.4444444444444444,\"#bd3786\"],[0.5555555555555556,\"#d8576b\"],[0.6666666666666666,\"#ed7953\"],[0.7777777777777778,\"#fb9f3a\"],[0.8888888888888888,\"#fdca26\"],[1.0,\"#f0f921\"]]}],\"surface\":[{\"type\":\"surface\",\"colorbar\":{\"outlinewidth\":0,\"ticks\":\"\"},\"colorscale\":[[0.0,\"#0d0887\"],[0.1111111111111111,\"#46039f\"],[0.2222222222222222,\"#7201a8\"],[0.3333333333333333,\"#9c179e\"],[0.4444444444444444,\"#bd3786\"],[0.5555555555555556,\"#d8576b\"],[0.6666666666666666,\"#ed7953\"],[0.7777777777777778,\"#fb9f3a\"],[0.8888888888888888,\"#fdca26\"],[1.0,\"#f0f921\"]]}],\"mesh3d\":[{\"type\":\"mesh3d\",\"colorbar\":{\"outlinewidth\":0,\"ticks\":\"\"}}],\"scatter\":[{\"fillpattern\":{\"fillmode\":\"overlay\",\"size\":10,\"solidity\":0.2},\"type\":\"scatter\"}],\"parcoords\":[{\"type\":\"parcoords\",\"line\":{\"colorbar\":{\"outlinewidth\":0,\"ticks\":\"\"}}}],\"scatterpolargl\":[{\"type\":\"scatterpolargl\",\"marker\":{\"colorbar\":{\"outlinewidth\":0,\"ticks\":\"\"}}}],\"bar\":[{\"error_x\":{\"color\":\"#2a3f5f\"},\"error_y\":{\"color\":\"#2a3f5f\"},\"marker\":{\"line\":{\"color\":\"#E5ECF6\",\"width\":0.5},\"pattern\":{\"fillmode\":\"overlay\",\"size\":10,\"solidity\":0.2}},\"type\":\"bar\"}],\"scattergeo\":[{\"type\":\"scattergeo\",\"marker\":{\"colorbar\":{\"outlinewidth\":0,\"ticks\":\"\"}}}],\"scatterpolar\":[{\"type\":\"scatterpolar\",\"marker\":{\"colorbar\":{\"outlinewidth\":0,\"ticks\":\"\"}}}],\"histogram\":[{\"marker\":{\"pattern\":{\"fillmode\":\"overlay\",\"size\":10,\"solidity\":0.2}},\"type\":\"histogram\"}],\"scattergl\":[{\"type\":\"scattergl\",\"marker\":{\"colorbar\":{\"outlinewidth\":0,\"ticks\":\"\"}}}],\"scatter3d\":[{\"type\":\"scatter3d\",\"line\":{\"colorbar\":{\"outlinewidth\":0,\"ticks\":\"\"}},\"marker\":{\"colorbar\":{\"outlinewidth\":0,\"ticks\":\"\"}}}],\"scattermapbox\":[{\"type\":\"scattermapbox\",\"marker\":{\"colorbar\":{\"outlinewidth\":0,\"ticks\":\"\"}}}],\"scatterternary\":[{\"type\":\"scatterternary\",\"marker\":{\"colorbar\":{\"outlinewidth\":0,\"ticks\":\"\"}}}],\"scattercarpet\":[{\"type\":\"scattercarpet\",\"marker\":{\"colorbar\":{\"outlinewidth\":0,\"ticks\":\"\"}}}],\"carpet\":[{\"aaxis\":{\"endlinecolor\":\"#2a3f5f\",\"gridcolor\":\"white\",\"linecolor\":\"white\",\"minorgridcolor\":\"white\",\"startlinecolor\":\"#2a3f5f\"},\"baxis\":{\"endlinecolor\":\"#2a3f5f\",\"gridcolor\":\"white\",\"linecolor\":\"white\",\"minorgridcolor\":\"white\",\"startlinecolor\":\"#2a3f5f\"},\"type\":\"carpet\"}],\"table\":[{\"cells\":{\"fill\":{\"color\":\"#EBF0F8\"},\"line\":{\"color\":\"white\"}},\"header\":{\"fill\":{\"color\":\"#C8D4E3\"},\"line\":{\"color\":\"white\"}},\"type\":\"table\"}],\"barpolar\":[{\"marker\":{\"line\":{\"color\":\"#E5ECF6\",\"width\":0.5},\"pattern\":{\"fillmode\":\"overlay\",\"size\":10,\"solidity\":0.2}},\"type\":\"barpolar\"}],\"pie\":[{\"automargin\":true,\"type\":\"pie\"}]},\"layout\":{\"autotypenumbers\":\"strict\",\"colorway\":[\"#636efa\",\"#EF553B\",\"#00cc96\",\"#ab63fa\",\"#FFA15A\",\"#19d3f3\",\"#FF6692\",\"#B6E880\",\"#FF97FF\",\"#FECB52\"],\"font\":{\"color\":\"#2a3f5f\"},\"hovermode\":\"closest\",\"hoverlabel\":{\"align\":\"left\"},\"paper_bgcolor\":\"white\",\"plot_bgcolor\":\"#E5ECF6\",\"polar\":{\"bgcolor\":\"#E5ECF6\",\"angularaxis\":{\"gridcolor\":\"white\",\"linecolor\":\"white\",\"ticks\":\"\"},\"radialaxis\":{\"gridcolor\":\"white\",\"linecolor\":\"white\",\"ticks\":\"\"}},\"ternary\":{\"bgcolor\":\"#E5ECF6\",\"aaxis\":{\"gridcolor\":\"white\",\"linecolor\":\"white\",\"ticks\":\"\"},\"baxis\":{\"gridcolor\":\"white\",\"linecolor\":\"white\",\"ticks\":\"\"},\"caxis\":{\"gridcolor\":\"white\",\"linecolor\":\"white\",\"ticks\":\"\"}},\"coloraxis\":{\"colorbar\":{\"outlinewidth\":0,\"ticks\":\"\"}},\"colorscale\":{\"sequential\":[[0.0,\"#0d0887\"],[0.1111111111111111,\"#46039f\"],[0.2222222222222222,\"#7201a8\"],[0.3333333333333333,\"#9c179e\"],[0.4444444444444444,\"#bd3786\"],[0.5555555555555556,\"#d8576b\"],[0.6666666666666666,\"#ed7953\"],[0.7777777777777778,\"#fb9f3a\"],[0.8888888888888888,\"#fdca26\"],[1.0,\"#f0f921\"]],\"sequentialminus\":[[0.0,\"#0d0887\"],[0.1111111111111111,\"#46039f\"],[0.2222222222222222,\"#7201a8\"],[0.3333333333333333,\"#9c179e\"],[0.4444444444444444,\"#bd3786\"],[0.5555555555555556,\"#d8576b\"],[0.6666666666666666,\"#ed7953\"],[0.7777777777777778,\"#fb9f3a\"],[0.8888888888888888,\"#fdca26\"],[1.0,\"#f0f921\"]],\"diverging\":[[0,\"#8e0152\"],[0.1,\"#c51b7d\"],[0.2,\"#de77ae\"],[0.3,\"#f1b6da\"],[0.4,\"#fde0ef\"],[0.5,\"#f7f7f7\"],[0.6,\"#e6f5d0\"],[0.7,\"#b8e186\"],[0.8,\"#7fbc41\"],[0.9,\"#4d9221\"],[1,\"#276419\"]]},\"xaxis\":{\"gridcolor\":\"white\",\"linecolor\":\"white\",\"ticks\":\"\",\"title\":{\"standoff\":15},\"zerolinecolor\":\"white\",\"automargin\":true,\"zerolinewidth\":2},\"yaxis\":{\"gridcolor\":\"white\",\"linecolor\":\"white\",\"ticks\":\"\",\"title\":{\"standoff\":15},\"zerolinecolor\":\"white\",\"automargin\":true,\"zerolinewidth\":2},\"scene\":{\"xaxis\":{\"backgroundcolor\":\"#E5ECF6\",\"gridcolor\":\"white\",\"linecolor\":\"white\",\"showbackground\":true,\"ticks\":\"\",\"zerolinecolor\":\"white\",\"gridwidth\":2},\"yaxis\":{\"backgroundcolor\":\"#E5ECF6\",\"gridcolor\":\"white\",\"linecolor\":\"white\",\"showbackground\":true,\"ticks\":\"\",\"zerolinecolor\":\"white\",\"gridwidth\":2},\"zaxis\":{\"backgroundcolor\":\"#E5ECF6\",\"gridcolor\":\"white\",\"linecolor\":\"white\",\"showbackground\":true,\"ticks\":\"\",\"zerolinecolor\":\"white\",\"gridwidth\":2}},\"shapedefaults\":{\"line\":{\"color\":\"#2a3f5f\"}},\"annotationdefaults\":{\"arrowcolor\":\"#2a3f5f\",\"arrowhead\":0,\"arrowwidth\":1},\"geo\":{\"bgcolor\":\"white\",\"landcolor\":\"#E5ECF6\",\"subunitcolor\":\"white\",\"showland\":true,\"showlakes\":true,\"lakecolor\":\"white\"},\"title\":{\"x\":0.05},\"mapbox\":{\"style\":\"light\"}}},\"scene\":{\"domain\":{\"x\":[0.0,1.0],\"y\":[0.0,1.0]},\"xaxis\":{\"title\":{\"text\":\"x\"}},\"yaxis\":{\"title\":{\"text\":\"y\"}},\"zaxis\":{\"title\":{\"text\":\"z\"}}},\"legend\":{\"title\":{\"text\":\"State\"},\"tracegroupgap\":0},\"margin\":{\"t\":60}},                        {\"responsive\": true}                    ).then(function(){\n",
       "                            \n",
       "var gd = document.getElementById('f63cfd41-dfc3-44c4-83e6-bf50c2c2f5de');\n",
       "var x = new MutationObserver(function (mutations, observer) {{\n",
       "        var display = window.getComputedStyle(gd).display;\n",
       "        if (!display || display === 'none') {{\n",
       "            console.log([gd, 'removed!']);\n",
       "            Plotly.purge(gd);\n",
       "            observer.disconnect();\n",
       "        }}\n",
       "}});\n",
       "\n",
       "// Listen for the removal of the full notebook cells\n",
       "var notebookContainer = gd.closest('#notebook-container');\n",
       "if (notebookContainer) {{\n",
       "    x.observe(notebookContainer, {childList: true});\n",
       "}}\n",
       "\n",
       "// Listen for the clearing of the current output cell\n",
       "var outputEl = gd.closest('.output');\n",
       "if (outputEl) {{\n",
       "    x.observe(outputEl, {childList: true});\n",
       "}}\n",
       "\n",
       "                        })                };                });            </script>        </div>"
      ]
     },
     "metadata": {},
     "output_type": "display_data"
    }
   ],
   "source": [
    "import plotly.express as px\n",
    "\n",
    "fig = px.scatter_3d(finalDf, x='x', y='y', z='z',\n",
    "              color='State')\n",
    "fig.show()"
   ]
  },
  {
   "cell_type": "code",
   "execution_count": 52,
   "id": "a6c0ea6e",
   "metadata": {},
   "outputs": [],
   "source": [
    "postalcodes = pd.DataFrame(pd.unique(data.postal_code),columns=['postal_code'])"
   ]
  },
  {
   "cell_type": "code",
   "execution_count": 67,
   "id": "7a3c4b5d",
   "metadata": {},
   "outputs": [],
   "source": [
    "postalcodes_list = []\n",
    "\n",
    "for index, row in postalcodes.iterrows():\n",
    "    postalcode = row[0].lower()\n",
    "    postalcodes_list.append(pd.concat([pd.Series(postalcode), pd.DataFrame(np.reshape(embeddings[t.word_index[postalcode],:],(1,20)))   ],axis=1))   "
   ]
  },
  {
   "cell_type": "code",
   "execution_count": 68,
   "id": "debdbf21",
   "metadata": {},
   "outputs": [],
   "source": [
    "postalcodes = pd.concat(postalcodes_list)\n",
    "postalcodes = postalcodes.reset_index(drop=True)"
   ]
  },
  {
   "cell_type": "code",
   "execution_count": 69,
   "id": "c8930b1b",
   "metadata": {},
   "outputs": [],
   "source": [
    "postalcodes.columns = range(postalcodes.columns.size)"
   ]
  },
  {
   "cell_type": "code",
   "execution_count": 70,
   "id": "68a4d2f0",
   "metadata": {},
   "outputs": [],
   "source": [
    "x = StandardScaler().fit_transform(postalcodes.iloc[:,1:-1].values)"
   ]
  },
  {
   "cell_type": "code",
   "execution_count": 72,
   "id": "1e534af9",
   "metadata": {},
   "outputs": [
    {
     "name": "stderr",
     "output_type": "stream",
     "text": [
      "C:\\Users\\jpalma3\\Anaconda3\\envs\\tensorflow\\lib\\site-packages\\sklearn\\manifold\\_t_sne.py:790: FutureWarning:\n",
      "\n",
      "The default learning rate in TSNE will change from 200.0 to 'auto' in 1.2.\n",
      "\n",
      "C:\\Users\\jpalma3\\Anaconda3\\envs\\tensorflow\\lib\\site-packages\\sklearn\\manifold\\_t_sne.py:982: FutureWarning:\n",
      "\n",
      "The PCA initialization in TSNE will change to have the standard deviation of PC1 equal to 1e-4 in 1.2. This will ensure better convergence.\n",
      "\n"
     ]
    }
   ],
   "source": [
    "#TSNE : Compressing the weights to 3 dimensions to plot the data\n",
    "tsne_model = TSNE(perplexity=40, n_components=3, init='pca', n_iter=2500, random_state=23)\n",
    "new_values = tsne_model.fit_transform(x)"
   ]
  },
  {
   "cell_type": "code",
   "execution_count": 73,
   "id": "bc775c74",
   "metadata": {},
   "outputs": [],
   "source": [
    "principalDf = pd.DataFrame(data = new_values\n",
    "             , columns = ['component 1', 'component 2', 'component 3'])"
   ]
  },
  {
   "cell_type": "code",
   "execution_count": 74,
   "id": "519b10bc",
   "metadata": {},
   "outputs": [
    {
     "data": {
      "text/html": [
       "<div>\n",
       "<style scoped>\n",
       "    .dataframe tbody tr th:only-of-type {\n",
       "        vertical-align: middle;\n",
       "    }\n",
       "\n",
       "    .dataframe tbody tr th {\n",
       "        vertical-align: top;\n",
       "    }\n",
       "\n",
       "    .dataframe thead th {\n",
       "        text-align: right;\n",
       "    }\n",
       "</style>\n",
       "<table border=\"1\" class=\"dataframe\">\n",
       "  <thead>\n",
       "    <tr style=\"text-align: right;\">\n",
       "      <th></th>\n",
       "      <th>component 1</th>\n",
       "      <th>component 2</th>\n",
       "      <th>component 3</th>\n",
       "    </tr>\n",
       "  </thead>\n",
       "  <tbody>\n",
       "    <tr>\n",
       "      <th>0</th>\n",
       "      <td>-6.042058</td>\n",
       "      <td>37.164200</td>\n",
       "      <td>-45.383648</td>\n",
       "    </tr>\n",
       "    <tr>\n",
       "      <th>1</th>\n",
       "      <td>-19.057133</td>\n",
       "      <td>18.453873</td>\n",
       "      <td>13.318251</td>\n",
       "    </tr>\n",
       "    <tr>\n",
       "      <th>2</th>\n",
       "      <td>-6.696831</td>\n",
       "      <td>45.710239</td>\n",
       "      <td>1.665204</td>\n",
       "    </tr>\n",
       "    <tr>\n",
       "      <th>3</th>\n",
       "      <td>36.231270</td>\n",
       "      <td>36.668354</td>\n",
       "      <td>37.621300</td>\n",
       "    </tr>\n",
       "    <tr>\n",
       "      <th>4</th>\n",
       "      <td>-0.741387</td>\n",
       "      <td>50.336079</td>\n",
       "      <td>-21.107321</td>\n",
       "    </tr>\n",
       "    <tr>\n",
       "      <th>...</th>\n",
       "      <td>...</td>\n",
       "      <td>...</td>\n",
       "      <td>...</td>\n",
       "    </tr>\n",
       "    <tr>\n",
       "      <th>41131</th>\n",
       "      <td>11.463096</td>\n",
       "      <td>54.772797</td>\n",
       "      <td>-5.244538</td>\n",
       "    </tr>\n",
       "    <tr>\n",
       "      <th>41132</th>\n",
       "      <td>6.330010</td>\n",
       "      <td>-76.985588</td>\n",
       "      <td>-1.255011</td>\n",
       "    </tr>\n",
       "    <tr>\n",
       "      <th>41133</th>\n",
       "      <td>6.381685</td>\n",
       "      <td>-26.371647</td>\n",
       "      <td>30.920942</td>\n",
       "    </tr>\n",
       "    <tr>\n",
       "      <th>41134</th>\n",
       "      <td>31.961596</td>\n",
       "      <td>-15.484950</td>\n",
       "      <td>36.837898</td>\n",
       "    </tr>\n",
       "    <tr>\n",
       "      <th>41135</th>\n",
       "      <td>62.854885</td>\n",
       "      <td>-28.657528</td>\n",
       "      <td>-2.298205</td>\n",
       "    </tr>\n",
       "  </tbody>\n",
       "</table>\n",
       "<p>41136 rows × 3 columns</p>\n",
       "</div>"
      ],
      "text/plain": [
       "       component 1  component 2  component 3\n",
       "0        -6.042058    37.164200   -45.383648\n",
       "1       -19.057133    18.453873    13.318251\n",
       "2        -6.696831    45.710239     1.665204\n",
       "3        36.231270    36.668354    37.621300\n",
       "4        -0.741387    50.336079   -21.107321\n",
       "...            ...          ...          ...\n",
       "41131    11.463096    54.772797    -5.244538\n",
       "41132     6.330010   -76.985588    -1.255011\n",
       "41133     6.381685   -26.371647    30.920942\n",
       "41134    31.961596   -15.484950    36.837898\n",
       "41135    62.854885   -28.657528    -2.298205\n",
       "\n",
       "[41136 rows x 3 columns]"
      ]
     },
     "execution_count": 74,
     "metadata": {},
     "output_type": "execute_result"
    }
   ],
   "source": [
    "principalDf"
   ]
  },
  {
   "cell_type": "code",
   "execution_count": 86,
   "id": "84b50391",
   "metadata": {},
   "outputs": [],
   "source": [
    "finalDf = pd.concat([principalDf, postalcodes.iloc[:,0]], axis = 1)\n",
    "finalDf.columns = ['x', 'y', 'z', 'postalcode']"
   ]
  },
  {
   "cell_type": "code",
   "execution_count": 100,
   "id": "764a2085",
   "metadata": {},
   "outputs": [],
   "source": [
    "finalDf = finalDf[finalDf['postalcode'].str.slice(start=0, stop=3) == '601']"
   ]
  },
  {
   "cell_type": "code",
   "execution_count": 101,
   "id": "2112a1bb",
   "metadata": {
    "scrolled": false
   },
   "outputs": [
    {
     "data": {
      "application/vnd.plotly.v1+json": {
       "config": {
        "plotlyServerURL": "https://plot.ly"
       },
       "data": [
        {
         "hovertemplate": "postalcode=60129<br>x=%{x}<br>y=%{y}<br>z=%{z}<extra></extra>",
         "legendgroup": "60129",
         "marker": {
          "color": "#636efa",
          "symbol": "circle"
         },
         "mode": "markers",
         "name": "60129",
         "scene": "scene",
         "showlegend": true,
         "type": "scatter3d",
         "x": [
          53.92708969116211
         ],
         "y": [
          5.82550573348999
         ],
         "z": [
          -16.901365280151367
         ]
        },
        {
         "hovertemplate": "postalcode=60126<br>x=%{x}<br>y=%{y}<br>z=%{z}<extra></extra>",
         "legendgroup": "60126",
         "marker": {
          "color": "#EF553B",
          "symbol": "circle"
         },
         "mode": "markers",
         "name": "60126",
         "scene": "scene",
         "showlegend": true,
         "type": "scatter3d",
         "x": [
          34.496944427490234
         ],
         "y": [
          26.396751403808594
         ],
         "z": [
          -13.7492094039917
         ]
        },
        {
         "hovertemplate": "postalcode=60128<br>x=%{x}<br>y=%{y}<br>z=%{z}<extra></extra>",
         "legendgroup": "60128",
         "marker": {
          "color": "#00cc96",
          "symbol": "circle"
         },
         "mode": "markers",
         "name": "60128",
         "scene": "scene",
         "showlegend": true,
         "type": "scatter3d",
         "x": [
          37.2064094543457
         ],
         "y": [
          -8.909449577331543
         ],
         "z": [
          -56.50948715209961
         ]
        },
        {
         "hovertemplate": "postalcode=60120<br>x=%{x}<br>y=%{y}<br>z=%{z}<extra></extra>",
         "legendgroup": "60120",
         "marker": {
          "color": "#ab63fa",
          "symbol": "circle"
         },
         "mode": "markers",
         "name": "60120",
         "scene": "scene",
         "showlegend": true,
         "type": "scatter3d",
         "x": [
          38.86289978027344
         ],
         "y": [
          27.294797897338867
         ],
         "z": [
          -19.743576049804688
         ]
        },
        {
         "hovertemplate": "postalcode=60121<br>x=%{x}<br>y=%{y}<br>z=%{z}<extra></extra>",
         "legendgroup": "60121",
         "marker": {
          "color": "#FFA15A",
          "symbol": "circle"
         },
         "mode": "markers",
         "name": "60121",
         "scene": "scene",
         "showlegend": true,
         "type": "scatter3d",
         "x": [
          50.3895378112793
         ],
         "y": [
          12.778276443481445
         ],
         "z": [
          15.758764266967773
         ]
        },
        {
         "hovertemplate": "postalcode=60122<br>x=%{x}<br>y=%{y}<br>z=%{z}<extra></extra>",
         "legendgroup": "60122",
         "marker": {
          "color": "#19d3f3",
          "symbol": "circle"
         },
         "mode": "markers",
         "name": "60122",
         "scene": "scene",
         "showlegend": true,
         "type": "scatter3d",
         "x": [
          50.31501007080078
         ],
         "y": [
          13.965511322021484
         ],
         "z": [
          10.278383255004883
         ]
        },
        {
         "hovertemplate": "postalcode=60123<br>x=%{x}<br>y=%{y}<br>z=%{z}<extra></extra>",
         "legendgroup": "60123",
         "marker": {
          "color": "#FF6692",
          "symbol": "circle"
         },
         "mode": "markers",
         "name": "60123",
         "scene": "scene",
         "showlegend": true,
         "type": "scatter3d",
         "x": [
          32.08064651489258
         ],
         "y": [
          41.73688507080078
         ],
         "z": [
          7.337017059326172
         ]
        },
        {
         "hovertemplate": "postalcode=60124<br>x=%{x}<br>y=%{y}<br>z=%{z}<extra></extra>",
         "legendgroup": "60124",
         "marker": {
          "color": "#B6E880",
          "symbol": "circle"
         },
         "mode": "markers",
         "name": "60124",
         "scene": "scene",
         "showlegend": true,
         "type": "scatter3d",
         "x": [
          38.31911087036133
         ],
         "y": [
          -1.1238384246826172
         ],
         "z": [
          -18.938032150268555
         ]
        }
       ],
       "layout": {
        "legend": {
         "title": {
          "text": "postalcode"
         },
         "tracegroupgap": 0
        },
        "margin": {
         "t": 60
        },
        "scene": {
         "domain": {
          "x": [
           0,
           1
          ],
          "y": [
           0,
           1
          ]
         },
         "xaxis": {
          "title": {
           "text": "x"
          }
         },
         "yaxis": {
          "title": {
           "text": "y"
          }
         },
         "zaxis": {
          "title": {
           "text": "z"
          }
         }
        },
        "template": {
         "data": {
          "bar": [
           {
            "error_x": {
             "color": "#2a3f5f"
            },
            "error_y": {
             "color": "#2a3f5f"
            },
            "marker": {
             "line": {
              "color": "#E5ECF6",
              "width": 0.5
             },
             "pattern": {
              "fillmode": "overlay",
              "size": 10,
              "solidity": 0.2
             }
            },
            "type": "bar"
           }
          ],
          "barpolar": [
           {
            "marker": {
             "line": {
              "color": "#E5ECF6",
              "width": 0.5
             },
             "pattern": {
              "fillmode": "overlay",
              "size": 10,
              "solidity": 0.2
             }
            },
            "type": "barpolar"
           }
          ],
          "carpet": [
           {
            "aaxis": {
             "endlinecolor": "#2a3f5f",
             "gridcolor": "white",
             "linecolor": "white",
             "minorgridcolor": "white",
             "startlinecolor": "#2a3f5f"
            },
            "baxis": {
             "endlinecolor": "#2a3f5f",
             "gridcolor": "white",
             "linecolor": "white",
             "minorgridcolor": "white",
             "startlinecolor": "#2a3f5f"
            },
            "type": "carpet"
           }
          ],
          "choropleth": [
           {
            "colorbar": {
             "outlinewidth": 0,
             "ticks": ""
            },
            "type": "choropleth"
           }
          ],
          "contour": [
           {
            "colorbar": {
             "outlinewidth": 0,
             "ticks": ""
            },
            "colorscale": [
             [
              0,
              "#0d0887"
             ],
             [
              0.1111111111111111,
              "#46039f"
             ],
             [
              0.2222222222222222,
              "#7201a8"
             ],
             [
              0.3333333333333333,
              "#9c179e"
             ],
             [
              0.4444444444444444,
              "#bd3786"
             ],
             [
              0.5555555555555556,
              "#d8576b"
             ],
             [
              0.6666666666666666,
              "#ed7953"
             ],
             [
              0.7777777777777778,
              "#fb9f3a"
             ],
             [
              0.8888888888888888,
              "#fdca26"
             ],
             [
              1,
              "#f0f921"
             ]
            ],
            "type": "contour"
           }
          ],
          "contourcarpet": [
           {
            "colorbar": {
             "outlinewidth": 0,
             "ticks": ""
            },
            "type": "contourcarpet"
           }
          ],
          "heatmap": [
           {
            "colorbar": {
             "outlinewidth": 0,
             "ticks": ""
            },
            "colorscale": [
             [
              0,
              "#0d0887"
             ],
             [
              0.1111111111111111,
              "#46039f"
             ],
             [
              0.2222222222222222,
              "#7201a8"
             ],
             [
              0.3333333333333333,
              "#9c179e"
             ],
             [
              0.4444444444444444,
              "#bd3786"
             ],
             [
              0.5555555555555556,
              "#d8576b"
             ],
             [
              0.6666666666666666,
              "#ed7953"
             ],
             [
              0.7777777777777778,
              "#fb9f3a"
             ],
             [
              0.8888888888888888,
              "#fdca26"
             ],
             [
              1,
              "#f0f921"
             ]
            ],
            "type": "heatmap"
           }
          ],
          "heatmapgl": [
           {
            "colorbar": {
             "outlinewidth": 0,
             "ticks": ""
            },
            "colorscale": [
             [
              0,
              "#0d0887"
             ],
             [
              0.1111111111111111,
              "#46039f"
             ],
             [
              0.2222222222222222,
              "#7201a8"
             ],
             [
              0.3333333333333333,
              "#9c179e"
             ],
             [
              0.4444444444444444,
              "#bd3786"
             ],
             [
              0.5555555555555556,
              "#d8576b"
             ],
             [
              0.6666666666666666,
              "#ed7953"
             ],
             [
              0.7777777777777778,
              "#fb9f3a"
             ],
             [
              0.8888888888888888,
              "#fdca26"
             ],
             [
              1,
              "#f0f921"
             ]
            ],
            "type": "heatmapgl"
           }
          ],
          "histogram": [
           {
            "marker": {
             "pattern": {
              "fillmode": "overlay",
              "size": 10,
              "solidity": 0.2
             }
            },
            "type": "histogram"
           }
          ],
          "histogram2d": [
           {
            "colorbar": {
             "outlinewidth": 0,
             "ticks": ""
            },
            "colorscale": [
             [
              0,
              "#0d0887"
             ],
             [
              0.1111111111111111,
              "#46039f"
             ],
             [
              0.2222222222222222,
              "#7201a8"
             ],
             [
              0.3333333333333333,
              "#9c179e"
             ],
             [
              0.4444444444444444,
              "#bd3786"
             ],
             [
              0.5555555555555556,
              "#d8576b"
             ],
             [
              0.6666666666666666,
              "#ed7953"
             ],
             [
              0.7777777777777778,
              "#fb9f3a"
             ],
             [
              0.8888888888888888,
              "#fdca26"
             ],
             [
              1,
              "#f0f921"
             ]
            ],
            "type": "histogram2d"
           }
          ],
          "histogram2dcontour": [
           {
            "colorbar": {
             "outlinewidth": 0,
             "ticks": ""
            },
            "colorscale": [
             [
              0,
              "#0d0887"
             ],
             [
              0.1111111111111111,
              "#46039f"
             ],
             [
              0.2222222222222222,
              "#7201a8"
             ],
             [
              0.3333333333333333,
              "#9c179e"
             ],
             [
              0.4444444444444444,
              "#bd3786"
             ],
             [
              0.5555555555555556,
              "#d8576b"
             ],
             [
              0.6666666666666666,
              "#ed7953"
             ],
             [
              0.7777777777777778,
              "#fb9f3a"
             ],
             [
              0.8888888888888888,
              "#fdca26"
             ],
             [
              1,
              "#f0f921"
             ]
            ],
            "type": "histogram2dcontour"
           }
          ],
          "mesh3d": [
           {
            "colorbar": {
             "outlinewidth": 0,
             "ticks": ""
            },
            "type": "mesh3d"
           }
          ],
          "parcoords": [
           {
            "line": {
             "colorbar": {
              "outlinewidth": 0,
              "ticks": ""
             }
            },
            "type": "parcoords"
           }
          ],
          "pie": [
           {
            "automargin": true,
            "type": "pie"
           }
          ],
          "scatter": [
           {
            "fillpattern": {
             "fillmode": "overlay",
             "size": 10,
             "solidity": 0.2
            },
            "type": "scatter"
           }
          ],
          "scatter3d": [
           {
            "line": {
             "colorbar": {
              "outlinewidth": 0,
              "ticks": ""
             }
            },
            "marker": {
             "colorbar": {
              "outlinewidth": 0,
              "ticks": ""
             }
            },
            "type": "scatter3d"
           }
          ],
          "scattercarpet": [
           {
            "marker": {
             "colorbar": {
              "outlinewidth": 0,
              "ticks": ""
             }
            },
            "type": "scattercarpet"
           }
          ],
          "scattergeo": [
           {
            "marker": {
             "colorbar": {
              "outlinewidth": 0,
              "ticks": ""
             }
            },
            "type": "scattergeo"
           }
          ],
          "scattergl": [
           {
            "marker": {
             "colorbar": {
              "outlinewidth": 0,
              "ticks": ""
             }
            },
            "type": "scattergl"
           }
          ],
          "scattermapbox": [
           {
            "marker": {
             "colorbar": {
              "outlinewidth": 0,
              "ticks": ""
             }
            },
            "type": "scattermapbox"
           }
          ],
          "scatterpolar": [
           {
            "marker": {
             "colorbar": {
              "outlinewidth": 0,
              "ticks": ""
             }
            },
            "type": "scatterpolar"
           }
          ],
          "scatterpolargl": [
           {
            "marker": {
             "colorbar": {
              "outlinewidth": 0,
              "ticks": ""
             }
            },
            "type": "scatterpolargl"
           }
          ],
          "scatterternary": [
           {
            "marker": {
             "colorbar": {
              "outlinewidth": 0,
              "ticks": ""
             }
            },
            "type": "scatterternary"
           }
          ],
          "surface": [
           {
            "colorbar": {
             "outlinewidth": 0,
             "ticks": ""
            },
            "colorscale": [
             [
              0,
              "#0d0887"
             ],
             [
              0.1111111111111111,
              "#46039f"
             ],
             [
              0.2222222222222222,
              "#7201a8"
             ],
             [
              0.3333333333333333,
              "#9c179e"
             ],
             [
              0.4444444444444444,
              "#bd3786"
             ],
             [
              0.5555555555555556,
              "#d8576b"
             ],
             [
              0.6666666666666666,
              "#ed7953"
             ],
             [
              0.7777777777777778,
              "#fb9f3a"
             ],
             [
              0.8888888888888888,
              "#fdca26"
             ],
             [
              1,
              "#f0f921"
             ]
            ],
            "type": "surface"
           }
          ],
          "table": [
           {
            "cells": {
             "fill": {
              "color": "#EBF0F8"
             },
             "line": {
              "color": "white"
             }
            },
            "header": {
             "fill": {
              "color": "#C8D4E3"
             },
             "line": {
              "color": "white"
             }
            },
            "type": "table"
           }
          ]
         },
         "layout": {
          "annotationdefaults": {
           "arrowcolor": "#2a3f5f",
           "arrowhead": 0,
           "arrowwidth": 1
          },
          "autotypenumbers": "strict",
          "coloraxis": {
           "colorbar": {
            "outlinewidth": 0,
            "ticks": ""
           }
          },
          "colorscale": {
           "diverging": [
            [
             0,
             "#8e0152"
            ],
            [
             0.1,
             "#c51b7d"
            ],
            [
             0.2,
             "#de77ae"
            ],
            [
             0.3,
             "#f1b6da"
            ],
            [
             0.4,
             "#fde0ef"
            ],
            [
             0.5,
             "#f7f7f7"
            ],
            [
             0.6,
             "#e6f5d0"
            ],
            [
             0.7,
             "#b8e186"
            ],
            [
             0.8,
             "#7fbc41"
            ],
            [
             0.9,
             "#4d9221"
            ],
            [
             1,
             "#276419"
            ]
           ],
           "sequential": [
            [
             0,
             "#0d0887"
            ],
            [
             0.1111111111111111,
             "#46039f"
            ],
            [
             0.2222222222222222,
             "#7201a8"
            ],
            [
             0.3333333333333333,
             "#9c179e"
            ],
            [
             0.4444444444444444,
             "#bd3786"
            ],
            [
             0.5555555555555556,
             "#d8576b"
            ],
            [
             0.6666666666666666,
             "#ed7953"
            ],
            [
             0.7777777777777778,
             "#fb9f3a"
            ],
            [
             0.8888888888888888,
             "#fdca26"
            ],
            [
             1,
             "#f0f921"
            ]
           ],
           "sequentialminus": [
            [
             0,
             "#0d0887"
            ],
            [
             0.1111111111111111,
             "#46039f"
            ],
            [
             0.2222222222222222,
             "#7201a8"
            ],
            [
             0.3333333333333333,
             "#9c179e"
            ],
            [
             0.4444444444444444,
             "#bd3786"
            ],
            [
             0.5555555555555556,
             "#d8576b"
            ],
            [
             0.6666666666666666,
             "#ed7953"
            ],
            [
             0.7777777777777778,
             "#fb9f3a"
            ],
            [
             0.8888888888888888,
             "#fdca26"
            ],
            [
             1,
             "#f0f921"
            ]
           ]
          },
          "colorway": [
           "#636efa",
           "#EF553B",
           "#00cc96",
           "#ab63fa",
           "#FFA15A",
           "#19d3f3",
           "#FF6692",
           "#B6E880",
           "#FF97FF",
           "#FECB52"
          ],
          "font": {
           "color": "#2a3f5f"
          },
          "geo": {
           "bgcolor": "white",
           "lakecolor": "white",
           "landcolor": "#E5ECF6",
           "showlakes": true,
           "showland": true,
           "subunitcolor": "white"
          },
          "hoverlabel": {
           "align": "left"
          },
          "hovermode": "closest",
          "mapbox": {
           "style": "light"
          },
          "paper_bgcolor": "white",
          "plot_bgcolor": "#E5ECF6",
          "polar": {
           "angularaxis": {
            "gridcolor": "white",
            "linecolor": "white",
            "ticks": ""
           },
           "bgcolor": "#E5ECF6",
           "radialaxis": {
            "gridcolor": "white",
            "linecolor": "white",
            "ticks": ""
           }
          },
          "scene": {
           "xaxis": {
            "backgroundcolor": "#E5ECF6",
            "gridcolor": "white",
            "gridwidth": 2,
            "linecolor": "white",
            "showbackground": true,
            "ticks": "",
            "zerolinecolor": "white"
           },
           "yaxis": {
            "backgroundcolor": "#E5ECF6",
            "gridcolor": "white",
            "gridwidth": 2,
            "linecolor": "white",
            "showbackground": true,
            "ticks": "",
            "zerolinecolor": "white"
           },
           "zaxis": {
            "backgroundcolor": "#E5ECF6",
            "gridcolor": "white",
            "gridwidth": 2,
            "linecolor": "white",
            "showbackground": true,
            "ticks": "",
            "zerolinecolor": "white"
           }
          },
          "shapedefaults": {
           "line": {
            "color": "#2a3f5f"
           }
          },
          "ternary": {
           "aaxis": {
            "gridcolor": "white",
            "linecolor": "white",
            "ticks": ""
           },
           "baxis": {
            "gridcolor": "white",
            "linecolor": "white",
            "ticks": ""
           },
           "bgcolor": "#E5ECF6",
           "caxis": {
            "gridcolor": "white",
            "linecolor": "white",
            "ticks": ""
           }
          },
          "title": {
           "x": 0.05
          },
          "xaxis": {
           "automargin": true,
           "gridcolor": "white",
           "linecolor": "white",
           "ticks": "",
           "title": {
            "standoff": 15
           },
           "zerolinecolor": "white",
           "zerolinewidth": 2
          },
          "yaxis": {
           "automargin": true,
           "gridcolor": "white",
           "linecolor": "white",
           "ticks": "",
           "title": {
            "standoff": 15
           },
           "zerolinecolor": "white",
           "zerolinewidth": 2
          }
         }
        }
       }
      },
      "text/html": [
       "<div>                            <div id=\"3ad66c51-e4de-4c04-b703-39a400a57b4c\" class=\"plotly-graph-div\" style=\"height:525px; width:100%;\"></div>            <script type=\"text/javascript\">                require([\"plotly\"], function(Plotly) {                    window.PLOTLYENV=window.PLOTLYENV || {};                                    if (document.getElementById(\"3ad66c51-e4de-4c04-b703-39a400a57b4c\")) {                    Plotly.newPlot(                        \"3ad66c51-e4de-4c04-b703-39a400a57b4c\",                        [{\"hovertemplate\":\"postalcode=60129<br>x=%{x}<br>y=%{y}<br>z=%{z}<extra></extra>\",\"legendgroup\":\"60129\",\"marker\":{\"color\":\"#636efa\",\"symbol\":\"circle\"},\"mode\":\"markers\",\"name\":\"60129\",\"scene\":\"scene\",\"showlegend\":true,\"x\":[53.92708969116211],\"y\":[5.82550573348999],\"z\":[-16.901365280151367],\"type\":\"scatter3d\"},{\"hovertemplate\":\"postalcode=60126<br>x=%{x}<br>y=%{y}<br>z=%{z}<extra></extra>\",\"legendgroup\":\"60126\",\"marker\":{\"color\":\"#EF553B\",\"symbol\":\"circle\"},\"mode\":\"markers\",\"name\":\"60126\",\"scene\":\"scene\",\"showlegend\":true,\"x\":[34.496944427490234],\"y\":[26.396751403808594],\"z\":[-13.7492094039917],\"type\":\"scatter3d\"},{\"hovertemplate\":\"postalcode=60128<br>x=%{x}<br>y=%{y}<br>z=%{z}<extra></extra>\",\"legendgroup\":\"60128\",\"marker\":{\"color\":\"#00cc96\",\"symbol\":\"circle\"},\"mode\":\"markers\",\"name\":\"60128\",\"scene\":\"scene\",\"showlegend\":true,\"x\":[37.2064094543457],\"y\":[-8.909449577331543],\"z\":[-56.50948715209961],\"type\":\"scatter3d\"},{\"hovertemplate\":\"postalcode=60120<br>x=%{x}<br>y=%{y}<br>z=%{z}<extra></extra>\",\"legendgroup\":\"60120\",\"marker\":{\"color\":\"#ab63fa\",\"symbol\":\"circle\"},\"mode\":\"markers\",\"name\":\"60120\",\"scene\":\"scene\",\"showlegend\":true,\"x\":[38.86289978027344],\"y\":[27.294797897338867],\"z\":[-19.743576049804688],\"type\":\"scatter3d\"},{\"hovertemplate\":\"postalcode=60121<br>x=%{x}<br>y=%{y}<br>z=%{z}<extra></extra>\",\"legendgroup\":\"60121\",\"marker\":{\"color\":\"#FFA15A\",\"symbol\":\"circle\"},\"mode\":\"markers\",\"name\":\"60121\",\"scene\":\"scene\",\"showlegend\":true,\"x\":[50.3895378112793],\"y\":[12.778276443481445],\"z\":[15.758764266967773],\"type\":\"scatter3d\"},{\"hovertemplate\":\"postalcode=60122<br>x=%{x}<br>y=%{y}<br>z=%{z}<extra></extra>\",\"legendgroup\":\"60122\",\"marker\":{\"color\":\"#19d3f3\",\"symbol\":\"circle\"},\"mode\":\"markers\",\"name\":\"60122\",\"scene\":\"scene\",\"showlegend\":true,\"x\":[50.31501007080078],\"y\":[13.965511322021484],\"z\":[10.278383255004883],\"type\":\"scatter3d\"},{\"hovertemplate\":\"postalcode=60123<br>x=%{x}<br>y=%{y}<br>z=%{z}<extra></extra>\",\"legendgroup\":\"60123\",\"marker\":{\"color\":\"#FF6692\",\"symbol\":\"circle\"},\"mode\":\"markers\",\"name\":\"60123\",\"scene\":\"scene\",\"showlegend\":true,\"x\":[32.08064651489258],\"y\":[41.73688507080078],\"z\":[7.337017059326172],\"type\":\"scatter3d\"},{\"hovertemplate\":\"postalcode=60124<br>x=%{x}<br>y=%{y}<br>z=%{z}<extra></extra>\",\"legendgroup\":\"60124\",\"marker\":{\"color\":\"#B6E880\",\"symbol\":\"circle\"},\"mode\":\"markers\",\"name\":\"60124\",\"scene\":\"scene\",\"showlegend\":true,\"x\":[38.31911087036133],\"y\":[-1.1238384246826172],\"z\":[-18.938032150268555],\"type\":\"scatter3d\"}],                        {\"template\":{\"data\":{\"histogram2dcontour\":[{\"type\":\"histogram2dcontour\",\"colorbar\":{\"outlinewidth\":0,\"ticks\":\"\"},\"colorscale\":[[0.0,\"#0d0887\"],[0.1111111111111111,\"#46039f\"],[0.2222222222222222,\"#7201a8\"],[0.3333333333333333,\"#9c179e\"],[0.4444444444444444,\"#bd3786\"],[0.5555555555555556,\"#d8576b\"],[0.6666666666666666,\"#ed7953\"],[0.7777777777777778,\"#fb9f3a\"],[0.8888888888888888,\"#fdca26\"],[1.0,\"#f0f921\"]]}],\"choropleth\":[{\"type\":\"choropleth\",\"colorbar\":{\"outlinewidth\":0,\"ticks\":\"\"}}],\"histogram2d\":[{\"type\":\"histogram2d\",\"colorbar\":{\"outlinewidth\":0,\"ticks\":\"\"},\"colorscale\":[[0.0,\"#0d0887\"],[0.1111111111111111,\"#46039f\"],[0.2222222222222222,\"#7201a8\"],[0.3333333333333333,\"#9c179e\"],[0.4444444444444444,\"#bd3786\"],[0.5555555555555556,\"#d8576b\"],[0.6666666666666666,\"#ed7953\"],[0.7777777777777778,\"#fb9f3a\"],[0.8888888888888888,\"#fdca26\"],[1.0,\"#f0f921\"]]}],\"heatmap\":[{\"type\":\"heatmap\",\"colorbar\":{\"outlinewidth\":0,\"ticks\":\"\"},\"colorscale\":[[0.0,\"#0d0887\"],[0.1111111111111111,\"#46039f\"],[0.2222222222222222,\"#7201a8\"],[0.3333333333333333,\"#9c179e\"],[0.4444444444444444,\"#bd3786\"],[0.5555555555555556,\"#d8576b\"],[0.6666666666666666,\"#ed7953\"],[0.7777777777777778,\"#fb9f3a\"],[0.8888888888888888,\"#fdca26\"],[1.0,\"#f0f921\"]]}],\"heatmapgl\":[{\"type\":\"heatmapgl\",\"colorbar\":{\"outlinewidth\":0,\"ticks\":\"\"},\"colorscale\":[[0.0,\"#0d0887\"],[0.1111111111111111,\"#46039f\"],[0.2222222222222222,\"#7201a8\"],[0.3333333333333333,\"#9c179e\"],[0.4444444444444444,\"#bd3786\"],[0.5555555555555556,\"#d8576b\"],[0.6666666666666666,\"#ed7953\"],[0.7777777777777778,\"#fb9f3a\"],[0.8888888888888888,\"#fdca26\"],[1.0,\"#f0f921\"]]}],\"contourcarpet\":[{\"type\":\"contourcarpet\",\"colorbar\":{\"outlinewidth\":0,\"ticks\":\"\"}}],\"contour\":[{\"type\":\"contour\",\"colorbar\":{\"outlinewidth\":0,\"ticks\":\"\"},\"colorscale\":[[0.0,\"#0d0887\"],[0.1111111111111111,\"#46039f\"],[0.2222222222222222,\"#7201a8\"],[0.3333333333333333,\"#9c179e\"],[0.4444444444444444,\"#bd3786\"],[0.5555555555555556,\"#d8576b\"],[0.6666666666666666,\"#ed7953\"],[0.7777777777777778,\"#fb9f3a\"],[0.8888888888888888,\"#fdca26\"],[1.0,\"#f0f921\"]]}],\"surface\":[{\"type\":\"surface\",\"colorbar\":{\"outlinewidth\":0,\"ticks\":\"\"},\"colorscale\":[[0.0,\"#0d0887\"],[0.1111111111111111,\"#46039f\"],[0.2222222222222222,\"#7201a8\"],[0.3333333333333333,\"#9c179e\"],[0.4444444444444444,\"#bd3786\"],[0.5555555555555556,\"#d8576b\"],[0.6666666666666666,\"#ed7953\"],[0.7777777777777778,\"#fb9f3a\"],[0.8888888888888888,\"#fdca26\"],[1.0,\"#f0f921\"]]}],\"mesh3d\":[{\"type\":\"mesh3d\",\"colorbar\":{\"outlinewidth\":0,\"ticks\":\"\"}}],\"scatter\":[{\"fillpattern\":{\"fillmode\":\"overlay\",\"size\":10,\"solidity\":0.2},\"type\":\"scatter\"}],\"parcoords\":[{\"type\":\"parcoords\",\"line\":{\"colorbar\":{\"outlinewidth\":0,\"ticks\":\"\"}}}],\"scatterpolargl\":[{\"type\":\"scatterpolargl\",\"marker\":{\"colorbar\":{\"outlinewidth\":0,\"ticks\":\"\"}}}],\"bar\":[{\"error_x\":{\"color\":\"#2a3f5f\"},\"error_y\":{\"color\":\"#2a3f5f\"},\"marker\":{\"line\":{\"color\":\"#E5ECF6\",\"width\":0.5},\"pattern\":{\"fillmode\":\"overlay\",\"size\":10,\"solidity\":0.2}},\"type\":\"bar\"}],\"scattergeo\":[{\"type\":\"scattergeo\",\"marker\":{\"colorbar\":{\"outlinewidth\":0,\"ticks\":\"\"}}}],\"scatterpolar\":[{\"type\":\"scatterpolar\",\"marker\":{\"colorbar\":{\"outlinewidth\":0,\"ticks\":\"\"}}}],\"histogram\":[{\"marker\":{\"pattern\":{\"fillmode\":\"overlay\",\"size\":10,\"solidity\":0.2}},\"type\":\"histogram\"}],\"scattergl\":[{\"type\":\"scattergl\",\"marker\":{\"colorbar\":{\"outlinewidth\":0,\"ticks\":\"\"}}}],\"scatter3d\":[{\"type\":\"scatter3d\",\"line\":{\"colorbar\":{\"outlinewidth\":0,\"ticks\":\"\"}},\"marker\":{\"colorbar\":{\"outlinewidth\":0,\"ticks\":\"\"}}}],\"scattermapbox\":[{\"type\":\"scattermapbox\",\"marker\":{\"colorbar\":{\"outlinewidth\":0,\"ticks\":\"\"}}}],\"scatterternary\":[{\"type\":\"scatterternary\",\"marker\":{\"colorbar\":{\"outlinewidth\":0,\"ticks\":\"\"}}}],\"scattercarpet\":[{\"type\":\"scattercarpet\",\"marker\":{\"colorbar\":{\"outlinewidth\":0,\"ticks\":\"\"}}}],\"carpet\":[{\"aaxis\":{\"endlinecolor\":\"#2a3f5f\",\"gridcolor\":\"white\",\"linecolor\":\"white\",\"minorgridcolor\":\"white\",\"startlinecolor\":\"#2a3f5f\"},\"baxis\":{\"endlinecolor\":\"#2a3f5f\",\"gridcolor\":\"white\",\"linecolor\":\"white\",\"minorgridcolor\":\"white\",\"startlinecolor\":\"#2a3f5f\"},\"type\":\"carpet\"}],\"table\":[{\"cells\":{\"fill\":{\"color\":\"#EBF0F8\"},\"line\":{\"color\":\"white\"}},\"header\":{\"fill\":{\"color\":\"#C8D4E3\"},\"line\":{\"color\":\"white\"}},\"type\":\"table\"}],\"barpolar\":[{\"marker\":{\"line\":{\"color\":\"#E5ECF6\",\"width\":0.5},\"pattern\":{\"fillmode\":\"overlay\",\"size\":10,\"solidity\":0.2}},\"type\":\"barpolar\"}],\"pie\":[{\"automargin\":true,\"type\":\"pie\"}]},\"layout\":{\"autotypenumbers\":\"strict\",\"colorway\":[\"#636efa\",\"#EF553B\",\"#00cc96\",\"#ab63fa\",\"#FFA15A\",\"#19d3f3\",\"#FF6692\",\"#B6E880\",\"#FF97FF\",\"#FECB52\"],\"font\":{\"color\":\"#2a3f5f\"},\"hovermode\":\"closest\",\"hoverlabel\":{\"align\":\"left\"},\"paper_bgcolor\":\"white\",\"plot_bgcolor\":\"#E5ECF6\",\"polar\":{\"bgcolor\":\"#E5ECF6\",\"angularaxis\":{\"gridcolor\":\"white\",\"linecolor\":\"white\",\"ticks\":\"\"},\"radialaxis\":{\"gridcolor\":\"white\",\"linecolor\":\"white\",\"ticks\":\"\"}},\"ternary\":{\"bgcolor\":\"#E5ECF6\",\"aaxis\":{\"gridcolor\":\"white\",\"linecolor\":\"white\",\"ticks\":\"\"},\"baxis\":{\"gridcolor\":\"white\",\"linecolor\":\"white\",\"ticks\":\"\"},\"caxis\":{\"gridcolor\":\"white\",\"linecolor\":\"white\",\"ticks\":\"\"}},\"coloraxis\":{\"colorbar\":{\"outlinewidth\":0,\"ticks\":\"\"}},\"colorscale\":{\"sequential\":[[0.0,\"#0d0887\"],[0.1111111111111111,\"#46039f\"],[0.2222222222222222,\"#7201a8\"],[0.3333333333333333,\"#9c179e\"],[0.4444444444444444,\"#bd3786\"],[0.5555555555555556,\"#d8576b\"],[0.6666666666666666,\"#ed7953\"],[0.7777777777777778,\"#fb9f3a\"],[0.8888888888888888,\"#fdca26\"],[1.0,\"#f0f921\"]],\"sequentialminus\":[[0.0,\"#0d0887\"],[0.1111111111111111,\"#46039f\"],[0.2222222222222222,\"#7201a8\"],[0.3333333333333333,\"#9c179e\"],[0.4444444444444444,\"#bd3786\"],[0.5555555555555556,\"#d8576b\"],[0.6666666666666666,\"#ed7953\"],[0.7777777777777778,\"#fb9f3a\"],[0.8888888888888888,\"#fdca26\"],[1.0,\"#f0f921\"]],\"diverging\":[[0,\"#8e0152\"],[0.1,\"#c51b7d\"],[0.2,\"#de77ae\"],[0.3,\"#f1b6da\"],[0.4,\"#fde0ef\"],[0.5,\"#f7f7f7\"],[0.6,\"#e6f5d0\"],[0.7,\"#b8e186\"],[0.8,\"#7fbc41\"],[0.9,\"#4d9221\"],[1,\"#276419\"]]},\"xaxis\":{\"gridcolor\":\"white\",\"linecolor\":\"white\",\"ticks\":\"\",\"title\":{\"standoff\":15},\"zerolinecolor\":\"white\",\"automargin\":true,\"zerolinewidth\":2},\"yaxis\":{\"gridcolor\":\"white\",\"linecolor\":\"white\",\"ticks\":\"\",\"title\":{\"standoff\":15},\"zerolinecolor\":\"white\",\"automargin\":true,\"zerolinewidth\":2},\"scene\":{\"xaxis\":{\"backgroundcolor\":\"#E5ECF6\",\"gridcolor\":\"white\",\"linecolor\":\"white\",\"showbackground\":true,\"ticks\":\"\",\"zerolinecolor\":\"white\",\"gridwidth\":2},\"yaxis\":{\"backgroundcolor\":\"#E5ECF6\",\"gridcolor\":\"white\",\"linecolor\":\"white\",\"showbackground\":true,\"ticks\":\"\",\"zerolinecolor\":\"white\",\"gridwidth\":2},\"zaxis\":{\"backgroundcolor\":\"#E5ECF6\",\"gridcolor\":\"white\",\"linecolor\":\"white\",\"showbackground\":true,\"ticks\":\"\",\"zerolinecolor\":\"white\",\"gridwidth\":2}},\"shapedefaults\":{\"line\":{\"color\":\"#2a3f5f\"}},\"annotationdefaults\":{\"arrowcolor\":\"#2a3f5f\",\"arrowhead\":0,\"arrowwidth\":1},\"geo\":{\"bgcolor\":\"white\",\"landcolor\":\"#E5ECF6\",\"subunitcolor\":\"white\",\"showland\":true,\"showlakes\":true,\"lakecolor\":\"white\"},\"title\":{\"x\":0.05},\"mapbox\":{\"style\":\"light\"}}},\"scene\":{\"domain\":{\"x\":[0.0,1.0],\"y\":[0.0,1.0]},\"xaxis\":{\"title\":{\"text\":\"x\"}},\"yaxis\":{\"title\":{\"text\":\"y\"}},\"zaxis\":{\"title\":{\"text\":\"z\"}}},\"legend\":{\"title\":{\"text\":\"postalcode\"},\"tracegroupgap\":0},\"margin\":{\"t\":60}},                        {\"responsive\": true}                    ).then(function(){\n",
       "                            \n",
       "var gd = document.getElementById('3ad66c51-e4de-4c04-b703-39a400a57b4c');\n",
       "var x = new MutationObserver(function (mutations, observer) {{\n",
       "        var display = window.getComputedStyle(gd).display;\n",
       "        if (!display || display === 'none') {{\n",
       "            console.log([gd, 'removed!']);\n",
       "            Plotly.purge(gd);\n",
       "            observer.disconnect();\n",
       "        }}\n",
       "}});\n",
       "\n",
       "// Listen for the removal of the full notebook cells\n",
       "var notebookContainer = gd.closest('#notebook-container');\n",
       "if (notebookContainer) {{\n",
       "    x.observe(notebookContainer, {childList: true});\n",
       "}}\n",
       "\n",
       "// Listen for the clearing of the current output cell\n",
       "var outputEl = gd.closest('.output');\n",
       "if (outputEl) {{\n",
       "    x.observe(outputEl, {childList: true});\n",
       "}}\n",
       "\n",
       "                        })                };                });            </script>        </div>"
      ]
     },
     "metadata": {},
     "output_type": "display_data"
    }
   ],
   "source": [
    "import plotly.express as px\n",
    "\n",
    "fig = px.scatter_3d(finalDf, x='x', y='y', z='z',\n",
    "              color='postalcode')\n",
    "fig.show()"
   ]
  },
  {
   "cell_type": "code",
   "execution_count": null,
   "id": "0e57d5a1",
   "metadata": {},
   "outputs": [],
   "source": []
  }
 ],
 "metadata": {
  "kernelspec": {
   "display_name": "Python 3 (ipykernel)",
   "language": "python",
   "name": "python3"
  },
  "language_info": {
   "codemirror_mode": {
    "name": "ipython",
    "version": 3
   },
   "file_extension": ".py",
   "mimetype": "text/x-python",
   "name": "python",
   "nbconvert_exporter": "python",
   "pygments_lexer": "ipython3",
   "version": "3.10.9"
  }
 },
 "nbformat": 4,
 "nbformat_minor": 5
}
