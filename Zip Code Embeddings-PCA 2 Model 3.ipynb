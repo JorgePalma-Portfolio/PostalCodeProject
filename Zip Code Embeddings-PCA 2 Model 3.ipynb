{
 "cells": [
  {
   "cell_type": "code",
   "execution_count": 2,
   "id": "6661cf68",
   "metadata": {},
   "outputs": [
    {
     "data": {
      "text/html": [
       "<style>.container { width:90% !important; }</style>"
      ],
      "text/plain": [
       "<IPython.core.display.HTML object>"
      ]
     },
     "metadata": {},
     "output_type": "display_data"
    },
    {
     "data": {
      "text/html": [
       "<style>div.output_area{max-height:10000px;overflow:scroll;}</style>"
      ],
      "text/plain": [
       "<IPython.core.display.HTML object>"
      ]
     },
     "metadata": {},
     "output_type": "display_data"
    },
    {
     "name": "stdout",
     "output_type": "stream",
     "text": [
      "Python: 3.9.12 (main, Apr  4 2022, 05:22:27) [MSC v.1916 64 bit (AMD64)]\n",
      "Notebook Last Run Initiated: 2022-06-13 16:06:30.975894\n"
     ]
    }
   ],
   "source": [
    "%load_ext autoreload\n",
    "%autoreload\n",
    "\n",
    "## This expands a notebook to full width\n",
    "from IPython.display import display, HTML\n",
    "\n",
    "display(HTML(\"<style>.container { width:90% !important; }</style>\"))\n",
    "display(HTML(\"\"\"<style>div.output_area{max-height:10000px;overflow:scroll;}</style>\"\"\"))\n",
    "## Show Python Version\n",
    "import sys\n",
    "print(\"Python: {0}\".format(sys.version))\n",
    "\n",
    "## Show Current Time\n",
    "import datetime as dt\n",
    "start = dt.datetime.now()\n",
    "print(\"Notebook Last Run Initiated: \"+str(start))"
   ]
  },
  {
   "cell_type": "code",
   "execution_count": 3,
   "id": "8108e7c5",
   "metadata": {},
   "outputs": [],
   "source": [
    "import numpy as np\n",
    "import pandas as pd\n",
    "\n",
    "import tensorflow as tf\n",
    "\n",
    "from tensorflow.keras.preprocessing.text import one_hot\n",
    "from tensorflow.keras.preprocessing.sequence import pad_sequences\n",
    "from tensorflow.keras.models import Sequential\n",
    "from tensorflow.keras.layers import Dense\n",
    "from tensorflow.keras.layers import Flatten\n",
    "from tensorflow.keras.layers import Embedding\n",
    "from tensorflow.keras.preprocessing.text import Tokenizer\n",
    "from tensorflow.keras.models import load_model\n",
    "from tensorflow.keras.models import Model\n",
    "\n",
    "from sklearn.metrics import mean_squared_error\n",
    "from sklearn.model_selection import GroupKFold\n",
    "from sklearn.metrics.pairwise import cosine_similarity\n",
    "\n",
    "from scipy.spatial.distance import cdist\n",
    "\n",
    "import matplotlib.pyplot as plt\n",
    "from sklearn.decomposition import PCA\n",
    "from sklearn.preprocessing import StandardScaler\n",
    "%matplotlib inline"
   ]
  },
  {
   "cell_type": "code",
   "execution_count": 105,
   "id": "655a7376",
   "metadata": {},
   "outputs": [],
   "source": [
    "# define documents\n",
    "data = pd.read_csv('data\\ZIP_TRACT_122021.csv',dtype={\n",
    "                     'zip': str,\n",
    "                     'tract': str,\n",
    "                     'usps_zip_pref_city': str,\n",
    "                     'usps_zip_pref_state': str,\n",
    "                     'res_ratio': float,\n",
    "                     'bus_ratio': float,\n",
    "                     'oth_ratio': float,\n",
    "                     'tot_ratio': float})\n",
    "\n",
    "geodata = pd.read_csv('data\\ZIP2LATLON_VER1.csv',dtype={\n",
    "                      'postal_code': str,\n",
    "                      'country_code': str,\n",
    "                      'place': str,\n",
    "                      'state': str,\n",
    "                      'statecode': str,\n",
    "                      'province_or_county': str,\n",
    "                      'province_or_countycode': str,\n",
    "                      'latitude': float,\n",
    "                      'longitude': float})\n",
    "\n",
    "geodata['postal_code'] = geodata['postal_code'].str.zfill(5)"
   ]
  },
  {
   "cell_type": "code",
   "execution_count": 106,
   "id": "3eefd86d",
   "metadata": {},
   "outputs": [],
   "source": [
    "data = pd.merge(data, geodata,  how='left', left_on=['zip'], right_on = ['postal_code'])\n",
    "data = data.drop(['res_ratio', 'bus_ratio', 'oth_ratio', 'postal_code','country_code', 'state', 'statecode', 'province_or_countycode', 'place'], axis=1)\n",
    "data = data.fillna(0)"
   ]
  },
  {
   "cell_type": "code",
   "execution_count": 107,
   "id": "6f0c549a",
   "metadata": {},
   "outputs": [],
   "source": [
    "data = data[['zip','tract','usps_zip_pref_city','usps_zip_pref_state','province_or_county','latitude','longitude','tot_ratio']]\n",
    "target = data['tot_ratio']\n",
    "ndata = data[['latitude','longitude']]"
   ]
  },
  {
   "cell_type": "code",
   "execution_count": 108,
   "id": "f01bd22c",
   "metadata": {},
   "outputs": [],
   "source": [
    "ndata = StandardScaler().fit_transform(ndata.values)"
   ]
  },
  {
   "cell_type": "code",
   "execution_count": 109,
   "id": "26da36c4",
   "metadata": {},
   "outputs": [],
   "source": [
    "docs = data.iloc[:,0:4].apply(lambda x: ' '.join(x), axis=1)"
   ]
  },
  {
   "cell_type": "code",
   "execution_count": 110,
   "id": "f6f6cde1",
   "metadata": {},
   "outputs": [],
   "source": [
    "# integer encode the documents\n",
    "vocab_size = 131322\n",
    "# create the tokenizer\n",
    "t = Tokenizer()\n",
    "# fit the tokenizer on the documents\n",
    "t.fit_on_texts(docs)"
   ]
  },
  {
   "cell_type": "code",
   "execution_count": 111,
   "id": "969994d8",
   "metadata": {},
   "outputs": [],
   "source": [
    "encoded_docs = t.texts_to_sequences(docs)"
   ]
  },
  {
   "cell_type": "code",
   "execution_count": 112,
   "id": "389e7801",
   "metadata": {},
   "outputs": [],
   "source": [
    "# pad documents to a max length of 4 words\n",
    "max_length = 4\n",
    "padded_docs = pad_sequences(encoded_docs, maxlen=max_length, padding='post')"
   ]
  },
  {
   "cell_type": "code",
   "execution_count": 113,
   "id": "3487f460",
   "metadata": {},
   "outputs": [],
   "source": [
    "def BuildModel(learning_rate):\n",
    "        \n",
    "    input_text  = tf.keras.layers.Input(shape=(max_length,),name='text')\n",
    "    input_float = tf.keras.layers.Input(shape=(2,),name='float')\n",
    "\n",
    "    n = tf.keras.layers.BatchNormalization()(input_float)\n",
    "    \n",
    "    x = tf.keras.layers.Embedding(vocab_size, 20, input_length=max_length,name='embeddings')(input_text)\n",
    "    x = tf.keras.layers.Flatten()(x)\n",
    "    x = tf.keras.layers.Concatenate(axis=1,name='concat')([n,x])\n",
    "    #x = tf.keras.layers.Dropout(0.2)(x)\n",
    "    x = tf.keras.layers.Dense(40, activation='relu',name='act01')(x)\n",
    "    output = tf.keras.layers.Dense(1, activation='linear',name='linear_output')(x)\n",
    "    \n",
    "    model = Model([input_text,input_float],output)\n",
    "    \n",
    "    model.compile(loss=\"mean_squared_error\", optimizer=tf.keras.optimizers.Adam(learning_rate = learning_rate))\n",
    "    return model"
   ]
  },
  {
   "cell_type": "code",
   "execution_count": 114,
   "id": "ff34bf44",
   "metadata": {
    "scrolled": true
   },
   "outputs": [
    {
     "name": "stdout",
     "output_type": "stream",
     "text": [
      "Epoch 1/250\n",
      "1346/1346 - 10s - loss: 0.0948 - lr: 0.0010 - 10s/epoch - 7ms/step\n",
      "Epoch 2/250\n",
      "1346/1346 - 9s - loss: 0.0609 - lr: 0.0010 - 9s/epoch - 7ms/step\n",
      "Epoch 3/250\n",
      "1346/1346 - 9s - loss: 0.0380 - lr: 0.0010 - 9s/epoch - 7ms/step\n",
      "Epoch 4/250\n",
      "1346/1346 - 9s - loss: 0.0248 - lr: 0.0010 - 9s/epoch - 7ms/step\n",
      "Epoch 5/250\n",
      "1346/1346 - 9s - loss: 0.0203 - lr: 0.0010 - 9s/epoch - 7ms/step\n",
      "Epoch 6/250\n",
      "1346/1346 - 9s - loss: 0.0187 - lr: 0.0010 - 9s/epoch - 7ms/step\n",
      "Epoch 7/250\n",
      "1346/1346 - 9s - loss: 0.0169 - lr: 0.0010 - 9s/epoch - 7ms/step\n",
      "Epoch 8/250\n",
      "1346/1346 - 9s - loss: 0.0148 - lr: 0.0010 - 9s/epoch - 7ms/step\n",
      "Epoch 9/250\n",
      "1346/1346 - 9s - loss: 0.0133 - lr: 0.0010 - 9s/epoch - 7ms/step\n",
      "Epoch 10/250\n",
      "1346/1346 - 9s - loss: 0.0127 - lr: 0.0010 - 9s/epoch - 7ms/step\n",
      "Epoch 11/250\n",
      "1346/1346 - 9s - loss: 0.0110 - lr: 0.0010 - 9s/epoch - 7ms/step\n",
      "Epoch 12/250\n",
      "1346/1346 - 9s - loss: 0.0112 - lr: 0.0010 - 9s/epoch - 7ms/step\n",
      "Epoch 13/250\n",
      "1346/1346 - 9s - loss: 0.0096 - lr: 0.0010 - 9s/epoch - 7ms/step\n",
      "Epoch 14/250\n",
      "1346/1346 - 9s - loss: 0.0096 - lr: 0.0010 - 9s/epoch - 7ms/step\n",
      "Epoch 15/250\n",
      "1346/1346 - 9s - loss: 0.0094 - lr: 0.0010 - 9s/epoch - 7ms/step\n",
      "Epoch 16/250\n",
      "1346/1346 - 9s - loss: 0.0079 - lr: 0.0010 - 9s/epoch - 7ms/step\n",
      "Epoch 17/250\n",
      "1346/1346 - 9s - loss: 0.0088 - lr: 0.0010 - 9s/epoch - 7ms/step\n",
      "Epoch 18/250\n",
      "1346/1346 - 10s - loss: 0.0079 - lr: 0.0010 - 10s/epoch - 7ms/step\n",
      "Epoch 19/250\n",
      "1346/1346 - 10s - loss: 0.0078 - lr: 0.0010 - 10s/epoch - 7ms/step\n",
      "Epoch 20/250\n",
      "1346/1346 - 9s - loss: 0.0075 - lr: 0.0010 - 9s/epoch - 7ms/step\n",
      "Epoch 21/250\n",
      "1346/1346 - 10s - loss: 0.0073 - lr: 0.0010 - 10s/epoch - 7ms/step\n",
      "Epoch 22/250\n",
      "1346/1346 - 9s - loss: 0.0069 - lr: 0.0010 - 9s/epoch - 7ms/step\n",
      "Epoch 23/250\n",
      "1346/1346 - 10s - loss: 0.0071 - lr: 0.0010 - 10s/epoch - 7ms/step\n",
      "Epoch 24/250\n",
      "1346/1346 - 9s - loss: 0.0064 - lr: 0.0010 - 9s/epoch - 7ms/step\n",
      "Epoch 25/250\n",
      "1346/1346 - 9s - loss: 0.0066 - lr: 0.0010 - 9s/epoch - 7ms/step\n",
      "Epoch 26/250\n",
      "1346/1346 - 9s - loss: 0.0060 - lr: 0.0010 - 9s/epoch - 7ms/step\n",
      "Epoch 27/250\n",
      "1346/1346 - 10s - loss: 0.0062 - lr: 0.0010 - 10s/epoch - 7ms/step\n",
      "Epoch 28/250\n",
      "1346/1346 - 9s - loss: 0.0062 - lr: 0.0010 - 9s/epoch - 7ms/step\n",
      "Epoch 29/250\n",
      "1346/1346 - 9s - loss: 0.0055 - lr: 0.0010 - 9s/epoch - 7ms/step\n",
      "Epoch 30/250\n",
      "1346/1346 - 9s - loss: 0.0059 - lr: 0.0010 - 9s/epoch - 7ms/step\n",
      "Epoch 31/250\n",
      "1346/1346 - 9s - loss: 0.0053 - lr: 0.0010 - 9s/epoch - 7ms/step\n",
      "Epoch 32/250\n",
      "1346/1346 - 9s - loss: 0.0058 - lr: 0.0010 - 9s/epoch - 7ms/step\n",
      "Epoch 33/250\n",
      "1346/1346 - 9s - loss: 0.0052 - lr: 0.0010 - 9s/epoch - 7ms/step\n",
      "Epoch 34/250\n",
      "1346/1346 - 9s - loss: 0.0051 - lr: 0.0010 - 9s/epoch - 7ms/step\n",
      "Epoch 35/250\n",
      "1346/1346 - 9s - loss: 0.0049 - lr: 0.0010 - 9s/epoch - 7ms/step\n",
      "Epoch 36/250\n",
      "1346/1346 - 9s - loss: 0.0047 - lr: 0.0010 - 9s/epoch - 7ms/step\n",
      "Epoch 37/250\n",
      "1346/1346 - 9s - loss: 0.0049 - lr: 0.0010 - 9s/epoch - 7ms/step\n",
      "Epoch 38/250\n",
      "1346/1346 - 10s - loss: 0.0048 - lr: 0.0010 - 10s/epoch - 7ms/step\n",
      "Epoch 39/250\n",
      "1346/1346 - 9s - loss: 0.0046 - lr: 0.0010 - 9s/epoch - 7ms/step\n",
      "Epoch 40/250\n",
      "1346/1346 - 10s - loss: 0.0046 - lr: 0.0010 - 10s/epoch - 7ms/step\n",
      "Epoch 41/250\n",
      "1346/1346 - 9s - loss: 0.0045 - lr: 0.0010 - 9s/epoch - 7ms/step\n",
      "Epoch 42/250\n",
      "1346/1346 - 9s - loss: 0.0046 - lr: 0.0010 - 9s/epoch - 7ms/step\n",
      "Epoch 43/250\n",
      "1346/1346 - 10s - loss: 0.0044 - lr: 0.0010 - 10s/epoch - 7ms/step\n",
      "Epoch 44/250\n",
      "1346/1346 - 9s - loss: 0.0045 - lr: 0.0010 - 9s/epoch - 7ms/step\n",
      "Epoch 45/250\n",
      "1346/1346 - 9s - loss: 0.0043 - lr: 0.0010 - 9s/epoch - 7ms/step\n",
      "Epoch 46/250\n",
      "1346/1346 - 9s - loss: 0.0043 - lr: 0.0010 - 9s/epoch - 7ms/step\n",
      "Epoch 47/250\n",
      "1346/1346 - 9s - loss: 0.0043 - lr: 0.0010 - 9s/epoch - 7ms/step\n",
      "Epoch 48/250\n",
      "1346/1346 - 9s - loss: 0.0044 - lr: 0.0010 - 9s/epoch - 7ms/step\n",
      "Epoch 49/250\n",
      "1346/1346 - 9s - loss: 0.0041 - lr: 0.0010 - 9s/epoch - 7ms/step\n",
      "Epoch 50/250\n",
      "1346/1346 - 9s - loss: 0.0042 - lr: 0.0010 - 9s/epoch - 7ms/step\n",
      "Epoch 51/250\n",
      "1346/1346 - 10s - loss: 0.0041 - lr: 0.0010 - 10s/epoch - 8ms/step\n",
      "Epoch 52/250\n",
      "1346/1346 - 10s - loss: 0.0040 - lr: 0.0010 - 10s/epoch - 7ms/step\n",
      "Epoch 53/250\n",
      "1346/1346 - 9s - loss: 0.0040 - lr: 0.0010 - 9s/epoch - 7ms/step\n",
      "Epoch 54/250\n",
      "1346/1346 - 9s - loss: 0.0040 - lr: 0.0010 - 9s/epoch - 7ms/step\n",
      "Epoch 55/250\n",
      "1346/1346 - 9s - loss: 0.0040 - lr: 0.0010 - 9s/epoch - 7ms/step\n",
      "Epoch 56/250\n",
      "1346/1346 - 9s - loss: 0.0037 - lr: 0.0010 - 9s/epoch - 7ms/step\n",
      "Epoch 57/250\n",
      "1346/1346 - 9s - loss: 0.0039 - lr: 0.0010 - 9s/epoch - 7ms/step\n",
      "Epoch 58/250\n",
      "1346/1346 - 9s - loss: 0.0036 - lr: 0.0010 - 9s/epoch - 7ms/step\n",
      "Epoch 59/250\n",
      "1346/1346 - 9s - loss: 0.0039 - lr: 0.0010 - 9s/epoch - 7ms/step\n",
      "Epoch 60/250\n",
      "1346/1346 - 9s - loss: 0.0037 - lr: 0.0010 - 9s/epoch - 7ms/step\n",
      "Epoch 61/250\n",
      "1346/1346 - 10s - loss: 0.0037 - lr: 0.0010 - 10s/epoch - 7ms/step\n",
      "Epoch 62/250\n",
      "1346/1346 - 11s - loss: 0.0041 - lr: 4.0000e-04 - 11s/epoch - 8ms/step\n",
      "Epoch 63/250\n",
      "1346/1346 - 10s - loss: 0.0027 - lr: 4.0000e-04 - 10s/epoch - 8ms/step\n",
      "Epoch 64/250\n",
      "1346/1346 - 10s - loss: 0.0022 - lr: 4.0000e-04 - 10s/epoch - 7ms/step\n",
      "Epoch 65/250\n",
      "1346/1346 - 10s - loss: 0.0020 - lr: 4.0000e-04 - 10s/epoch - 8ms/step\n",
      "Epoch 66/250\n",
      "1346/1346 - 10s - loss: 0.0020 - lr: 4.0000e-04 - 10s/epoch - 8ms/step\n",
      "Epoch 67/250\n",
      "1346/1346 - 10s - loss: 0.0020 - lr: 4.0000e-04 - 10s/epoch - 7ms/step\n",
      "Epoch 68/250\n",
      "1346/1346 - 10s - loss: 0.0020 - lr: 4.0000e-04 - 10s/epoch - 8ms/step\n",
      "Epoch 69/250\n",
      "1346/1346 - 11s - loss: 0.0020 - lr: 4.0000e-04 - 11s/epoch - 8ms/step\n",
      "Epoch 70/250\n",
      "1346/1346 - 13s - loss: 0.0020 - lr: 4.0000e-04 - 13s/epoch - 10ms/step\n",
      "Epoch 71/250\n",
      "1346/1346 - 13s - loss: 0.0029 - lr: 1.6000e-04 - 13s/epoch - 10ms/step\n",
      "Epoch 72/250\n",
      "1346/1346 - 12s - loss: 0.0026 - lr: 1.6000e-04 - 12s/epoch - 9ms/step\n",
      "Epoch 73/250\n",
      "1346/1346 - 10s - loss: 0.0024 - lr: 1.6000e-04 - 10s/epoch - 8ms/step\n",
      "Epoch 74/250\n",
      "1346/1346 - 10s - loss: 0.0023 - lr: 1.6000e-04 - 10s/epoch - 8ms/step\n",
      "Epoch 75/250\n",
      "1346/1346 - 10s - loss: 0.0022 - lr: 1.6000e-04 - 10s/epoch - 8ms/step\n",
      "Epoch 76/250\n",
      "1346/1346 - 10s - loss: 0.0025 - lr: 6.4000e-05 - 10s/epoch - 8ms/step\n"
     ]
    },
    {
     "data": {
      "text/plain": [
       "<keras.callbacks.History at 0x21357d66e50>"
      ]
     },
     "execution_count": 114,
     "metadata": {},
     "output_type": "execute_result"
    }
   ],
   "source": [
    "learning_rate = 1e-3\n",
    "n_epochs = 250\n",
    "\n",
    "model = BuildModel(learning_rate)\n",
    "        \n",
    "ckp_path = f'models/Model_02.hdf5'\n",
    "\n",
    "cb_lr_schedule = tf.keras.callbacks.ReduceLROnPlateau(monitor = 'loss', factor = 0.4, patience = 5, verbose = 0, min_delta = 0.0001, mode = 'min')\n",
    "        \n",
    "es = tf.keras.callbacks.EarlyStopping(monitor='loss', mode='min', verbose=0, patience=10, restore_best_weights=True)\n",
    "mc = tf.keras.callbacks.ModelCheckpoint(ckp_path, monitor='loss', mode='min', verbose=0, save_best_only=True, save_weights_only=True)\n",
    "        \n",
    "    #tb_cb = tf.keras.callbacks.TensorBoard(log_dir=\"logs\")\n",
    "\n",
    "# train the model\n",
    "model.fit([padded_docs,ndata],target,epochs=n_epochs, batch_size=128,\n",
    "          callbacks=[mc,cb_lr_schedule,es], shuffle=False,\n",
    "          workers=-1, use_multiprocessing=True, verbose=2)\n",
    "        \n"
   ]
  },
  {
   "cell_type": "code",
   "execution_count": 116,
   "id": "f3985bdd",
   "metadata": {},
   "outputs": [
    {
     "name": "stdout",
     "output_type": "stream",
     "text": [
      "5381/5381 - 9s - loss: 0.0291 - 9s/epoch - 2ms/step\n",
      "0.02914256975054741\n"
     ]
    }
   ],
   "source": [
    "# evaluate the model\n",
    "loss = model.evaluate([padded_docs,ndata], target, verbose=2)\n",
    "print(loss)"
   ]
  },
  {
   "cell_type": "code",
   "execution_count": 117,
   "id": "cb1bd3ea",
   "metadata": {},
   "outputs": [
    {
     "name": "stdout",
     "output_type": "stream",
     "text": [
      "Model: \"model_5\"\n",
      "__________________________________________________________________________________________________\n",
      " Layer (type)                   Output Shape         Param #     Connected to                     \n",
      "==================================================================================================\n",
      " text (InputLayer)              [(None, 4)]          0           []                               \n",
      "                                                                                                  \n",
      " float (InputLayer)             [(None, 2)]          0           []                               \n",
      "                                                                                                  \n",
      " embeddings (Embedding)         (None, 4, 20)        2626440     ['text[0][0]']                   \n",
      "                                                                                                  \n",
      " batch_normalization_6 (BatchNo  (None, 2)           8           ['float[0][0]']                  \n",
      " rmalization)                                                                                     \n",
      "                                                                                                  \n",
      " flatten_6 (Flatten)            (None, 80)           0           ['embeddings[0][0]']             \n",
      "                                                                                                  \n",
      " concat (Concatenate)           (None, 82)           0           ['batch_normalization_6[0][0]',  \n",
      "                                                                  'flatten_6[0][0]']              \n",
      "                                                                                                  \n",
      " act01 (Dense)                  (None, 40)           3320        ['concat[0][0]']                 \n",
      "                                                                                                  \n",
      " linear_output (Dense)          (None, 1)            41          ['act01[0][0]']                  \n",
      "                                                                                                  \n",
      "==================================================================================================\n",
      "Total params: 2,629,809\n",
      "Trainable params: 2,629,805\n",
      "Non-trainable params: 4\n",
      "__________________________________________________________________________________________________\n"
     ]
    }
   ],
   "source": [
    "model.summary()"
   ]
  },
  {
   "cell_type": "code",
   "execution_count": 118,
   "id": "90ce366b",
   "metadata": {},
   "outputs": [],
   "source": [
    "embedding_layer = model.get_layer('embeddings')"
   ]
  },
  {
   "cell_type": "code",
   "execution_count": 119,
   "id": "9c7ea21e",
   "metadata": {},
   "outputs": [],
   "source": [
    "embeddings = embedding_layer.get_weights()[0]"
   ]
  },
  {
   "cell_type": "code",
   "execution_count": 120,
   "id": "e69b3475",
   "metadata": {},
   "outputs": [],
   "source": [
    "np.savetxt(\"embeddings_model3.csv\", embeddings, delimiter=\",\")"
   ]
  },
  {
   "cell_type": "code",
   "execution_count": 121,
   "id": "17206d80",
   "metadata": {},
   "outputs": [
    {
     "data": {
      "text/plain": [
       "array([-0.05331505,  0.31715432, -0.01677282,  0.13675012, -0.0207196 ,\n",
       "       -0.155846  ,  0.19207096,  0.2805058 , -0.03249141, -0.42619672,\n",
       "        0.30113244, -0.17950575, -0.32420534,  0.18050355,  0.06761418,\n",
       "        0.20329346, -0.03852167, -0.00806461,  0.11836513, -0.20754945],\n",
       "      dtype=float32)"
      ]
     },
     "execution_count": 121,
     "metadata": {},
     "output_type": "execute_result"
    }
   ],
   "source": [
    "embeddings[t.word_index['60126'],:]"
   ]
  },
  {
   "cell_type": "code",
   "execution_count": 138,
   "id": "77c611b0",
   "metadata": {},
   "outputs": [
    {
     "data": {
      "text/plain": [
       "0.30922157"
      ]
     },
     "execution_count": 138,
     "metadata": {},
     "output_type": "execute_result"
    }
   ],
   "source": [
    "cosine_similarity(np.reshape(embeddings[t.word_index['60126'],:],(1,20)),np.reshape(embeddings[t.word_index['68823'],:],(1,20)))[0][0]"
   ]
  },
  {
   "cell_type": "code",
   "execution_count": 137,
   "id": "08750361",
   "metadata": {},
   "outputs": [
    {
     "data": {
      "text/plain": [
       "0.23714384742126016"
      ]
     },
     "execution_count": 137,
     "metadata": {},
     "output_type": "execute_result"
    }
   ],
   "source": [
    "1. - cdist(np.reshape(embeddings[t.word_index['60126'],:],(1,20)), np.reshape(embeddings[t.word_index['60164'],:],(1,20)), 'cosine')[0][0]"
   ]
  },
  {
   "cell_type": "code",
   "execution_count": 124,
   "id": "99c6c8ac",
   "metadata": {},
   "outputs": [],
   "source": [
    "states = pd.DataFrame(pd.unique(data.usps_zip_pref_state),columns=['states'])"
   ]
  },
  {
   "cell_type": "code",
   "execution_count": 125,
   "id": "e086956a",
   "metadata": {},
   "outputs": [],
   "source": [
    "states_list = []\n",
    "\n",
    "for index, row in states.iterrows():\n",
    "    state = row[0].lower()\n",
    "    states_list.append(pd.concat([pd.Series(state), pd.DataFrame(np.reshape(embeddings[t.word_index[state],:],(1,20)))   ],axis=1))   "
   ]
  },
  {
   "cell_type": "code",
   "execution_count": 126,
   "id": "e4881ad1",
   "metadata": {},
   "outputs": [],
   "source": [
    "states = pd.concat(states_list)\n",
    "states = states.reset_index(drop=True)"
   ]
  },
  {
   "cell_type": "code",
   "execution_count": 127,
   "id": "2b6ef199",
   "metadata": {
    "scrolled": false
   },
   "outputs": [],
   "source": [
    "states.columns = range(states.columns.size)"
   ]
  },
  {
   "cell_type": "code",
   "execution_count": 128,
   "id": "11494cf5",
   "metadata": {},
   "outputs": [],
   "source": [
    "x = StandardScaler().fit_transform(states.iloc[:,1:-1].values)"
   ]
  },
  {
   "cell_type": "code",
   "execution_count": 129,
   "id": "55a000bf",
   "metadata": {},
   "outputs": [],
   "source": [
    "pca = PCA(n_components=2)"
   ]
  },
  {
   "cell_type": "code",
   "execution_count": 130,
   "id": "8c4a7f2f",
   "metadata": {},
   "outputs": [],
   "source": [
    "principalComponents = pca.fit_transform(x)"
   ]
  },
  {
   "cell_type": "code",
   "execution_count": 131,
   "id": "a09a2021",
   "metadata": {},
   "outputs": [],
   "source": [
    "principalDf = pd.DataFrame(data = principalComponents\n",
    "             , columns = ['principal component 1', 'principal component 2'])"
   ]
  },
  {
   "cell_type": "code",
   "execution_count": 132,
   "id": "d7d55113",
   "metadata": {},
   "outputs": [],
   "source": [
    "finalDf = pd.concat([principalDf, states.iloc[:,0]], axis = 1)\n",
    "finalDf.columns = ['principal component 1', 'principal component 2', 'State']"
   ]
  },
  {
   "cell_type": "code",
   "execution_count": 133,
   "id": "322c96a3",
   "metadata": {
    "scrolled": false
   },
   "outputs": [
    {
     "data": {
      "image/png": "[encoded data removed]",
      "text/plain": [
       "<Figure size 864x864 with 1 Axes>"
      ]
     },
     "metadata": {
      "needs_background": "light"
     },
     "output_type": "display_data"
    }
   ],
   "source": [
    "fig = plt.figure(figsize = (12,12))\n",
    "ax = fig.add_subplot(1,1,1) \n",
    "ax.set_xlabel('Principal Component 1', fontsize = 15)\n",
    "ax.set_ylabel('Principal Component 2', fontsize = 15)\n",
    "ax.set_title('2 Component PCA', fontsize = 20)\n",
    "\n",
    "plt.scatter(finalDf.iloc[:,0], finalDf.iloc[:,1], c=np.arctan2(finalDf.iloc[:,0], finalDf.iloc[:,1]),cmap='rainbow', s=50, alpha=0.5)\n",
    "\n",
    "ax.grid()\n",
    "\n",
    "for i, txt in enumerate(finalDf.iloc[:,2]):\n",
    "    ax.annotate(txt, (finalDf.iloc[i,0], finalDf.iloc[i,1]),fontsize=15)\n"
   ]
  },
  {
   "cell_type": "code",
   "execution_count": null,
   "id": "02e969cf",
   "metadata": {},
   "outputs": [],
   "source": []
  }
 ],
 "metadata": {
  "kernelspec": {
   "display_name": "Python 3 (ipykernel)",
   "language": "python",
   "name": "python3"
  },
  "language_info": {
   "codemirror_mode": {
    "name": "ipython",
    "version": 3
   },
   "file_extension": ".py",
   "mimetype": "text/x-python",
   "name": "python",
   "nbconvert_exporter": "python",
   "pygments_lexer": "ipython3",
   "version": "3.9.12"
  }
 },
 "nbformat": 4,
 "nbformat_minor": 5
}
