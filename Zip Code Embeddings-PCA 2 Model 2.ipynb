{
 "cells": [
  {
   "cell_type": "code",
   "execution_count": 1,
   "id": "4139872a",
   "metadata": {},
   "outputs": [
    {
     "data": {
      "text/html": [
       "<style>.container { width:90% !important; }</style>"
      ],
      "text/plain": [
       "<IPython.core.display.HTML object>"
      ]
     },
     "metadata": {},
     "output_type": "display_data"
    },
    {
     "data": {
      "text/html": [
       "<style>div.output_area{max-height:10000px;overflow:scroll;}</style>"
      ],
      "text/plain": [
       "<IPython.core.display.HTML object>"
      ]
     },
     "metadata": {},
     "output_type": "display_data"
    },
    {
     "name": "stdout",
     "output_type": "stream",
     "text": [
      "Python: 3.9.12 (main, Apr  4 2022, 05:22:27) [MSC v.1916 64 bit (AMD64)]\n",
      "Notebook Last Run Initiated: 2022-06-13 11:12:04.470144\n"
     ]
    }
   ],
   "source": [
    "%load_ext autoreload\n",
    "%autoreload\n",
    "\n",
    "## This expands a notebook to full width\n",
    "from IPython.display import display, HTML\n",
    "\n",
    "display(HTML(\"<style>.container { width:90% !important; }</style>\"))\n",
    "display(HTML(\"\"\"<style>div.output_area{max-height:10000px;overflow:scroll;}</style>\"\"\"))\n",
    "## Show Python Version\n",
    "import sys\n",
    "print(\"Python: {0}\".format(sys.version))\n",
    "\n",
    "## Show Current Time\n",
    "import datetime as dt\n",
    "start = dt.datetime.now()\n",
    "print(\"Notebook Last Run Initiated: \"+str(start))"
   ]
  },
  {
   "cell_type": "code",
   "execution_count": 68,
   "id": "8108e7c5",
   "metadata": {},
   "outputs": [],
   "source": [
    "import numpy as np\n",
    "import pandas as pd\n",
    "\n",
    "import tensorflow as tf\n",
    "\n",
    "from tensorflow.keras.preprocessing.text import one_hot\n",
    "from tensorflow.keras.preprocessing.sequence import pad_sequences\n",
    "from tensorflow.keras.models import Sequential\n",
    "from tensorflow.keras.layers import Dense\n",
    "from tensorflow.keras.layers import Flatten\n",
    "from tensorflow.keras.layers import Embedding\n",
    "from tensorflow.keras.preprocessing.text import Tokenizer\n",
    "from tensorflow.keras.models import load_model\n",
    "from tensorflow.keras.models import Model\n",
    "\n",
    "from sklearn.metrics import mean_squared_error\n",
    "from sklearn.model_selection import GroupKFold\n",
    "from sklearn.metrics.pairwise import cosine_similarity\n",
    "\n",
    "from scipy.spatial.distance import cdist\n",
    "\n",
    "import matplotlib.pyplot as plt\n",
    "from sklearn.decomposition import PCA\n",
    "from sklearn.preprocessing import StandardScaler\n",
    "%matplotlib inline"
   ]
  },
  {
   "cell_type": "code",
   "execution_count": 3,
   "id": "655a7376",
   "metadata": {},
   "outputs": [],
   "source": [
    "# define documents\n",
    "data = pd.read_csv('data\\ZIP_TRACT_122021.csv',dtype={\n",
    "                     'zip': str,\n",
    "                     'tract': str,\n",
    "                     'usps_zip_pref_city': str,\n",
    "                     'usps_zip_pref_state': str,\n",
    "                     'res_ratio': float,\n",
    "                     'bus_ratio': float,\n",
    "                     'oth_ratio': float,\n",
    "                     'tot_ratio': float})"
   ]
  },
  {
   "cell_type": "code",
   "execution_count": 4,
   "id": "26da36c4",
   "metadata": {},
   "outputs": [],
   "source": [
    "data = data.drop(['res_ratio', 'bus_ratio', 'oth_ratio'], axis=1)\n",
    "docs = data[['zip', 'tract',  'usps_zip_pref_city', 'usps_zip_pref_state']].apply(lambda x: ' '.join(x), axis=1)\n",
    "target = data['tot_ratio']"
   ]
  },
  {
   "cell_type": "code",
   "execution_count": 5,
   "id": "f6f6cde1",
   "metadata": {},
   "outputs": [],
   "source": [
    "# integer encode the documents\n",
    "vocab_size = 131322\n",
    "# create the tokenizer\n",
    "t = Tokenizer()\n",
    "# fit the tokenizer on the documents\n",
    "t.fit_on_texts(docs)"
   ]
  },
  {
   "cell_type": "code",
   "execution_count": 6,
   "id": "969994d8",
   "metadata": {},
   "outputs": [],
   "source": [
    "encoded_docs = t.texts_to_sequences(docs)"
   ]
  },
  {
   "cell_type": "code",
   "execution_count": 7,
   "id": "389e7801",
   "metadata": {},
   "outputs": [],
   "source": [
    "# pad documents to a max length of 4 words\n",
    "max_length = 4\n",
    "padded_docs = pad_sequences(encoded_docs, maxlen=max_length, padding='post')"
   ]
  },
  {
   "cell_type": "code",
   "execution_count": 8,
   "id": "443483da",
   "metadata": {},
   "outputs": [],
   "source": [
    "def BuildModel(learning_rate):\n",
    "        \n",
    "    input = tf.keras.layers.Input(shape=(max_length,))\n",
    "\n",
    "    x = tf.keras.layers.Embedding(vocab_size, 20, input_length=max_length,name='embeddings')(input)\n",
    "    x = tf.keras.layers.Flatten()(x)\n",
    "    #x = tf.keras.layers.Dropout(0.2)(x)\n",
    "    x = tf.keras.layers.Dense(40, activation='relu')(x)\n",
    "    output = tf.keras.layers.Dense(1, activation='linear')(x)\n",
    "    \n",
    "    model = Model(input,output)\n",
    "    \n",
    "    model.compile(loss=\"mean_squared_error\", optimizer=tf.keras.optimizers.Adam(learning_rate = learning_rate))\n",
    "    return model"
   ]
  },
  {
   "cell_type": "code",
   "execution_count": 9,
   "id": "c97fa076",
   "metadata": {
    "scrolled": true
   },
   "outputs": [
    {
     "name": "stdout",
     "output_type": "stream",
     "text": [
      "Epoch 1/250\n",
      "1346/1346 - 9s - loss: 0.0985 - lr: 0.0010 - 9s/epoch - 7ms/step\n",
      "Epoch 2/250\n",
      "1346/1346 - 9s - loss: 0.0637 - lr: 0.0010 - 9s/epoch - 6ms/step\n",
      "Epoch 3/250\n",
      "1346/1346 - 9s - loss: 0.0359 - lr: 0.0010 - 9s/epoch - 6ms/step\n",
      "Epoch 4/250\n",
      "1346/1346 - 9s - loss: 0.0213 - lr: 0.0010 - 9s/epoch - 6ms/step\n",
      "Epoch 5/250\n",
      "1346/1346 - 9s - loss: 0.0165 - lr: 0.0010 - 9s/epoch - 6ms/step\n",
      "Epoch 6/250\n",
      "1346/1346 - 9s - loss: 0.0153 - lr: 0.0010 - 9s/epoch - 6ms/step\n",
      "Epoch 7/250\n",
      "1346/1346 - 9s - loss: 0.0148 - lr: 0.0010 - 9s/epoch - 6ms/step\n",
      "Epoch 8/250\n",
      "1346/1346 - 9s - loss: 0.0143 - lr: 0.0010 - 9s/epoch - 6ms/step\n",
      "Epoch 9/250\n",
      "1346/1346 - 9s - loss: 0.0132 - lr: 0.0010 - 9s/epoch - 6ms/step\n",
      "Epoch 10/250\n",
      "1346/1346 - 9s - loss: 0.0114 - lr: 0.0010 - 9s/epoch - 6ms/step\n",
      "Epoch 11/250\n",
      "1346/1346 - 9s - loss: 0.0111 - lr: 0.0010 - 9s/epoch - 6ms/step\n",
      "Epoch 12/250\n",
      "1346/1346 - 9s - loss: 0.0105 - lr: 0.0010 - 9s/epoch - 6ms/step\n",
      "Epoch 13/250\n",
      "1346/1346 - 9s - loss: 0.0107 - lr: 0.0010 - 9s/epoch - 6ms/step\n",
      "Epoch 14/250\n",
      "1346/1346 - 9s - loss: 0.0089 - lr: 0.0010 - 9s/epoch - 6ms/step\n",
      "Epoch 15/250\n",
      "1346/1346 - 9s - loss: 0.0096 - lr: 0.0010 - 9s/epoch - 6ms/step\n",
      "Epoch 16/250\n",
      "1346/1346 - 9s - loss: 0.0086 - lr: 0.0010 - 9s/epoch - 6ms/step\n",
      "Epoch 17/250\n",
      "1346/1346 - 9s - loss: 0.0086 - lr: 0.0010 - 9s/epoch - 6ms/step\n",
      "Epoch 18/250\n",
      "1346/1346 - 9s - loss: 0.0084 - lr: 0.0010 - 9s/epoch - 6ms/step\n",
      "Epoch 19/250\n",
      "1346/1346 - 9s - loss: 0.0079 - lr: 0.0010 - 9s/epoch - 6ms/step\n",
      "Epoch 20/250\n",
      "1346/1346 - 9s - loss: 0.0075 - lr: 0.0010 - 9s/epoch - 6ms/step\n",
      "Epoch 21/250\n",
      "1346/1346 - 9s - loss: 0.0075 - lr: 0.0010 - 9s/epoch - 6ms/step\n",
      "Epoch 22/250\n",
      "1346/1346 - 9s - loss: 0.0071 - lr: 0.0010 - 9s/epoch - 6ms/step\n",
      "Epoch 23/250\n",
      "1346/1346 - 9s - loss: 0.0069 - lr: 0.0010 - 9s/epoch - 6ms/step\n",
      "Epoch 24/250\n",
      "1346/1346 - 9s - loss: 0.0066 - lr: 0.0010 - 9s/epoch - 6ms/step\n",
      "Epoch 25/250\n",
      "1346/1346 - 9s - loss: 0.0067 - lr: 0.0010 - 9s/epoch - 6ms/step\n",
      "Epoch 26/250\n",
      "1346/1346 - 9s - loss: 0.0063 - lr: 0.0010 - 9s/epoch - 6ms/step\n",
      "Epoch 27/250\n",
      "1346/1346 - 9s - loss: 0.0061 - lr: 0.0010 - 9s/epoch - 6ms/step\n",
      "Epoch 28/250\n",
      "1346/1346 - 9s - loss: 0.0062 - lr: 0.0010 - 9s/epoch - 6ms/step\n",
      "Epoch 29/250\n",
      "1346/1346 - 9s - loss: 0.0064 - lr: 0.0010 - 9s/epoch - 6ms/step\n",
      "Epoch 30/250\n",
      "1346/1346 - 9s - loss: 0.0059 - lr: 0.0010 - 9s/epoch - 6ms/step\n",
      "Epoch 31/250\n",
      "1346/1346 - 9s - loss: 0.0058 - lr: 0.0010 - 9s/epoch - 6ms/step\n",
      "Epoch 32/250\n",
      "1346/1346 - 9s - loss: 0.0055 - lr: 0.0010 - 9s/epoch - 6ms/step\n",
      "Epoch 33/250\n",
      "1346/1346 - 9s - loss: 0.0057 - lr: 0.0010 - 9s/epoch - 6ms/step\n",
      "Epoch 34/250\n",
      "1346/1346 - 9s - loss: 0.0057 - lr: 0.0010 - 9s/epoch - 6ms/step\n",
      "Epoch 35/250\n",
      "1346/1346 - 9s - loss: 0.0056 - lr: 0.0010 - 9s/epoch - 6ms/step\n",
      "Epoch 36/250\n",
      "1346/1346 - 9s - loss: 0.0057 - lr: 0.0010 - 9s/epoch - 6ms/step\n",
      "Epoch 37/250\n",
      "1346/1346 - 9s - loss: 0.0054 - lr: 0.0010 - 9s/epoch - 6ms/step\n",
      "Epoch 38/250\n",
      "1346/1346 - 9s - loss: 0.0054 - lr: 0.0010 - 9s/epoch - 6ms/step\n",
      "Epoch 39/250\n",
      "1346/1346 - 9s - loss: 0.0052 - lr: 0.0010 - 9s/epoch - 6ms/step\n",
      "Epoch 40/250\n",
      "1346/1346 - 9s - loss: 0.0054 - lr: 0.0010 - 9s/epoch - 6ms/step\n",
      "Epoch 41/250\n",
      "1346/1346 - 9s - loss: 0.0052 - lr: 0.0010 - 9s/epoch - 6ms/step\n",
      "Epoch 42/250\n",
      "1346/1346 - 9s - loss: 0.0051 - lr: 0.0010 - 9s/epoch - 6ms/step\n",
      "Epoch 43/250\n",
      "1346/1346 - 9s - loss: 0.0052 - lr: 0.0010 - 9s/epoch - 6ms/step\n",
      "Epoch 44/250\n",
      "1346/1346 - 9s - loss: 0.0053 - lr: 0.0010 - 9s/epoch - 6ms/step\n",
      "Epoch 45/250\n",
      "1346/1346 - 9s - loss: 0.0052 - lr: 0.0010 - 9s/epoch - 6ms/step\n",
      "Epoch 46/250\n",
      "1346/1346 - 9s - loss: 0.0050 - lr: 0.0010 - 9s/epoch - 6ms/step\n",
      "Epoch 47/250\n",
      "1346/1346 - 9s - loss: 0.0050 - lr: 0.0010 - 9s/epoch - 6ms/step\n",
      "Epoch 48/250\n",
      "1346/1346 - 9s - loss: 0.0048 - lr: 0.0010 - 9s/epoch - 6ms/step\n",
      "Epoch 49/250\n",
      "1346/1346 - 9s - loss: 0.0048 - lr: 0.0010 - 9s/epoch - 6ms/step\n",
      "Epoch 50/250\n",
      "1346/1346 - 9s - loss: 0.0047 - lr: 0.0010 - 9s/epoch - 6ms/step\n",
      "Epoch 51/250\n",
      "1346/1346 - 9s - loss: 0.0047 - lr: 0.0010 - 9s/epoch - 6ms/step\n",
      "Epoch 52/250\n",
      "1346/1346 - 9s - loss: 0.0046 - lr: 0.0010 - 9s/epoch - 6ms/step\n",
      "Epoch 53/250\n",
      "1346/1346 - 9s - loss: 0.0047 - lr: 0.0010 - 9s/epoch - 6ms/step\n",
      "Epoch 54/250\n",
      "1346/1346 - 9s - loss: 0.0045 - lr: 0.0010 - 9s/epoch - 6ms/step\n",
      "Epoch 55/250\n",
      "1346/1346 - 9s - loss: 0.0046 - lr: 0.0010 - 9s/epoch - 6ms/step\n",
      "Epoch 56/250\n",
      "1346/1346 - 9s - loss: 0.0046 - lr: 0.0010 - 9s/epoch - 6ms/step\n",
      "Epoch 57/250\n",
      "1346/1346 - 9s - loss: 0.0045 - lr: 0.0010 - 9s/epoch - 6ms/step\n",
      "Epoch 58/250\n",
      "1346/1346 - 9s - loss: 0.0046 - lr: 0.0010 - 9s/epoch - 6ms/step\n",
      "Epoch 59/250\n",
      "1346/1346 - 9s - loss: 0.0043 - lr: 0.0010 - 9s/epoch - 6ms/step\n",
      "Epoch 60/250\n",
      "1346/1346 - 9s - loss: 0.0043 - lr: 0.0010 - 9s/epoch - 6ms/step\n",
      "Epoch 61/250\n",
      "1346/1346 - 9s - loss: 0.0043 - lr: 0.0010 - 9s/epoch - 6ms/step\n",
      "Epoch 62/250\n",
      "1346/1346 - 9s - loss: 0.0043 - lr: 0.0010 - 9s/epoch - 6ms/step\n",
      "Epoch 63/250\n",
      "1346/1346 - 9s - loss: 0.0044 - lr: 0.0010 - 9s/epoch - 6ms/step\n",
      "Epoch 64/250\n",
      "1346/1346 - 9s - loss: 0.0042 - lr: 0.0010 - 9s/epoch - 6ms/step\n",
      "Epoch 65/250\n",
      "1346/1346 - 9s - loss: 0.0042 - lr: 0.0010 - 9s/epoch - 6ms/step\n",
      "Epoch 66/250\n",
      "1346/1346 - 9s - loss: 0.0041 - lr: 0.0010 - 9s/epoch - 7ms/step\n",
      "Epoch 67/250\n",
      "1346/1346 - 9s - loss: 0.0040 - lr: 0.0010 - 9s/epoch - 7ms/step\n",
      "Epoch 68/250\n",
      "1346/1346 - 9s - loss: 0.0041 - lr: 0.0010 - 9s/epoch - 7ms/step\n",
      "Epoch 69/250\n",
      "1346/1346 - 9s - loss: 0.0039 - lr: 0.0010 - 9s/epoch - 7ms/step\n",
      "Epoch 70/250\n",
      "1346/1346 - 10s - loss: 0.0040 - lr: 0.0010 - 10s/epoch - 7ms/step\n",
      "Epoch 71/250\n",
      "1346/1346 - 9s - loss: 0.0040 - lr: 0.0010 - 9s/epoch - 7ms/step\n",
      "Epoch 72/250\n",
      "1346/1346 - 9s - loss: 0.0040 - lr: 0.0010 - 9s/epoch - 7ms/step\n",
      "Epoch 73/250\n",
      "1346/1346 - 10s - loss: 0.0039 - lr: 0.0010 - 10s/epoch - 7ms/step\n",
      "Epoch 74/250\n",
      "1346/1346 - 9s - loss: 0.0039 - lr: 0.0010 - 9s/epoch - 7ms/step\n",
      "Epoch 75/250\n",
      "1346/1346 - 9s - loss: 0.0043 - lr: 4.0000e-04 - 9s/epoch - 7ms/step\n",
      "Epoch 76/250\n",
      "1346/1346 - 9s - loss: 0.0031 - lr: 4.0000e-04 - 9s/epoch - 7ms/step\n",
      "Epoch 77/250\n",
      "1346/1346 - 9s - loss: 0.0027 - lr: 4.0000e-04 - 9s/epoch - 7ms/step\n",
      "Epoch 78/250\n",
      "1346/1346 - 9s - loss: 0.0026 - lr: 4.0000e-04 - 9s/epoch - 7ms/step\n",
      "Epoch 79/250\n",
      "1346/1346 - 9s - loss: 0.0026 - lr: 4.0000e-04 - 9s/epoch - 7ms/step\n",
      "Epoch 80/250\n",
      "1346/1346 - 9s - loss: 0.0026 - lr: 4.0000e-04 - 9s/epoch - 7ms/step\n",
      "Epoch 81/250\n",
      "1346/1346 - 9s - loss: 0.0026 - lr: 4.0000e-04 - 9s/epoch - 7ms/step\n",
      "Epoch 82/250\n",
      "1346/1346 - 9s - loss: 0.0026 - lr: 4.0000e-04 - 9s/epoch - 6ms/step\n",
      "Epoch 83/250\n",
      "1346/1346 - 9s - loss: 0.0026 - lr: 4.0000e-04 - 9s/epoch - 7ms/step\n",
      "Epoch 84/250\n",
      "1346/1346 - 9s - loss: 0.0050 - lr: 1.6000e-04 - 9s/epoch - 6ms/step\n",
      "Epoch 85/250\n",
      "1346/1346 - 9s - loss: 0.0056 - lr: 1.6000e-04 - 9s/epoch - 7ms/step\n",
      "Epoch 86/250\n",
      "1346/1346 - 9s - loss: 0.0054 - lr: 1.6000e-04 - 9s/epoch - 7ms/step\n",
      "Epoch 87/250\n",
      "1346/1346 - 9s - loss: 0.0051 - lr: 1.6000e-04 - 9s/epoch - 7ms/step\n",
      "Epoch 88/250\n",
      "1346/1346 - 9s - loss: 0.0049 - lr: 1.6000e-04 - 9s/epoch - 7ms/step\n",
      "Epoch 89/250\n",
      "1346/1346 - 9s - loss: 0.0063 - lr: 6.4000e-05 - 9s/epoch - 7ms/step\n",
      "Epoch 90/250\n",
      "1346/1346 - 9s - loss: 0.0059 - lr: 6.4000e-05 - 9s/epoch - 7ms/step\n",
      "Epoch 91/250\n",
      "1346/1346 - 9s - loss: 0.0056 - lr: 6.4000e-05 - 9s/epoch - 7ms/step\n",
      "Epoch 92/250\n",
      "1346/1346 - 9s - loss: 0.0054 - lr: 6.4000e-05 - 9s/epoch - 7ms/step\n",
      "Epoch 93/250\n",
      "1346/1346 - 9s - loss: 0.0053 - lr: 6.4000e-05 - 9s/epoch - 7ms/step\n",
      "Epoch 94/250\n",
      "1346/1346 - 9s - loss: 0.0055 - lr: 2.5600e-05 - 9s/epoch - 7ms/step\n",
      "Epoch 95/250\n",
      "1346/1346 - 9s - loss: 0.0053 - lr: 2.5600e-05 - 9s/epoch - 7ms/step\n",
      "Epoch 96/250\n",
      "1346/1346 - 9s - loss: 0.0052 - lr: 2.5600e-05 - 9s/epoch - 7ms/step\n",
      "Epoch 97/250\n",
      "1346/1346 - 9s - loss: 0.0052 - lr: 2.5600e-05 - 9s/epoch - 7ms/step\n",
      "Epoch 98/250\n",
      "1346/1346 - 9s - loss: 0.0051 - lr: 2.5600e-05 - 9s/epoch - 7ms/step\n"
     ]
    },
    {
     "data": {
      "text/plain": [
       "<keras.callbacks.History at 0x1e5608efe20>"
      ]
     },
     "execution_count": 9,
     "metadata": {},
     "output_type": "execute_result"
    }
   ],
   "source": [
    "seed    = 2020\n",
    "learning_rate = 1e-3\n",
    "n_epochs = 250\n",
    "\n",
    "model = BuildModel(learning_rate)\n",
    "        \n",
    "ckp_path = f'models/Model_02.hdf5'\n",
    "\n",
    "cb_lr_schedule = tf.keras.callbacks.ReduceLROnPlateau(monitor = 'loss', factor = 0.4, patience = 5, verbose = 0, min_delta = 0.0001, mode = 'min')\n",
    "        \n",
    "es = tf.keras.callbacks.EarlyStopping(monitor='loss', mode='min', verbose=0, patience=10, restore_best_weights=True)\n",
    "mc = tf.keras.callbacks.ModelCheckpoint(ckp_path, monitor='loss', mode='min', verbose=0, save_best_only=True, save_weights_only=True)\n",
    "        \n",
    "    #tb_cb = tf.keras.callbacks.TensorBoard(log_dir=\"logs\")\n",
    "\n",
    "# train the model\n",
    "model.fit(padded_docs, target,epochs=n_epochs, batch_size=128,\n",
    "          callbacks=[mc,cb_lr_schedule,es], shuffle=False,\n",
    "          workers=-1, use_multiprocessing=True, verbose=2)\n",
    "        \n"
   ]
  },
  {
   "cell_type": "code",
   "execution_count": 10,
   "id": "f3985bdd",
   "metadata": {},
   "outputs": [
    {
     "name": "stdout",
     "output_type": "stream",
     "text": [
      "5381/5381 - 9s - loss: 0.0167 - 9s/epoch - 2ms/step\n",
      "0.01671091467142105\n"
     ]
    }
   ],
   "source": [
    "# evaluate the model\n",
    "loss = model.evaluate(padded_docs, target, verbose=2)\n",
    "print(loss)"
   ]
  },
  {
   "cell_type": "code",
   "execution_count": 11,
   "id": "93086a62",
   "metadata": {},
   "outputs": [
    {
     "name": "stdout",
     "output_type": "stream",
     "text": [
      "Model: \"model\"\n",
      "_________________________________________________________________\n",
      " Layer (type)                Output Shape              Param #   \n",
      "=================================================================\n",
      " input_1 (InputLayer)        [(None, 4)]               0         \n",
      "                                                                 \n",
      " embeddings (Embedding)      (None, 4, 20)             2626440   \n",
      "                                                                 \n",
      " flatten (Flatten)           (None, 80)                0         \n",
      "                                                                 \n",
      " dense (Dense)               (None, 40)                3240      \n",
      "                                                                 \n",
      " dense_1 (Dense)             (None, 1)                 41        \n",
      "                                                                 \n",
      "=================================================================\n",
      "Total params: 2,629,721\n",
      "Trainable params: 2,629,721\n",
      "Non-trainable params: 0\n",
      "_________________________________________________________________\n"
     ]
    }
   ],
   "source": [
    "model.summary()"
   ]
  },
  {
   "cell_type": "code",
   "execution_count": 13,
   "id": "90ce366b",
   "metadata": {},
   "outputs": [],
   "source": [
    "embedding_layer = model.get_layer('embeddings')"
   ]
  },
  {
   "cell_type": "code",
   "execution_count": 14,
   "id": "9c7ea21e",
   "metadata": {},
   "outputs": [],
   "source": [
    "embeddings = embedding_layer.get_weights()[0]"
   ]
  },
  {
   "cell_type": "code",
   "execution_count": 254,
   "id": "e69b3475",
   "metadata": {},
   "outputs": [],
   "source": [
    "np.savetxt(\"embeddings_model2.csv\", embeddings, delimiter=\",\")"
   ]
  },
  {
   "cell_type": "code",
   "execution_count": 33,
   "id": "550cf936",
   "metadata": {},
   "outputs": [
    {
     "data": {
      "text/plain": [
       "array([ 0.36566007, -0.3350207 , -0.14662737, -0.12282565, -0.12328343,\n",
       "       -0.31748104, -0.26673868, -0.45984527, -0.48807305,  0.28629866,\n",
       "       -0.07121971, -0.12267292, -0.16229902,  0.07068093,  0.0875076 ,\n",
       "        0.00798079,  0.27860463, -0.37240297,  0.23394644,  0.12110254],\n",
       "      dtype=float32)"
      ]
     },
     "execution_count": 33,
     "metadata": {},
     "output_type": "execute_result"
    }
   ],
   "source": [
    "embeddings[t.word_index['60126'],:]"
   ]
  },
  {
   "cell_type": "code",
   "execution_count": 64,
   "id": "c5af50da",
   "metadata": {},
   "outputs": [
    {
     "data": {
      "text/plain": [
       "0.99999994"
      ]
     },
     "execution_count": 64,
     "metadata": {},
     "output_type": "execute_result"
    }
   ],
   "source": [
    "cosine_similarity(np.reshape(embeddings[t.word_index['60126'],:],(1,20)),np.reshape(embeddings[t.word_index['60126'],:],(1,20)))[0][0]"
   ]
  },
  {
   "cell_type": "code",
   "execution_count": 66,
   "id": "30f84498",
   "metadata": {},
   "outputs": [
    {
     "data": {
      "text/plain": [
       "0.9999999999999999"
      ]
     },
     "execution_count": 66,
     "metadata": {},
     "output_type": "execute_result"
    }
   ],
   "source": [
    "1. - cdist(np.reshape(embeddings[t.word_index['60126'],:],(1,20)), np.reshape(embeddings[t.word_index['60126'],:],(1,20)), 'cosine')[0][0]"
   ]
  },
  {
   "cell_type": "code",
   "execution_count": 159,
   "id": "ecae2b7a",
   "metadata": {},
   "outputs": [],
   "source": [
    "states = pd.DataFrame(pd.unique(data.usps_zip_pref_state),columns=['states'])"
   ]
  },
  {
   "cell_type": "code",
   "execution_count": 181,
   "id": "1f58b45d",
   "metadata": {},
   "outputs": [],
   "source": [
    "states_list = []\n",
    "\n",
    "for index, row in states.iterrows():\n",
    "    state = row[0].lower()\n",
    "    states_list.append(pd.concat([pd.Series(state), pd.DataFrame(np.reshape(embeddings[t.word_index[state],:],(1,20)))   ],axis=1))   "
   ]
  },
  {
   "cell_type": "code",
   "execution_count": 200,
   "id": "f4c1bb71",
   "metadata": {},
   "outputs": [],
   "source": [
    "states = pd.concat(states_list)\n",
    "states = states.reset_index(drop=True)"
   ]
  },
  {
   "cell_type": "code",
   "execution_count": 205,
   "id": "d467088e",
   "metadata": {
    "scrolled": false
   },
   "outputs": [],
   "source": [
    "states.columns = range(states.columns.size)"
   ]
  },
  {
   "cell_type": "code",
   "execution_count": 209,
   "id": "1a7807b6",
   "metadata": {},
   "outputs": [],
   "source": [
    "x = StandardScaler().fit_transform(states.iloc[:,1:-1].values)"
   ]
  },
  {
   "cell_type": "code",
   "execution_count": 211,
   "id": "d2e0f604",
   "metadata": {},
   "outputs": [],
   "source": [
    "pca = PCA(n_components=2)"
   ]
  },
  {
   "cell_type": "code",
   "execution_count": 212,
   "id": "c335defe",
   "metadata": {},
   "outputs": [],
   "source": [
    "principalComponents = pca.fit_transform(x)"
   ]
  },
  {
   "cell_type": "code",
   "execution_count": 213,
   "id": "0f34e34e",
   "metadata": {},
   "outputs": [],
   "source": [
    "principalDf = pd.DataFrame(data = principalComponents\n",
    "             , columns = ['principal component 1', 'principal component 2'])"
   ]
  },
  {
   "cell_type": "code",
   "execution_count": 249,
   "id": "a590cbf2",
   "metadata": {},
   "outputs": [],
   "source": [
    "finalDf = pd.concat([principalDf, states.iloc[:,0]], axis = 1)\n",
    "finalDf.columns = ['principal component 1', 'principal component 2', 'State']"
   ]
  },
  {
   "cell_type": "code",
   "execution_count": 253,
   "id": "5d02a2b8",
   "metadata": {
    "scrolled": false
   },
   "outputs": [
    {
     "data": {
      "image/png": "[encoded data removed]",
      "text/plain": [
       "<Figure size 864x864 with 1 Axes>"
      ]
     },
     "metadata": {
      "needs_background": "light"
     },
     "output_type": "display_data"
    }
   ],
   "source": [
    "fig = plt.figure(figsize = (12,12))\n",
    "ax = fig.add_subplot(1,1,1) \n",
    "ax.set_xlabel('Principal Component 1', fontsize = 15)\n",
    "ax.set_ylabel('Principal Component 2', fontsize = 15)\n",
    "ax.set_title('2 Component PCA', fontsize = 20)\n",
    "\n",
    "plt.scatter(finalDf.iloc[:,0], finalDf.iloc[:,1], c=np.arctan2(finalDf.iloc[:,0], finalDf.iloc[:,1]),cmap='rainbow', s=50, alpha=0.5)\n",
    "\n",
    "ax.grid()\n",
    "\n",
    "for i, txt in enumerate(finalDf.iloc[:,2]):\n",
    "    ax.annotate(txt, (finalDf.iloc[i,0], finalDf.iloc[i,1]),fontsize=15)\n"
   ]
  },
  {
   "cell_type": "code",
   "execution_count": null,
   "id": "510e042f",
   "metadata": {},
   "outputs": [],
   "source": []
  }
 ],
 "metadata": {
  "kernelspec": {
   "display_name": "Python 3 (ipykernel)",
   "language": "python",
   "name": "python3"
  },
  "language_info": {
   "codemirror_mode": {
    "name": "ipython",
    "version": 3
   },
   "file_extension": ".py",
   "mimetype": "text/x-python",
   "name": "python",
   "nbconvert_exporter": "python",
   "pygments_lexer": "ipython3",
   "version": "3.9.12"
  }
 },
 "nbformat": 4,
 "nbformat_minor": 5
}
